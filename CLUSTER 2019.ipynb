{
  "cells": [
    {
      "cell_type": "code",
      "execution_count": 1,
      "metadata": {
        "id": "4gs1HYiRTPu1"
      },
      "outputs": [],
      "source": [
        "import numpy as np\n",
        "import pandas as pd\n"
      ]
    },
    {
      "cell_type": "code",
      "execution_count": 2,
      "metadata": {
        "colab": {
          "base_uri": "https://localhost:8080/",
          "height": 256
        },
        "id": "ZB5eiPkFVyBV",
        "outputId": "c9d1a578-69e3-4b85-cdca-25cf5080b01b"
      },
      "outputs": [
        {
          "data": {
            "text/html": [
              "<div>\n",
              "<style scoped>\n",
              "    .dataframe tbody tr th:only-of-type {\n",
              "        vertical-align: middle;\n",
              "    }\n",
              "\n",
              "    .dataframe tbody tr th {\n",
              "        vertical-align: top;\n",
              "    }\n",
              "\n",
              "    .dataframe thead th {\n",
              "        text-align: right;\n",
              "    }\n",
              "</style>\n",
              "<table border=\"1\" class=\"dataframe\">\n",
              "  <thead>\n",
              "    <tr style=\"text-align: right;\">\n",
              "      <th></th>\n",
              "      <th>PROVINSI</th>\n",
              "      <th>LajuPE</th>\n",
              "      <th>PersentaseTK</th>\n",
              "      <th>IPM</th>\n",
              "      <th>PersentasePenduduk</th>\n",
              "      <th>PersentaseEkspor</th>\n",
              "    </tr>\n",
              "  </thead>\n",
              "  <tbody>\n",
              "    <tr>\n",
              "      <th>0</th>\n",
              "      <td>ACEH</td>\n",
              "      <td>4.14</td>\n",
              "      <td>42.88</td>\n",
              "      <td>71.90</td>\n",
              "      <td>1.991781</td>\n",
              "      <td>1.166967</td>\n",
              "    </tr>\n",
              "    <tr>\n",
              "      <th>1</th>\n",
              "      <td>SUMATERA UTARA</td>\n",
              "      <td>5.22</td>\n",
              "      <td>45.00</td>\n",
              "      <td>71.74</td>\n",
              "      <td>5.484731</td>\n",
              "      <td>1.435534</td>\n",
              "    </tr>\n",
              "    <tr>\n",
              "      <th>2</th>\n",
              "      <td>SUMATERA BARAT</td>\n",
              "      <td>5.01</td>\n",
              "      <td>37.87</td>\n",
              "      <td>72.39</td>\n",
              "      <td>2.052925</td>\n",
              "      <td>0.696819</td>\n",
              "    </tr>\n",
              "    <tr>\n",
              "      <th>3</th>\n",
              "      <td>RIAU</td>\n",
              "      <td>2.81</td>\n",
              "      <td>47.78</td>\n",
              "      <td>73.00</td>\n",
              "      <td>2.560808</td>\n",
              "      <td>3.832282</td>\n",
              "    </tr>\n",
              "    <tr>\n",
              "      <th>4</th>\n",
              "      <td>JAMBI</td>\n",
              "      <td>4.37</td>\n",
              "      <td>42.94</td>\n",
              "      <td>71.26</td>\n",
              "      <td>1.336096</td>\n",
              "      <td>1.235603</td>\n",
              "    </tr>\n",
              "  </tbody>\n",
              "</table>\n",
              "</div>"
            ],
            "text/plain": [
              "         PROVINSI  LajuPE  PersentaseTK    IPM  PersentasePenduduk  \\\n",
              "0            ACEH    4.14         42.88  71.90            1.991781   \n",
              "1  SUMATERA UTARA    5.22         45.00  71.74            5.484731   \n",
              "2  SUMATERA BARAT    5.01         37.87  72.39            2.052925   \n",
              "3            RIAU    2.81         47.78  73.00            2.560808   \n",
              "4           JAMBI    4.37         42.94  71.26            1.336096   \n",
              "\n",
              "   PersentaseEkspor  \n",
              "0          1.166967  \n",
              "1          1.435534  \n",
              "2          0.696819  \n",
              "3          3.832282  \n",
              "4          1.235603  "
            ]
          },
          "execution_count": 2,
          "metadata": {},
          "output_type": "execute_result"
        }
      ],
      "source": [
        "#Membaca data\n",
        "ekonom = pd.read_csv(\"2019.csv\")\n",
        "ekonom.head()"
      ]
    },
    {
      "cell_type": "code",
      "execution_count": 3,
      "metadata": {
        "colab": {
          "base_uri": "https://localhost:8080/",
          "height": 0
        },
        "id": "Q1uerBrzWS2N",
        "outputId": "c98b5bff-700d-423b-e65e-1447d6d97e9d"
      },
      "outputs": [
        {
          "name": "stdout",
          "output_type": "stream",
          "text": [
            "<class 'pandas.core.frame.DataFrame'>\n",
            "RangeIndex: 34 entries, 0 to 33\n",
            "Data columns (total 6 columns):\n",
            " #   Column              Non-Null Count  Dtype  \n",
            "---  ------              --------------  -----  \n",
            " 0   PROVINSI            34 non-null     object \n",
            " 1   LajuPE              34 non-null     float64\n",
            " 2   PersentaseTK        34 non-null     float64\n",
            " 3   IPM                 34 non-null     float64\n",
            " 4   PersentasePenduduk  34 non-null     float64\n",
            " 5   PersentaseEkspor    34 non-null     float64\n",
            "dtypes: float64(5), object(1)\n",
            "memory usage: 1.7+ KB\n"
          ]
        }
      ],
      "source": [
        "#informasi data\n",
        "ekonom.info()\n"
      ]
    },
    {
      "cell_type": "markdown",
      "metadata": {
        "id": "JMkLdx-XWawA"
      },
      "source": [
        "#Data Preprocessing\n"
      ]
    },
    {
      "cell_type": "code",
      "execution_count": 4,
      "metadata": {
        "colab": {
          "base_uri": "https://localhost:8080/",
          "height": 0
        },
        "id": "PXV-Jxv9WZVM",
        "outputId": "f8797a97-db4e-4e13-9564-240f61b98f9b"
      },
      "outputs": [
        {
          "data": {
            "text/plain": [
              "Index(['PROVINSI', 'LajuPE', 'PersentaseTK', 'IPM', 'PersentasePenduduk',\n",
              "       'PersentaseEkspor'],\n",
              "      dtype='object')"
            ]
          },
          "execution_count": 4,
          "metadata": {},
          "output_type": "execute_result"
        }
      ],
      "source": [
        "#Menampilkan semua nama kolom\n",
        "ekonom.columns"
      ]
    },
    {
      "cell_type": "code",
      "execution_count": 5,
      "metadata": {
        "colab": {
          "base_uri": "https://localhost:8080/",
          "height": 0
        },
        "id": "pRBeWmr9X6WY",
        "outputId": "4014013e-dd37-4491-f1e6-052a1ffcdbda"
      },
      "outputs": [
        {
          "data": {
            "text/plain": [
              "PROVINSI              False\n",
              "LajuPE                False\n",
              "PersentaseTK          False\n",
              "IPM                   False\n",
              "PersentasePenduduk    False\n",
              "PersentaseEkspor      False\n",
              "dtype: bool"
            ]
          },
          "execution_count": 5,
          "metadata": {},
          "output_type": "execute_result"
        }
      ],
      "source": [
        "#Mengecek NA/NULL\n",
        "ekonom.isnull().any()"
      ]
    },
    {
      "cell_type": "code",
      "execution_count": 6,
      "metadata": {
        "colab": {
          "base_uri": "https://localhost:8080/",
          "height": 0
        },
        "id": "eHt7kx9oYCyD",
        "outputId": "f108b065-bef9-4965-d81f-81f8b584a154"
      },
      "outputs": [
        {
          "data": {
            "text/plain": [
              "(34, 6)"
            ]
          },
          "execution_count": 6,
          "metadata": {},
          "output_type": "execute_result"
        }
      ],
      "source": [
        "#Ukuran data\n",
        "ekonom.shape"
      ]
    },
    {
      "cell_type": "code",
      "execution_count": 7,
      "metadata": {
        "colab": {
          "base_uri": "https://localhost:8080/",
          "height": 320
        },
        "id": "Fo5hmN1GYIGE",
        "outputId": "b659cd27-a10b-4cbf-9652-07199efe1424"
      },
      "outputs": [
        {
          "data": {
            "text/html": [
              "<div>\n",
              "<style scoped>\n",
              "    .dataframe tbody tr th:only-of-type {\n",
              "        vertical-align: middle;\n",
              "    }\n",
              "\n",
              "    .dataframe tbody tr th {\n",
              "        vertical-align: top;\n",
              "    }\n",
              "\n",
              "    .dataframe thead th {\n",
              "        text-align: right;\n",
              "    }\n",
              "</style>\n",
              "<table border=\"1\" class=\"dataframe\">\n",
              "  <thead>\n",
              "    <tr style=\"text-align: right;\">\n",
              "      <th></th>\n",
              "      <th>LajuPE</th>\n",
              "      <th>PersentaseTK</th>\n",
              "      <th>IPM</th>\n",
              "      <th>PersentasePenduduk</th>\n",
              "      <th>PersentaseEkspor</th>\n",
              "    </tr>\n",
              "  </thead>\n",
              "  <tbody>\n",
              "    <tr>\n",
              "      <th>count</th>\n",
              "      <td>34.000000</td>\n",
              "      <td>34.000000</td>\n",
              "      <td>34.000000</td>\n",
              "      <td>34.000000</td>\n",
              "      <td>34.000000</td>\n",
              "    </tr>\n",
              "    <tr>\n",
              "      <th>mean</th>\n",
              "      <td>4.686471</td>\n",
              "      <td>43.417353</td>\n",
              "      <td>71.040294</td>\n",
              "      <td>2.941176</td>\n",
              "      <td>2.941176</td>\n",
              "    </tr>\n",
              "    <tr>\n",
              "      <th>std</th>\n",
              "      <td>3.805828</td>\n",
              "      <td>10.768911</td>\n",
              "      <td>3.913203</td>\n",
              "      <td>4.183463</td>\n",
              "      <td>7.466723</td>\n",
              "    </tr>\n",
              "    <tr>\n",
              "      <th>min</th>\n",
              "      <td>-15.750000</td>\n",
              "      <td>20.710000</td>\n",
              "      <td>60.840000</td>\n",
              "      <td>0.260610</td>\n",
              "      <td>0.007349</td>\n",
              "    </tr>\n",
              "    <tr>\n",
              "      <th>25%</th>\n",
              "      <td>4.765000</td>\n",
              "      <td>37.907500</td>\n",
              "      <td>69.462500</td>\n",
              "      <td>0.863478</td>\n",
              "      <td>0.156737</td>\n",
              "    </tr>\n",
              "    <tr>\n",
              "      <th>50%</th>\n",
              "      <td>5.275000</td>\n",
              "      <td>42.445000</td>\n",
              "      <td>71.235000</td>\n",
              "      <td>1.514526</td>\n",
              "      <td>1.187075</td>\n",
              "    </tr>\n",
              "    <tr>\n",
              "      <th>75%</th>\n",
              "      <td>5.787500</td>\n",
              "      <td>48.825000</td>\n",
              "      <td>72.300000</td>\n",
              "      <td>3.016716</td>\n",
              "      <td>2.344913</td>\n",
              "    </tr>\n",
              "    <tr>\n",
              "      <th>max</th>\n",
              "      <td>8.830000</td>\n",
              "      <td>70.430000</td>\n",
              "      <td>80.760000</td>\n",
              "      <td>18.366809</td>\n",
              "      <td>40.008575</td>\n",
              "    </tr>\n",
              "  </tbody>\n",
              "</table>\n",
              "</div>"
            ],
            "text/plain": [
              "          LajuPE  PersentaseTK        IPM  PersentasePenduduk  \\\n",
              "count  34.000000     34.000000  34.000000           34.000000   \n",
              "mean    4.686471     43.417353  71.040294            2.941176   \n",
              "std     3.805828     10.768911   3.913203            4.183463   \n",
              "min   -15.750000     20.710000  60.840000            0.260610   \n",
              "25%     4.765000     37.907500  69.462500            0.863478   \n",
              "50%     5.275000     42.445000  71.235000            1.514526   \n",
              "75%     5.787500     48.825000  72.300000            3.016716   \n",
              "max     8.830000     70.430000  80.760000           18.366809   \n",
              "\n",
              "       PersentaseEkspor  \n",
              "count         34.000000  \n",
              "mean           2.941176  \n",
              "std            7.466723  \n",
              "min            0.007349  \n",
              "25%            0.156737  \n",
              "50%            1.187075  \n",
              "75%            2.344913  \n",
              "max           40.008575  "
            ]
          },
          "execution_count": 7,
          "metadata": {},
          "output_type": "execute_result"
        }
      ],
      "source": [
        "#Deskripsi(stat des) data homefix untuk variabel numerik\n",
        "ekonom.describe()"
      ]
    },
    {
      "cell_type": "code",
      "execution_count": 8,
      "metadata": {},
      "outputs": [
        {
          "data": {
            "image/png": "[encoded data removed]",
            "text/plain": [
              "<Figure size 720x504 with 1 Axes>"
            ]
          },
          "metadata": {
            "needs_background": "light"
          },
          "output_type": "display_data"
        }
      ],
      "source": [
        "import matplotlib.pyplot as plt\n",
        "import seaborn as sns\n",
        "#set ukuran plot\n",
        "fig, ax = plt.subplots()\n",
        "fig.set_size_inches(10, 7)\n",
        "\n",
        "a = sns.barplot(x = \"LajuPE\", y = \"PROVINSI\", data = ekonom, palette = \"Blues_d\")\n",
        "\n",
        "#set label\n",
        "a.set_xlabel(\"Laju Pertumbuhan Ekonomi\", fontsize = 12)\n",
        "a.set_ylabel(\"Provinsi\", fontsize = 12)\n",
        "a.axes.set_title(\"Laju Pertumbuhan Ekonomi di Indonesia 2019\", fontsize=16)\n",
        "a.tick_params(labelsize = 9)\n",
        "\n",
        "#tampilkan plot\n",
        "plt.show()"
      ]
    },
    {
      "cell_type": "code",
      "execution_count": 9,
      "metadata": {},
      "outputs": [
        {
          "data": {
            "application/vnd.plotly.v1+json": {
              "config": {
                "plotlyServerURL": "https://plot.ly"
              },
              "data": [
                {
                  "alignmentgroup": "True",
                  "hovertemplate": "PROVINSI=%{x}<br>LajuPE=%{text}<extra></extra>",
                  "legendgroup": "SUMATERA UTARA",
                  "marker": {
                    "color": "#636efa",
                    "pattern": {
                      "shape": ""
                    }
                  },
                  "name": "SUMATERA UTARA",
                  "offsetgroup": "SUMATERA UTARA",
                  "orientation": "v",
                  "showlegend": true,
                  "text": [
                    5.22
                  ],
                  "textposition": "outside",
                  "texttemplate": "%{text:.2s}",
                  "type": "bar",
                  "x": [
                    "SUMATERA UTARA"
                  ],
                  "xaxis": "x",
                  "y": [
                    5.22
                  ],
                  "yaxis": "y"
                },
                {
                  "alignmentgroup": "True",
                  "hovertemplate": "PROVINSI=%{x}<br>LajuPE=%{text}<extra></extra>",
                  "legendgroup": "SUMATERA BARAT",
                  "marker": {
                    "color": "#EF553B",
                    "pattern": {
                      "shape": ""
                    }
                  },
                  "name": "SUMATERA BARAT",
                  "offsetgroup": "SUMATERA BARAT",
                  "orientation": "v",
                  "showlegend": true,
                  "text": [
                    5.01
                  ],
                  "textposition": "outside",
                  "texttemplate": "%{text:.2s}",
                  "type": "bar",
                  "x": [
                    "SUMATERA BARAT"
                  ],
                  "xaxis": "x",
                  "y": [
                    5.01
                  ],
                  "yaxis": "y"
                },
                {
                  "alignmentgroup": "True",
                  "hovertemplate": "PROVINSI=%{x}<br>LajuPE=%{text}<extra></extra>",
                  "legendgroup": "RIAU",
                  "marker": {
                    "color": "#00cc96",
                    "pattern": {
                      "shape": ""
                    }
                  },
                  "name": "RIAU",
                  "offsetgroup": "RIAU",
                  "orientation": "v",
                  "showlegend": true,
                  "text": [
                    2.81
                  ],
                  "textposition": "outside",
                  "texttemplate": "%{text:.2s}",
                  "type": "bar",
                  "x": [
                    "RIAU"
                  ],
                  "xaxis": "x",
                  "y": [
                    2.81
                  ],
                  "yaxis": "y"
                },
                {
                  "alignmentgroup": "True",
                  "hovertemplate": "PROVINSI=%{x}<br>LajuPE=%{text}<extra></extra>",
                  "legendgroup": "JAMBI",
                  "marker": {
                    "color": "#ab63fa",
                    "pattern": {
                      "shape": ""
                    }
                  },
                  "name": "JAMBI",
                  "offsetgroup": "JAMBI",
                  "orientation": "v",
                  "showlegend": true,
                  "text": [
                    4.37
                  ],
                  "textposition": "outside",
                  "texttemplate": "%{text:.2s}",
                  "type": "bar",
                  "x": [
                    "JAMBI"
                  ],
                  "xaxis": "x",
                  "y": [
                    4.37
                  ],
                  "yaxis": "y"
                },
                {
                  "alignmentgroup": "True",
                  "hovertemplate": "PROVINSI=%{x}<br>LajuPE=%{text}<extra></extra>",
                  "legendgroup": "SUMATERA SELATAN",
                  "marker": {
                    "color": "#FFA15A",
                    "pattern": {
                      "shape": ""
                    }
                  },
                  "name": "SUMATERA SELATAN",
                  "offsetgroup": "SUMATERA SELATAN",
                  "orientation": "v",
                  "showlegend": true,
                  "text": [
                    5.69
                  ],
                  "textposition": "outside",
                  "texttemplate": "%{text:.2s}",
                  "type": "bar",
                  "x": [
                    "SUMATERA SELATAN"
                  ],
                  "xaxis": "x",
                  "y": [
                    5.69
                  ],
                  "yaxis": "y"
                },
                {
                  "alignmentgroup": "True",
                  "hovertemplate": "PROVINSI=%{x}<br>LajuPE=%{text}<extra></extra>",
                  "legendgroup": "BENGKULU",
                  "marker": {
                    "color": "#19d3f3",
                    "pattern": {
                      "shape": ""
                    }
                  },
                  "name": "BENGKULU",
                  "offsetgroup": "BENGKULU",
                  "orientation": "v",
                  "showlegend": true,
                  "text": [
                    4.94
                  ],
                  "textposition": "outside",
                  "texttemplate": "%{text:.2s}",
                  "type": "bar",
                  "x": [
                    "BENGKULU"
                  ],
                  "xaxis": "x",
                  "y": [
                    4.94
                  ],
                  "yaxis": "y"
                },
                {
                  "alignmentgroup": "True",
                  "hovertemplate": "PROVINSI=%{x}<br>LajuPE=%{text}<extra></extra>",
                  "legendgroup": "LAMPUNG",
                  "marker": {
                    "color": "#FF6692",
                    "pattern": {
                      "shape": ""
                    }
                  },
                  "name": "LAMPUNG",
                  "offsetgroup": "LAMPUNG",
                  "orientation": "v",
                  "showlegend": true,
                  "text": [
                    5.26
                  ],
                  "textposition": "outside",
                  "texttemplate": "%{text:.2s}",
                  "type": "bar",
                  "x": [
                    "LAMPUNG"
                  ],
                  "xaxis": "x",
                  "y": [
                    5.26
                  ],
                  "yaxis": "y"
                },
                {
                  "alignmentgroup": "True",
                  "hovertemplate": "PROVINSI=%{x}<br>LajuPE=%{text}<extra></extra>",
                  "legendgroup": "KEP. BANGKA BELITUNG",
                  "marker": {
                    "color": "#B6E880",
                    "pattern": {
                      "shape": ""
                    }
                  },
                  "name": "KEP. BANGKA BELITUNG",
                  "offsetgroup": "KEP. BANGKA BELITUNG",
                  "orientation": "v",
                  "showlegend": true,
                  "text": [
                    3.32
                  ],
                  "textposition": "outside",
                  "texttemplate": "%{text:.2s}",
                  "type": "bar",
                  "x": [
                    "KEP. BANGKA BELITUNG"
                  ],
                  "xaxis": "x",
                  "y": [
                    3.32
                  ],
                  "yaxis": "y"
                },
                {
                  "alignmentgroup": "True",
                  "hovertemplate": "PROVINSI=%{x}<br>LajuPE=%{text}<extra></extra>",
                  "legendgroup": "KEP. RIAU",
                  "marker": {
                    "color": "#FF97FF",
                    "pattern": {
                      "shape": ""
                    }
                  },
                  "name": "KEP. RIAU",
                  "offsetgroup": "KEP. RIAU",
                  "orientation": "v",
                  "showlegend": true,
                  "text": [
                    4.84
                  ],
                  "textposition": "outside",
                  "texttemplate": "%{text:.2s}",
                  "type": "bar",
                  "x": [
                    "KEP. RIAU"
                  ],
                  "xaxis": "x",
                  "y": [
                    4.84
                  ],
                  "yaxis": "y"
                },
                {
                  "alignmentgroup": "True",
                  "hovertemplate": "PROVINSI=%{x}<br>LajuPE=%{text}<extra></extra>",
                  "legendgroup": "DKI JAKARTA",
                  "marker": {
                    "color": "#FECB52",
                    "pattern": {
                      "shape": ""
                    }
                  },
                  "name": "DKI JAKARTA",
                  "offsetgroup": "DKI JAKARTA",
                  "orientation": "v",
                  "showlegend": true,
                  "text": [
                    5.82
                  ],
                  "textposition": "outside",
                  "texttemplate": "%{text:.2s}",
                  "type": "bar",
                  "x": [
                    "DKI JAKARTA"
                  ],
                  "xaxis": "x",
                  "y": [
                    5.82
                  ],
                  "yaxis": "y"
                },
                {
                  "alignmentgroup": "True",
                  "hovertemplate": "PROVINSI=%{x}<br>LajuPE=%{text}<extra></extra>",
                  "legendgroup": "JAWA BARAT",
                  "marker": {
                    "color": "#636efa",
                    "pattern": {
                      "shape": ""
                    }
                  },
                  "name": "JAWA BARAT",
                  "offsetgroup": "JAWA BARAT",
                  "orientation": "v",
                  "showlegend": true,
                  "text": [
                    5.07
                  ],
                  "textposition": "outside",
                  "texttemplate": "%{text:.2s}",
                  "type": "bar",
                  "x": [
                    "JAWA BARAT"
                  ],
                  "xaxis": "x",
                  "y": [
                    5.07
                  ],
                  "yaxis": "y"
                },
                {
                  "alignmentgroup": "True",
                  "hovertemplate": "PROVINSI=%{x}<br>LajuPE=%{text}<extra></extra>",
                  "legendgroup": "JAWA TENGAH",
                  "marker": {
                    "color": "#EF553B",
                    "pattern": {
                      "shape": ""
                    }
                  },
                  "name": "JAWA TENGAH",
                  "offsetgroup": "JAWA TENGAH",
                  "orientation": "v",
                  "showlegend": true,
                  "text": [
                    5.4
                  ],
                  "textposition": "outside",
                  "texttemplate": "%{text:.2s}",
                  "type": "bar",
                  "x": [
                    "JAWA TENGAH"
                  ],
                  "xaxis": "x",
                  "y": [
                    5.4
                  ],
                  "yaxis": "y"
                },
                {
                  "alignmentgroup": "True",
                  "hovertemplate": "PROVINSI=%{x}<br>LajuPE=%{text}<extra></extra>",
                  "legendgroup": "DI YOGYAKARTA",
                  "marker": {
                    "color": "#00cc96",
                    "pattern": {
                      "shape": ""
                    }
                  },
                  "name": "DI YOGYAKARTA",
                  "offsetgroup": "DI YOGYAKARTA",
                  "orientation": "v",
                  "showlegend": true,
                  "text": [
                    6.59
                  ],
                  "textposition": "outside",
                  "texttemplate": "%{text:.2s}",
                  "type": "bar",
                  "x": [
                    "DI YOGYAKARTA"
                  ],
                  "xaxis": "x",
                  "y": [
                    6.59
                  ],
                  "yaxis": "y"
                },
                {
                  "alignmentgroup": "True",
                  "hovertemplate": "PROVINSI=%{x}<br>LajuPE=%{text}<extra></extra>",
                  "legendgroup": "JAWA TIMUR",
                  "marker": {
                    "color": "#ab63fa",
                    "pattern": {
                      "shape": ""
                    }
                  },
                  "name": "JAWA TIMUR",
                  "offsetgroup": "JAWA TIMUR",
                  "orientation": "v",
                  "showlegend": true,
                  "text": [
                    5.52
                  ],
                  "textposition": "outside",
                  "texttemplate": "%{text:.2s}",
                  "type": "bar",
                  "x": [
                    "JAWA TIMUR"
                  ],
                  "xaxis": "x",
                  "y": [
                    5.52
                  ],
                  "yaxis": "y"
                },
                {
                  "alignmentgroup": "True",
                  "hovertemplate": "PROVINSI=%{x}<br>LajuPE=%{text}<extra></extra>",
                  "legendgroup": "BANTEN",
                  "marker": {
                    "color": "#FFA15A",
                    "pattern": {
                      "shape": ""
                    }
                  },
                  "name": "BANTEN",
                  "offsetgroup": "BANTEN",
                  "orientation": "v",
                  "showlegend": true,
                  "text": [
                    5.29
                  ],
                  "textposition": "outside",
                  "texttemplate": "%{text:.2s}",
                  "type": "bar",
                  "x": [
                    "BANTEN"
                  ],
                  "xaxis": "x",
                  "y": [
                    5.29
                  ],
                  "yaxis": "y"
                },
                {
                  "alignmentgroup": "True",
                  "hovertemplate": "PROVINSI=%{x}<br>LajuPE=%{text}<extra></extra>",
                  "legendgroup": "BALI",
                  "marker": {
                    "color": "#19d3f3",
                    "pattern": {
                      "shape": ""
                    }
                  },
                  "name": "BALI",
                  "offsetgroup": "BALI",
                  "orientation": "v",
                  "showlegend": true,
                  "text": [
                    5.6
                  ],
                  "textposition": "outside",
                  "texttemplate": "%{text:.2s}",
                  "type": "bar",
                  "x": [
                    "BALI"
                  ],
                  "xaxis": "x",
                  "y": [
                    5.6
                  ],
                  "yaxis": "y"
                },
                {
                  "alignmentgroup": "True",
                  "hovertemplate": "PROVINSI=%{x}<br>LajuPE=%{text}<extra></extra>",
                  "legendgroup": "NUSA TENGGARA BARAT",
                  "marker": {
                    "color": "#FF6692",
                    "pattern": {
                      "shape": ""
                    }
                  },
                  "name": "NUSA TENGGARA BARAT",
                  "offsetgroup": "NUSA TENGGARA BARAT",
                  "orientation": "v",
                  "showlegend": true,
                  "text": [
                    3.9
                  ],
                  "textposition": "outside",
                  "texttemplate": "%{text:.2s}",
                  "type": "bar",
                  "x": [
                    "NUSA TENGGARA BARAT"
                  ],
                  "xaxis": "x",
                  "y": [
                    3.9
                  ],
                  "yaxis": "y"
                },
                {
                  "alignmentgroup": "True",
                  "hovertemplate": "PROVINSI=%{x}<br>LajuPE=%{text}<extra></extra>",
                  "legendgroup": "NUSA TENGGARA TIMUR",
                  "marker": {
                    "color": "#B6E880",
                    "pattern": {
                      "shape": ""
                    }
                  },
                  "name": "NUSA TENGGARA TIMUR",
                  "offsetgroup": "NUSA TENGGARA TIMUR",
                  "orientation": "v",
                  "showlegend": true,
                  "text": [
                    5.24
                  ],
                  "textposition": "outside",
                  "texttemplate": "%{text:.2s}",
                  "type": "bar",
                  "x": [
                    "NUSA TENGGARA TIMUR"
                  ],
                  "xaxis": "x",
                  "y": [
                    5.24
                  ],
                  "yaxis": "y"
                },
                {
                  "alignmentgroup": "True",
                  "hovertemplate": "PROVINSI=%{x}<br>LajuPE=%{text}<extra></extra>",
                  "legendgroup": "KALIMANTAN BARAT",
                  "marker": {
                    "color": "#FF97FF",
                    "pattern": {
                      "shape": ""
                    }
                  },
                  "name": "KALIMANTAN BARAT",
                  "offsetgroup": "KALIMANTAN BARAT",
                  "orientation": "v",
                  "showlegend": true,
                  "text": [
                    5.09
                  ],
                  "textposition": "outside",
                  "texttemplate": "%{text:.2s}",
                  "type": "bar",
                  "x": [
                    "KALIMANTAN BARAT"
                  ],
                  "xaxis": "x",
                  "y": [
                    5.09
                  ],
                  "yaxis": "y"
                },
                {
                  "alignmentgroup": "True",
                  "hovertemplate": "PROVINSI=%{x}<br>LajuPE=%{text}<extra></extra>",
                  "legendgroup": "KALIMANTAN TENGAH",
                  "marker": {
                    "color": "#FECB52",
                    "pattern": {
                      "shape": ""
                    }
                  },
                  "name": "KALIMANTAN TENGAH",
                  "offsetgroup": "KALIMANTAN TENGAH",
                  "orientation": "v",
                  "showlegend": true,
                  "text": [
                    6.12
                  ],
                  "textposition": "outside",
                  "texttemplate": "%{text:.2s}",
                  "type": "bar",
                  "x": [
                    "KALIMANTAN TENGAH"
                  ],
                  "xaxis": "x",
                  "y": [
                    6.12
                  ],
                  "yaxis": "y"
                },
                {
                  "alignmentgroup": "True",
                  "hovertemplate": "PROVINSI=%{x}<br>LajuPE=%{text}<extra></extra>",
                  "legendgroup": "KALIMANTAN SELATAN",
                  "marker": {
                    "color": "#636efa",
                    "pattern": {
                      "shape": ""
                    }
                  },
                  "name": "KALIMANTAN SELATAN",
                  "offsetgroup": "KALIMANTAN SELATAN",
                  "orientation": "v",
                  "showlegend": true,
                  "text": [
                    4.08
                  ],
                  "textposition": "outside",
                  "texttemplate": "%{text:.2s}",
                  "type": "bar",
                  "x": [
                    "KALIMANTAN SELATAN"
                  ],
                  "xaxis": "x",
                  "y": [
                    4.08
                  ],
                  "yaxis": "y"
                },
                {
                  "alignmentgroup": "True",
                  "hovertemplate": "PROVINSI=%{x}<br>LajuPE=%{text}<extra></extra>",
                  "legendgroup": "KALIMANTAN TIMUR",
                  "marker": {
                    "color": "#EF553B",
                    "pattern": {
                      "shape": ""
                    }
                  },
                  "name": "KALIMANTAN TIMUR",
                  "offsetgroup": "KALIMANTAN TIMUR",
                  "orientation": "v",
                  "showlegend": true,
                  "text": [
                    4.74
                  ],
                  "textposition": "outside",
                  "texttemplate": "%{text:.2s}",
                  "type": "bar",
                  "x": [
                    "KALIMANTAN TIMUR"
                  ],
                  "xaxis": "x",
                  "y": [
                    4.74
                  ],
                  "yaxis": "y"
                },
                {
                  "alignmentgroup": "True",
                  "hovertemplate": "PROVINSI=%{x}<br>LajuPE=%{text}<extra></extra>",
                  "legendgroup": "KALIMANTAN UTARA",
                  "marker": {
                    "color": "#00cc96",
                    "pattern": {
                      "shape": ""
                    }
                  },
                  "name": "KALIMANTAN UTARA",
                  "offsetgroup": "KALIMANTAN UTARA",
                  "orientation": "v",
                  "showlegend": true,
                  "text": [
                    6.9
                  ],
                  "textposition": "outside",
                  "texttemplate": "%{text:.2s}",
                  "type": "bar",
                  "x": [
                    "KALIMANTAN UTARA"
                  ],
                  "xaxis": "x",
                  "y": [
                    6.9
                  ],
                  "yaxis": "y"
                },
                {
                  "alignmentgroup": "True",
                  "hovertemplate": "PROVINSI=%{x}<br>LajuPE=%{text}<extra></extra>",
                  "legendgroup": "SULAWESI UTARA",
                  "marker": {
                    "color": "#ab63fa",
                    "pattern": {
                      "shape": ""
                    }
                  },
                  "name": "SULAWESI UTARA",
                  "offsetgroup": "SULAWESI UTARA",
                  "orientation": "v",
                  "showlegend": true,
                  "text": [
                    5.65
                  ],
                  "textposition": "outside",
                  "texttemplate": "%{text:.2s}",
                  "type": "bar",
                  "x": [
                    "SULAWESI UTARA"
                  ],
                  "xaxis": "x",
                  "y": [
                    5.65
                  ],
                  "yaxis": "y"
                },
                {
                  "alignmentgroup": "True",
                  "hovertemplate": "PROVINSI=%{x}<br>LajuPE=%{text}<extra></extra>",
                  "legendgroup": "SULAWESI TENGAH",
                  "marker": {
                    "color": "#FFA15A",
                    "pattern": {
                      "shape": ""
                    }
                  },
                  "name": "SULAWESI TENGAH",
                  "offsetgroup": "SULAWESI TENGAH",
                  "orientation": "v",
                  "showlegend": true,
                  "text": [
                    8.83
                  ],
                  "textposition": "outside",
                  "texttemplate": "%{text:.2s}",
                  "type": "bar",
                  "x": [
                    "SULAWESI TENGAH"
                  ],
                  "xaxis": "x",
                  "y": [
                    8.83
                  ],
                  "yaxis": "y"
                },
                {
                  "alignmentgroup": "True",
                  "hovertemplate": "PROVINSI=%{x}<br>LajuPE=%{text}<extra></extra>",
                  "legendgroup": "SULAWESI SELATAN",
                  "marker": {
                    "color": "#19d3f3",
                    "pattern": {
                      "shape": ""
                    }
                  },
                  "name": "SULAWESI SELATAN",
                  "offsetgroup": "SULAWESI SELATAN",
                  "orientation": "v",
                  "showlegend": true,
                  "text": [
                    6.91
                  ],
                  "textposition": "outside",
                  "texttemplate": "%{text:.2s}",
                  "type": "bar",
                  "x": [
                    "SULAWESI SELATAN"
                  ],
                  "xaxis": "x",
                  "y": [
                    6.91
                  ],
                  "yaxis": "y"
                },
                {
                  "alignmentgroup": "True",
                  "hovertemplate": "PROVINSI=%{x}<br>LajuPE=%{text}<extra></extra>",
                  "legendgroup": "SULAWESI TENGGARA",
                  "marker": {
                    "color": "#FF6692",
                    "pattern": {
                      "shape": ""
                    }
                  },
                  "name": "SULAWESI TENGGARA",
                  "offsetgroup": "SULAWESI TENGGARA",
                  "orientation": "v",
                  "showlegend": true,
                  "text": [
                    6.5
                  ],
                  "textposition": "outside",
                  "texttemplate": "%{text:.2s}",
                  "type": "bar",
                  "x": [
                    "SULAWESI TENGGARA"
                  ],
                  "xaxis": "x",
                  "y": [
                    6.5
                  ],
                  "yaxis": "y"
                },
                {
                  "alignmentgroup": "True",
                  "hovertemplate": "PROVINSI=%{x}<br>LajuPE=%{text}<extra></extra>",
                  "legendgroup": "GORONTALO",
                  "marker": {
                    "color": "#B6E880",
                    "pattern": {
                      "shape": ""
                    }
                  },
                  "name": "GORONTALO",
                  "offsetgroup": "GORONTALO",
                  "orientation": "v",
                  "showlegend": true,
                  "text": [
                    6.4
                  ],
                  "textposition": "outside",
                  "texttemplate": "%{text:.2s}",
                  "type": "bar",
                  "x": [
                    "GORONTALO"
                  ],
                  "xaxis": "x",
                  "y": [
                    6.4
                  ],
                  "yaxis": "y"
                },
                {
                  "alignmentgroup": "True",
                  "hovertemplate": "PROVINSI=%{x}<br>LajuPE=%{text}<extra></extra>",
                  "legendgroup": "SULAWESI BARAT",
                  "marker": {
                    "color": "#FF97FF",
                    "pattern": {
                      "shape": ""
                    }
                  },
                  "name": "SULAWESI BARAT",
                  "offsetgroup": "SULAWESI BARAT",
                  "orientation": "v",
                  "showlegend": true,
                  "text": [
                    5.67
                  ],
                  "textposition": "outside",
                  "texttemplate": "%{text:.2s}",
                  "type": "bar",
                  "x": [
                    "SULAWESI BARAT"
                  ],
                  "xaxis": "x",
                  "y": [
                    5.67
                  ],
                  "yaxis": "y"
                },
                {
                  "alignmentgroup": "True",
                  "hovertemplate": "PROVINSI=%{x}<br>LajuPE=%{text}<extra></extra>",
                  "legendgroup": "MALUKU",
                  "marker": {
                    "color": "#FECB52",
                    "pattern": {
                      "shape": ""
                    }
                  },
                  "name": "MALUKU",
                  "offsetgroup": "MALUKU",
                  "orientation": "v",
                  "showlegend": true,
                  "text": [
                    5.41
                  ],
                  "textposition": "outside",
                  "texttemplate": "%{text:.2s}",
                  "type": "bar",
                  "x": [
                    "MALUKU"
                  ],
                  "xaxis": "x",
                  "y": [
                    5.41
                  ],
                  "yaxis": "y"
                },
                {
                  "alignmentgroup": "True",
                  "hovertemplate": "PROVINSI=%{x}<br>LajuPE=%{text}<extra></extra>",
                  "legendgroup": "MALUKU UTARA",
                  "marker": {
                    "color": "#636efa",
                    "pattern": {
                      "shape": ""
                    }
                  },
                  "name": "MALUKU UTARA",
                  "offsetgroup": "MALUKU UTARA",
                  "orientation": "v",
                  "showlegend": true,
                  "text": [
                    6.1
                  ],
                  "textposition": "outside",
                  "texttemplate": "%{text:.2s}",
                  "type": "bar",
                  "x": [
                    "MALUKU UTARA"
                  ],
                  "xaxis": "x",
                  "y": [
                    6.1
                  ],
                  "yaxis": "y"
                },
                {
                  "alignmentgroup": "True",
                  "hovertemplate": "PROVINSI=%{x}<br>LajuPE=%{text}<extra></extra>",
                  "legendgroup": "PAPUA BARAT",
                  "marker": {
                    "color": "#EF553B",
                    "pattern": {
                      "shape": ""
                    }
                  },
                  "name": "PAPUA BARAT",
                  "offsetgroup": "PAPUA BARAT",
                  "orientation": "v",
                  "showlegend": true,
                  "text": [
                    2.66
                  ],
                  "textposition": "outside",
                  "texttemplate": "%{text:.2s}",
                  "type": "bar",
                  "x": [
                    "PAPUA BARAT"
                  ],
                  "xaxis": "x",
                  "y": [
                    2.66
                  ],
                  "yaxis": "y"
                },
                {
                  "alignmentgroup": "True",
                  "hovertemplate": "PROVINSI=%{x}<br>LajuPE=%{text}<extra></extra>",
                  "legendgroup": "PAPUA",
                  "marker": {
                    "color": "#00cc96",
                    "pattern": {
                      "shape": ""
                    }
                  },
                  "name": "PAPUA",
                  "offsetgroup": "PAPUA",
                  "orientation": "v",
                  "showlegend": true,
                  "text": [
                    -15.75
                  ],
                  "textposition": "outside",
                  "texttemplate": "%{text:.2s}",
                  "type": "bar",
                  "x": [
                    "PAPUA"
                  ],
                  "xaxis": "x",
                  "y": [
                    -15.75
                  ],
                  "yaxis": "y"
                }
              ],
              "layout": {
                "barmode": "relative",
                "legend": {
                  "title": {
                    "text": "PROVINSI"
                  },
                  "tracegroupgap": 0
                },
                "margin": {
                  "t": 60
                },
                "template": {
                  "data": {
                    "bar": [
                      {
                        "error_x": {
                          "color": "#2a3f5f"
                        },
                        "error_y": {
                          "color": "#2a3f5f"
                        },
                        "marker": {
                          "line": {
                            "color": "#E5ECF6",
                            "width": 0.5
                          },
                          "pattern": {
                            "fillmode": "overlay",
                            "size": 10,
                            "solidity": 0.2
                          }
                        },
                        "type": "bar"
                      }
                    ],
                    "barpolar": [
                      {
                        "marker": {
                          "line": {
                            "color": "#E5ECF6",
                            "width": 0.5
                          },
                          "pattern": {
                            "fillmode": "overlay",
                            "size": 10,
                            "solidity": 0.2
                          }
                        },
                        "type": "barpolar"
                      }
                    ],
                    "carpet": [
                      {
                        "aaxis": {
                          "endlinecolor": "#2a3f5f",
                          "gridcolor": "white",
                          "linecolor": "white",
                          "minorgridcolor": "white",
                          "startlinecolor": "#2a3f5f"
                        },
                        "baxis": {
                          "endlinecolor": "#2a3f5f",
                          "gridcolor": "white",
                          "linecolor": "white",
                          "minorgridcolor": "white",
                          "startlinecolor": "#2a3f5f"
                        },
                        "type": "carpet"
                      }
                    ],
                    "choropleth": [
                      {
                        "colorbar": {
                          "outlinewidth": 0,
                          "ticks": ""
                        },
                        "type": "choropleth"
                      }
                    ],
                    "contour": [
                      {
                        "colorbar": {
                          "outlinewidth": 0,
                          "ticks": ""
                        },
                        "colorscale": [
                          [
                            0,
                            "#0d0887"
                          ],
                          [
                            0.1111111111111111,
                            "#46039f"
                          ],
                          [
                            0.2222222222222222,
                            "#7201a8"
                          ],
                          [
                            0.3333333333333333,
                            "#9c179e"
                          ],
                          [
                            0.4444444444444444,
                            "#bd3786"
                          ],
                          [
                            0.5555555555555556,
                            "#d8576b"
                          ],
                          [
                            0.6666666666666666,
                            "#ed7953"
                          ],
                          [
                            0.7777777777777778,
                            "#fb9f3a"
                          ],
                          [
                            0.8888888888888888,
                            "#fdca26"
                          ],
                          [
                            1,
                            "#f0f921"
                          ]
                        ],
                        "type": "contour"
                      }
                    ],
                    "contourcarpet": [
                      {
                        "colorbar": {
                          "outlinewidth": 0,
                          "ticks": ""
                        },
                        "type": "contourcarpet"
                      }
                    ],
                    "heatmap": [
                      {
                        "colorbar": {
                          "outlinewidth": 0,
                          "ticks": ""
                        },
                        "colorscale": [
                          [
                            0,
                            "#0d0887"
                          ],
                          [
                            0.1111111111111111,
                            "#46039f"
                          ],
                          [
                            0.2222222222222222,
                            "#7201a8"
                          ],
                          [
                            0.3333333333333333,
                            "#9c179e"
                          ],
                          [
                            0.4444444444444444,
                            "#bd3786"
                          ],
                          [
                            0.5555555555555556,
                            "#d8576b"
                          ],
                          [
                            0.6666666666666666,
                            "#ed7953"
                          ],
                          [
                            0.7777777777777778,
                            "#fb9f3a"
                          ],
                          [
                            0.8888888888888888,
                            "#fdca26"
                          ],
                          [
                            1,
                            "#f0f921"
                          ]
                        ],
                        "type": "heatmap"
                      }
                    ],
                    "heatmapgl": [
                      {
                        "colorbar": {
                          "outlinewidth": 0,
                          "ticks": ""
                        },
                        "colorscale": [
                          [
                            0,
                            "#0d0887"
                          ],
                          [
                            0.1111111111111111,
                            "#46039f"
                          ],
                          [
                            0.2222222222222222,
                            "#7201a8"
                          ],
                          [
                            0.3333333333333333,
                            "#9c179e"
                          ],
                          [
                            0.4444444444444444,
                            "#bd3786"
                          ],
                          [
                            0.5555555555555556,
                            "#d8576b"
                          ],
                          [
                            0.6666666666666666,
                            "#ed7953"
                          ],
                          [
                            0.7777777777777778,
                            "#fb9f3a"
                          ],
                          [
                            0.8888888888888888,
                            "#fdca26"
                          ],
                          [
                            1,
                            "#f0f921"
                          ]
                        ],
                        "type": "heatmapgl"
                      }
                    ],
                    "histogram": [
                      {
                        "marker": {
                          "pattern": {
                            "fillmode": "overlay",
                            "size": 10,
                            "solidity": 0.2
                          }
                        },
                        "type": "histogram"
                      }
                    ],
                    "histogram2d": [
                      {
                        "colorbar": {
                          "outlinewidth": 0,
                          "ticks": ""
                        },
                        "colorscale": [
                          [
                            0,
                            "#0d0887"
                          ],
                          [
                            0.1111111111111111,
                            "#46039f"
                          ],
                          [
                            0.2222222222222222,
                            "#7201a8"
                          ],
                          [
                            0.3333333333333333,
                            "#9c179e"
                          ],
                          [
                            0.4444444444444444,
                            "#bd3786"
                          ],
                          [
                            0.5555555555555556,
                            "#d8576b"
                          ],
                          [
                            0.6666666666666666,
                            "#ed7953"
                          ],
                          [
                            0.7777777777777778,
                            "#fb9f3a"
                          ],
                          [
                            0.8888888888888888,
                            "#fdca26"
                          ],
                          [
                            1,
                            "#f0f921"
                          ]
                        ],
                        "type": "histogram2d"
                      }
                    ],
                    "histogram2dcontour": [
                      {
                        "colorbar": {
                          "outlinewidth": 0,
                          "ticks": ""
                        },
                        "colorscale": [
                          [
                            0,
                            "#0d0887"
                          ],
                          [
                            0.1111111111111111,
                            "#46039f"
                          ],
                          [
                            0.2222222222222222,
                            "#7201a8"
                          ],
                          [
                            0.3333333333333333,
                            "#9c179e"
                          ],
                          [
                            0.4444444444444444,
                            "#bd3786"
                          ],
                          [
                            0.5555555555555556,
                            "#d8576b"
                          ],
                          [
                            0.6666666666666666,
                            "#ed7953"
                          ],
                          [
                            0.7777777777777778,
                            "#fb9f3a"
                          ],
                          [
                            0.8888888888888888,
                            "#fdca26"
                          ],
                          [
                            1,
                            "#f0f921"
                          ]
                        ],
                        "type": "histogram2dcontour"
                      }
                    ],
                    "mesh3d": [
                      {
                        "colorbar": {
                          "outlinewidth": 0,
                          "ticks": ""
                        },
                        "type": "mesh3d"
                      }
                    ],
                    "parcoords": [
                      {
                        "line": {
                          "colorbar": {
                            "outlinewidth": 0,
                            "ticks": ""
                          }
                        },
                        "type": "parcoords"
                      }
                    ],
                    "pie": [
                      {
                        "automargin": true,
                        "type": "pie"
                      }
                    ],
                    "scatter": [
                      {
                        "marker": {
                          "colorbar": {
                            "outlinewidth": 0,
                            "ticks": ""
                          }
                        },
                        "type": "scatter"
                      }
                    ],
                    "scatter3d": [
                      {
                        "line": {
                          "colorbar": {
                            "outlinewidth": 0,
                            "ticks": ""
                          }
                        },
                        "marker": {
                          "colorbar": {
                            "outlinewidth": 0,
                            "ticks": ""
                          }
                        },
                        "type": "scatter3d"
                      }
                    ],
                    "scattercarpet": [
                      {
                        "marker": {
                          "colorbar": {
                            "outlinewidth": 0,
                            "ticks": ""
                          }
                        },
                        "type": "scattercarpet"
                      }
                    ],
                    "scattergeo": [
                      {
                        "marker": {
                          "colorbar": {
                            "outlinewidth": 0,
                            "ticks": ""
                          }
                        },
                        "type": "scattergeo"
                      }
                    ],
                    "scattergl": [
                      {
                        "marker": {
                          "colorbar": {
                            "outlinewidth": 0,
                            "ticks": ""
                          }
                        },
                        "type": "scattergl"
                      }
                    ],
                    "scattermapbox": [
                      {
                        "marker": {
                          "colorbar": {
                            "outlinewidth": 0,
                            "ticks": ""
                          }
                        },
                        "type": "scattermapbox"
                      }
                    ],
                    "scatterpolar": [
                      {
                        "marker": {
                          "colorbar": {
                            "outlinewidth": 0,
                            "ticks": ""
                          }
                        },
                        "type": "scatterpolar"
                      }
                    ],
                    "scatterpolargl": [
                      {
                        "marker": {
                          "colorbar": {
                            "outlinewidth": 0,
                            "ticks": ""
                          }
                        },
                        "type": "scatterpolargl"
                      }
                    ],
                    "scatterternary": [
                      {
                        "marker": {
                          "colorbar": {
                            "outlinewidth": 0,
                            "ticks": ""
                          }
                        },
                        "type": "scatterternary"
                      }
                    ],
                    "surface": [
                      {
                        "colorbar": {
                          "outlinewidth": 0,
                          "ticks": ""
                        },
                        "colorscale": [
                          [
                            0,
                            "#0d0887"
                          ],
                          [
                            0.1111111111111111,
                            "#46039f"
                          ],
                          [
                            0.2222222222222222,
                            "#7201a8"
                          ],
                          [
                            0.3333333333333333,
                            "#9c179e"
                          ],
                          [
                            0.4444444444444444,
                            "#bd3786"
                          ],
                          [
                            0.5555555555555556,
                            "#d8576b"
                          ],
                          [
                            0.6666666666666666,
                            "#ed7953"
                          ],
                          [
                            0.7777777777777778,
                            "#fb9f3a"
                          ],
                          [
                            0.8888888888888888,
                            "#fdca26"
                          ],
                          [
                            1,
                            "#f0f921"
                          ]
                        ],
                        "type": "surface"
                      }
                    ],
                    "table": [
                      {
                        "cells": {
                          "fill": {
                            "color": "#EBF0F8"
                          },
                          "line": {
                            "color": "white"
                          }
                        },
                        "header": {
                          "fill": {
                            "color": "#C8D4E3"
                          },
                          "line": {
                            "color": "white"
                          }
                        },
                        "type": "table"
                      }
                    ]
                  },
                  "layout": {
                    "annotationdefaults": {
                      "arrowcolor": "#2a3f5f",
                      "arrowhead": 0,
                      "arrowwidth": 1
                    },
                    "autotypenumbers": "strict",
                    "coloraxis": {
                      "colorbar": {
                        "outlinewidth": 0,
                        "ticks": ""
                      }
                    },
                    "colorscale": {
                      "diverging": [
                        [
                          0,
                          "#8e0152"
                        ],
                        [
                          0.1,
                          "#c51b7d"
                        ],
                        [
                          0.2,
                          "#de77ae"
                        ],
                        [
                          0.3,
                          "#f1b6da"
                        ],
                        [
                          0.4,
                          "#fde0ef"
                        ],
                        [
                          0.5,
                          "#f7f7f7"
                        ],
                        [
                          0.6,
                          "#e6f5d0"
                        ],
                        [
                          0.7,
                          "#b8e186"
                        ],
                        [
                          0.8,
                          "#7fbc41"
                        ],
                        [
                          0.9,
                          "#4d9221"
                        ],
                        [
                          1,
                          "#276419"
                        ]
                      ],
                      "sequential": [
                        [
                          0,
                          "#0d0887"
                        ],
                        [
                          0.1111111111111111,
                          "#46039f"
                        ],
                        [
                          0.2222222222222222,
                          "#7201a8"
                        ],
                        [
                          0.3333333333333333,
                          "#9c179e"
                        ],
                        [
                          0.4444444444444444,
                          "#bd3786"
                        ],
                        [
                          0.5555555555555556,
                          "#d8576b"
                        ],
                        [
                          0.6666666666666666,
                          "#ed7953"
                        ],
                        [
                          0.7777777777777778,
                          "#fb9f3a"
                        ],
                        [
                          0.8888888888888888,
                          "#fdca26"
                        ],
                        [
                          1,
                          "#f0f921"
                        ]
                      ],
                      "sequentialminus": [
                        [
                          0,
                          "#0d0887"
                        ],
                        [
                          0.1111111111111111,
                          "#46039f"
                        ],
                        [
                          0.2222222222222222,
                          "#7201a8"
                        ],
                        [
                          0.3333333333333333,
                          "#9c179e"
                        ],
                        [
                          0.4444444444444444,
                          "#bd3786"
                        ],
                        [
                          0.5555555555555556,
                          "#d8576b"
                        ],
                        [
                          0.6666666666666666,
                          "#ed7953"
                        ],
                        [
                          0.7777777777777778,
                          "#fb9f3a"
                        ],
                        [
                          0.8888888888888888,
                          "#fdca26"
                        ],
                        [
                          1,
                          "#f0f921"
                        ]
                      ]
                    },
                    "colorway": [
                      "#636efa",
                      "#EF553B",
                      "#00cc96",
                      "#ab63fa",
                      "#FFA15A",
                      "#19d3f3",
                      "#FF6692",
                      "#B6E880",
                      "#FF97FF",
                      "#FECB52"
                    ],
                    "font": {
                      "color": "#2a3f5f"
                    },
                    "geo": {
                      "bgcolor": "white",
                      "lakecolor": "white",
                      "landcolor": "#E5ECF6",
                      "showlakes": true,
                      "showland": true,
                      "subunitcolor": "white"
                    },
                    "hoverlabel": {
                      "align": "left"
                    },
                    "hovermode": "closest",
                    "mapbox": {
                      "style": "light"
                    },
                    "paper_bgcolor": "white",
                    "plot_bgcolor": "#E5ECF6",
                    "polar": {
                      "angularaxis": {
                        "gridcolor": "white",
                        "linecolor": "white",
                        "ticks": ""
                      },
                      "bgcolor": "#E5ECF6",
                      "radialaxis": {
                        "gridcolor": "white",
                        "linecolor": "white",
                        "ticks": ""
                      }
                    },
                    "scene": {
                      "xaxis": {
                        "backgroundcolor": "#E5ECF6",
                        "gridcolor": "white",
                        "gridwidth": 2,
                        "linecolor": "white",
                        "showbackground": true,
                        "ticks": "",
                        "zerolinecolor": "white"
                      },
                      "yaxis": {
                        "backgroundcolor": "#E5ECF6",
                        "gridcolor": "white",
                        "gridwidth": 2,
                        "linecolor": "white",
                        "showbackground": true,
                        "ticks": "",
                        "zerolinecolor": "white"
                      },
                      "zaxis": {
                        "backgroundcolor": "#E5ECF6",
                        "gridcolor": "white",
                        "gridwidth": 2,
                        "linecolor": "white",
                        "showbackground": true,
                        "ticks": "",
                        "zerolinecolor": "white"
                      }
                    },
                    "shapedefaults": {
                      "line": {
                        "color": "#2a3f5f"
                      }
                    },
                    "ternary": {
                      "aaxis": {
                        "gridcolor": "white",
                        "linecolor": "white",
                        "ticks": ""
                      },
                      "baxis": {
                        "gridcolor": "white",
                        "linecolor": "white",
                        "ticks": ""
                      },
                      "bgcolor": "#E5ECF6",
                      "caxis": {
                        "gridcolor": "white",
                        "linecolor": "white",
                        "ticks": ""
                      }
                    },
                    "title": {
                      "x": 0.05
                    },
                    "xaxis": {
                      "automargin": true,
                      "gridcolor": "white",
                      "linecolor": "white",
                      "ticks": "",
                      "title": {
                        "standoff": 15
                      },
                      "zerolinecolor": "white",
                      "zerolinewidth": 2
                    },
                    "yaxis": {
                      "automargin": true,
                      "gridcolor": "white",
                      "linecolor": "white",
                      "ticks": "",
                      "title": {
                        "standoff": 15
                      },
                      "zerolinecolor": "white",
                      "zerolinewidth": 2
                    }
                  }
                },
                "uniformtext": {
                  "minsize": 8
                },
                "xaxis": {
                  "anchor": "y",
                  "categoryarray": [
                    "SUMATERA UTARA",
                    "SUMATERA BARAT",
                    "RIAU",
                    "JAMBI",
                    "SUMATERA SELATAN",
                    "BENGKULU",
                    "LAMPUNG",
                    "KEP. BANGKA BELITUNG",
                    "KEP. RIAU",
                    "DKI JAKARTA",
                    "JAWA BARAT",
                    "JAWA TENGAH",
                    "DI YOGYAKARTA",
                    "JAWA TIMUR",
                    "BANTEN",
                    "BALI",
                    "NUSA TENGGARA BARAT",
                    "NUSA TENGGARA TIMUR",
                    "KALIMANTAN BARAT",
                    "KALIMANTAN TENGAH",
                    "KALIMANTAN SELATAN",
                    "KALIMANTAN TIMUR",
                    "KALIMANTAN UTARA",
                    "SULAWESI UTARA",
                    "SULAWESI TENGAH",
                    "SULAWESI SELATAN",
                    "SULAWESI TENGGARA",
                    "GORONTALO",
                    "SULAWESI BARAT",
                    "MALUKU",
                    "MALUKU UTARA",
                    "PAPUA BARAT",
                    "PAPUA"
                  ],
                  "categoryorder": "array",
                  "domain": [
                    0,
                    1
                  ],
                  "tickangle": 0,
                  "title": {
                    "text": "PROVINSI"
                  }
                },
                "yaxis": {
                  "anchor": "x",
                  "domain": [
                    0,
                    1
                  ],
                  "title": {
                    "text": "LajuPE"
                  }
                }
              }
            }
          },
          "metadata": {},
          "output_type": "display_data"
        }
      ],
      "source": [
        "import plotly.graph_objects as go\n",
        "import plotly.express as px\n",
        "fig1 = px.bar(ekonom[1:34], y='LajuPE', x='PROVINSI', text='LajuPE', color='PROVINSI')\n",
        "# Put bar total value above bars with 2 values of precision\n",
        "fig1.update_traces(texttemplate='%{text:.2s}', textposition='outside')\n",
        "# Set fontsize and uniformtext_mode='hide' says to hide the text if it won't fit\n",
        "fig1.update_layout(uniformtext_minsize=8)\n",
        "# Rotate labels 45 degrees\n",
        "fig1.update_layout(xaxis_tickangle=0)\n",
        "fig1"
      ]
    },
    {
      "cell_type": "markdown",
      "metadata": {
        "id": "tXYVUyxiY2CI"
      },
      "source": [
        "# EDA (Exploratory Data Analysis)\n"
      ]
    },
    {
      "cell_type": "code",
      "execution_count": 10,
      "metadata": {
        "id": "wJsF0gysY8Zt"
      },
      "outputs": [],
      "source": [
        "import matplotlib.pyplot as plt\n",
        "import seaborn as sns"
      ]
    },
    {
      "cell_type": "code",
      "execution_count": 11,
      "metadata": {
        "colab": {
          "base_uri": "https://localhost:8080/",
          "height": 395
        },
        "id": "jXh2YNGoZ9C5",
        "outputId": "430292b0-891f-4856-b83e-af98eb82d235"
      },
      "outputs": [
        {
          "data": {
            "text/plain": [
              "<AxesSubplot:>"
            ]
          },
          "execution_count": 11,
          "metadata": {},
          "output_type": "execute_result"
        },
        {
          "data": {
            "image/png": "[encoded data removed]",
            "text/plain": [
              "<Figure size 720x432 with 2 Axes>"
            ]
          },
          "metadata": {
            "needs_background": "light"
          },
          "output_type": "display_data"
        }
      ],
      "source": [
        "#Heatmap untuk korelasi\n",
        "plt.figure(figsize=(10,6))\n",
        "sns.heatmap(ekonom.corr(), annot=True, cmap=\"ocean\")"
      ]
    },
    {
      "cell_type": "markdown",
      "metadata": {
        "colab": {
          "base_uri": "https://localhost:8080/",
          "height": 0
        },
        "id": "9tCItCVYas6x",
        "outputId": "5e2f973a-0248-489a-c98f-410abbc58930"
      },
      "source": [
        "#Korelasi\n",
        "home.corr().LajuPE.sort_values(ascending=False)"
      ]
    },
    {
      "cell_type": "code",
      "execution_count": 12,
      "metadata": {},
      "outputs": [
        {
          "data": {
            "text/plain": [
              "LajuPE                1.000000\n",
              "IPM                   0.471806\n",
              "PersentaseTK          0.320627\n",
              "PersentasePenduduk    0.065544\n",
              "PersentaseEkspor      0.013849\n",
              "Name: LajuPE, dtype: float64"
            ]
          },
          "execution_count": 12,
          "metadata": {},
          "output_type": "execute_result"
        }
      ],
      "source": [
        "#Korelasi\n",
        "ekonom.corr().LajuPE.sort_values(ascending=False)"
      ]
    },
    {
      "cell_type": "code",
      "execution_count": 13,
      "metadata": {},
      "outputs": [
        {
          "data": {
            "text/html": [
              "<div>\n",
              "<style scoped>\n",
              "    .dataframe tbody tr th:only-of-type {\n",
              "        vertical-align: middle;\n",
              "    }\n",
              "\n",
              "    .dataframe tbody tr th {\n",
              "        vertical-align: top;\n",
              "    }\n",
              "\n",
              "    .dataframe thead th {\n",
              "        text-align: right;\n",
              "    }\n",
              "</style>\n",
              "<table border=\"1\" class=\"dataframe\">\n",
              "  <thead>\n",
              "    <tr style=\"text-align: right;\">\n",
              "      <th></th>\n",
              "      <th>PROVINSI</th>\n",
              "      <th>LajuPE</th>\n",
              "      <th>PersentaseTK</th>\n",
              "      <th>IPM</th>\n",
              "    </tr>\n",
              "  </thead>\n",
              "  <tbody>\n",
              "    <tr>\n",
              "      <th>0</th>\n",
              "      <td>ACEH</td>\n",
              "      <td>4.14</td>\n",
              "      <td>42.88</td>\n",
              "      <td>71.90</td>\n",
              "    </tr>\n",
              "    <tr>\n",
              "      <th>1</th>\n",
              "      <td>SUMATERA UTARA</td>\n",
              "      <td>5.22</td>\n",
              "      <td>45.00</td>\n",
              "      <td>71.74</td>\n",
              "    </tr>\n",
              "    <tr>\n",
              "      <th>2</th>\n",
              "      <td>SUMATERA BARAT</td>\n",
              "      <td>5.01</td>\n",
              "      <td>37.87</td>\n",
              "      <td>72.39</td>\n",
              "    </tr>\n",
              "    <tr>\n",
              "      <th>3</th>\n",
              "      <td>RIAU</td>\n",
              "      <td>2.81</td>\n",
              "      <td>47.78</td>\n",
              "      <td>73.00</td>\n",
              "    </tr>\n",
              "    <tr>\n",
              "      <th>4</th>\n",
              "      <td>JAMBI</td>\n",
              "      <td>4.37</td>\n",
              "      <td>42.94</td>\n",
              "      <td>71.26</td>\n",
              "    </tr>\n",
              "  </tbody>\n",
              "</table>\n",
              "</div>"
            ],
            "text/plain": [
              "         PROVINSI  LajuPE  PersentaseTK    IPM\n",
              "0            ACEH    4.14         42.88  71.90\n",
              "1  SUMATERA UTARA    5.22         45.00  71.74\n",
              "2  SUMATERA BARAT    5.01         37.87  72.39\n",
              "3            RIAU    2.81         47.78  73.00\n",
              "4           JAMBI    4.37         42.94  71.26"
            ]
          },
          "execution_count": 13,
          "metadata": {},
          "output_type": "execute_result"
        }
      ],
      "source": [
        "#buang Persentase Penuduk dan Ekspor\n",
        "xx = ekonom.drop('PersentaseEkspor',axis=1)\n",
        "ekonomi = xx.drop('PersentasePenduduk',axis=1)\n",
        "ekonomi.head()"
      ]
    },
    {
      "cell_type": "code",
      "execution_count": 14,
      "metadata": {},
      "outputs": [
        {
          "data": {
            "text/html": [
              "<div>\n",
              "<style scoped>\n",
              "    .dataframe tbody tr th:only-of-type {\n",
              "        vertical-align: middle;\n",
              "    }\n",
              "\n",
              "    .dataframe tbody tr th {\n",
              "        vertical-align: top;\n",
              "    }\n",
              "\n",
              "    .dataframe thead th {\n",
              "        text-align: right;\n",
              "    }\n",
              "</style>\n",
              "<table border=\"1\" class=\"dataframe\">\n",
              "  <thead>\n",
              "    <tr style=\"text-align: right;\">\n",
              "      <th></th>\n",
              "      <th>LajuPE</th>\n",
              "      <th>PersentaseTK</th>\n",
              "      <th>IPM</th>\n",
              "    </tr>\n",
              "  </thead>\n",
              "  <tbody>\n",
              "    <tr>\n",
              "      <th>0</th>\n",
              "      <td>4.14</td>\n",
              "      <td>42.88</td>\n",
              "      <td>71.90</td>\n",
              "    </tr>\n",
              "    <tr>\n",
              "      <th>1</th>\n",
              "      <td>5.22</td>\n",
              "      <td>45.00</td>\n",
              "      <td>71.74</td>\n",
              "    </tr>\n",
              "    <tr>\n",
              "      <th>2</th>\n",
              "      <td>5.01</td>\n",
              "      <td>37.87</td>\n",
              "      <td>72.39</td>\n",
              "    </tr>\n",
              "    <tr>\n",
              "      <th>3</th>\n",
              "      <td>2.81</td>\n",
              "      <td>47.78</td>\n",
              "      <td>73.00</td>\n",
              "    </tr>\n",
              "    <tr>\n",
              "      <th>4</th>\n",
              "      <td>4.37</td>\n",
              "      <td>42.94</td>\n",
              "      <td>71.26</td>\n",
              "    </tr>\n",
              "  </tbody>\n",
              "</table>\n",
              "</div>"
            ],
            "text/plain": [
              "   LajuPE  PersentaseTK    IPM\n",
              "0    4.14         42.88  71.90\n",
              "1    5.22         45.00  71.74\n",
              "2    5.01         37.87  72.39\n",
              "3    2.81         47.78  73.00\n",
              "4    4.37         42.94  71.26"
            ]
          },
          "execution_count": 14,
          "metadata": {},
          "output_type": "execute_result"
        }
      ],
      "source": [
        "#menentukan data yg di cluster\n",
        "x=ekonomi.iloc[:,1:4]\n",
        "x.head()"
      ]
    },
    {
      "cell_type": "code",
      "execution_count": 15,
      "metadata": {},
      "outputs": [
        {
          "data": {
            "text/plain": [
              "array([[  4.14,  42.88,  71.9 ],\n",
              "       [  5.22,  45.  ,  71.74],\n",
              "       [  5.01,  37.87,  72.39],\n",
              "       [  2.81,  47.78,  73.  ],\n",
              "       [  4.37,  42.94,  71.26],\n",
              "       [  5.69,  39.48,  70.02],\n",
              "       [  4.94,  34.88,  71.21],\n",
              "       [  5.26,  31.51,  69.57],\n",
              "       [  3.32,  53.18,  71.3 ],\n",
              "       [  4.84,  70.43,  75.48],\n",
              "       [  5.82,  68.65,  80.76],\n",
              "       [  5.07,  49.8 ,  72.03],\n",
              "       [  5.4 ,  42.01,  71.73],\n",
              "       [  6.59,  48.36,  79.99],\n",
              "       [  5.52,  39.36,  71.5 ],\n",
              "       [  5.29,  57.86,  72.44],\n",
              "       [  5.6 ,  50.54,  75.38],\n",
              "       [  3.9 ,  28.98,  68.14],\n",
              "       [  5.24,  27.74,  65.23],\n",
              "       [  5.09,  39.89,  67.65],\n",
              "       [  6.12,  48.98,  70.91],\n",
              "       [  4.08,  43.18,  70.72],\n",
              "       [  4.74,  58.24,  76.61],\n",
              "       [  6.9 ,  53.31,  71.15],\n",
              "       [  5.65,  45.19,  72.99],\n",
              "       [  8.83,  37.03,  69.5 ],\n",
              "       [  6.91,  39.45,  71.66],\n",
              "       [  6.5 ,  37.45,  71.2 ],\n",
              "       [  6.4 ,  41.34,  68.49],\n",
              "       [  5.67,  28.09,  65.73],\n",
              "       [  5.41,  38.02,  69.45],\n",
              "       [  6.1 ,  38.31,  68.7 ],\n",
              "       [  2.66,  47.75,  64.7 ],\n",
              "       [-15.75,  20.71,  60.84]])"
            ]
          },
          "execution_count": 15,
          "metadata": {},
          "output_type": "execute_result"
        }
      ],
      "source": [
        "#mengubah data jadi array\n",
        "x_array=np.array(x)\n",
        "x_array"
      ]
    },
    {
      "cell_type": "code",
      "execution_count": 16,
      "metadata": {},
      "outputs": [
        {
          "data": {
            "text/plain": [
              "array([[0.80919447, 0.44589702, 0.55522088],\n",
              "       [0.85313263, 0.4885358 , 0.54718876],\n",
              "       [0.8445891 , 0.34513274, 0.57981928],\n",
              "       [0.75508544, 0.54444891, 0.61044177],\n",
              "       [0.81855167, 0.44710378, 0.52309237],\n",
              "       [0.87225386, 0.37751408, 0.46084337],\n",
              "       [0.84174125, 0.28499598, 0.52058233],\n",
              "       [0.85475997, 0.21721641, 0.43825301],\n",
              "       [0.77583401, 0.65305712, 0.5251004 ],\n",
              "       [0.8376729 , 1.        , 0.73493976],\n",
              "       [0.87754272, 0.96419952, 1.        ],\n",
              "       [0.84703011, 0.58507643, 0.56174699],\n",
              "       [0.86045566, 0.42839903, 0.54668675],\n",
              "       [0.908869  , 0.55611424, 0.96134538],\n",
              "       [0.86533767, 0.37510056, 0.53514056],\n",
              "       [0.85598047, 0.74718423, 0.58232932],\n",
              "       [0.86859235, 0.59995977, 0.72991968],\n",
              "       [0.79943043, 0.16633146, 0.36646586],\n",
              "       [0.8539463 , 0.14139179, 0.22038153],\n",
              "       [0.84784378, 0.38576026, 0.34186747],\n",
              "       [0.88974776, 0.56858407, 0.50552209],\n",
              "       [0.80675346, 0.45193081, 0.49598394],\n",
              "       [0.83360456, 0.75482703, 0.79166667],\n",
              "       [0.92148088, 0.65567176, 0.51757028],\n",
              "       [0.87062653, 0.4923572 , 0.60993976],\n",
              "       [1.        , 0.32823813, 0.43473896],\n",
              "       [0.92188771, 0.3769107 , 0.54317269],\n",
              "       [0.90520749, 0.33668544, 0.52008032],\n",
              "       [0.90113914, 0.41492357, 0.38403614],\n",
              "       [0.8714402 , 0.14843121, 0.24548193],\n",
              "       [0.86086249, 0.34814964, 0.43222892],\n",
              "       [0.88893409, 0.3539823 , 0.39457831],\n",
              "       [0.74898291, 0.54384553, 0.1937751 ],\n",
              "       [0.        , 0.        , 0.        ]])"
            ]
          },
          "execution_count": 16,
          "metadata": {},
          "output_type": "execute_result"
        }
      ],
      "source": [
        "from sklearn.cluster import KMeans\n",
        "from sklearn.preprocessing import MinMaxScaler\n",
        "#Scaling data\n",
        "scaler=MinMaxScaler()\n",
        "x_scaled=scaler.fit_transform(x_array)\n",
        "x_scaled"
      ]
    },
    {
      "cell_type": "code",
      "execution_count": 17,
      "metadata": {},
      "outputs": [],
      "source": [
        "#function returns WSS score for k values from 1 to kmax\n",
        "\n",
        "def calculate_WSS(points, kmax):\n",
        "  sse = []\n",
        "  for k in range(1, kmax+1):\n",
        "    kmeans = KMeans(n_clusters = k).fit(points)\n",
        "    centroids = kmeans.cluster_centers_\n",
        "    pred_clusters = kmeans.predict(points)\n",
        "    curr_sse = 0\n",
        "    \n",
        "    # calculate square of Euclidean distance of each point from its cluster center and add to current WSS\n",
        "    for i in range(len(points)):\n",
        "      curr_center = centroids[pred_clusters[i]]\n",
        "      curr_sse += (points[i, 0] - curr_center[0]) ** 2 + (points[i, 1] - curr_center[1]) ** 2\n",
        "      \n",
        "    sse.append(curr_sse)\n",
        "  return sse"
      ]
    },
    {
      "cell_type": "code",
      "execution_count": 18,
      "metadata": {},
      "outputs": [],
      "source": [
        "wss=calculate_WSS(x_scaled, 15)"
      ]
    },
    {
      "cell_type": "code",
      "execution_count": 19,
      "metadata": {},
      "outputs": [
        {
          "data": {
            "image/png": "[encoded data removed]",
            "text/plain": [
              "<Figure size 504x504 with 1 Axes>"
            ]
          },
          "metadata": {
            "needs_background": "light"
          },
          "output_type": "display_data"
        }
      ],
      "source": [
        "#plot elbow\n",
        "xx=np.arange(1,16,1)\n",
        "plt.figure(figsize=[7,7])\n",
        "plt.plot(xx,wss, \"b-o\")\n",
        "plt.show()"
      ]
    },
    {
      "cell_type": "code",
      "execution_count": 20,
      "metadata": {},
      "outputs": [],
      "source": [
        "from sklearn.datasets import make_blobs\n",
        "from sklearn.cluster import KMeans\n",
        "from sklearn.metrics import silhouette_samples, silhouette_score\n",
        "\n",
        "import matplotlib.pyplot as plt\n",
        "import matplotlib.cm as cm\n",
        "import numpy as np\n",
        "\n",
        "range_n_clusters = [2, 3, 4]\n",
        "\n",
        "def silh(X):\n",
        "    for n_clusters in range_n_clusters:\n",
        "        # Create a subplot with 1 row and 2 columns\n",
        "        fig, (ax1, ax2) = plt.subplots(1, 2)\n",
        "        fig.set_size_inches(18, 7)\n",
        "\n",
        "        # The 1st subplot is the silhouette plot\n",
        "        # The silhouette coefficient can range from -1, 1 but in this example all\n",
        "        # lie within [-0.1, 1]\n",
        "        ax1.set_xlim([-0.1, 1])\n",
        "        # The (n_clusters+1)*10 is for inserting blank space between silhouette\n",
        "        # plots of individual clusters, to demarcate them clearly.\n",
        "        ax1.set_ylim([0, len(X) + (n_clusters + 1) * 10])\n",
        "\n",
        "        # Initialize the clusterer with n_clusters value and a random generator\n",
        "        # seed of 10 for reproducibility.\n",
        "        clusterer = KMeans(n_clusters=n_clusters, random_state=10)\n",
        "        cluster_labels = clusterer.fit_predict(X)\n",
        "\n",
        "        # The silhouette_score gives the average value for all the samples.\n",
        "        # This gives a perspective into the density and separation of the formed\n",
        "        # clusters\n",
        "        silhouette_avg = silhouette_score(X, cluster_labels)\n",
        "        print(\n",
        "            \"For n_clusters =\",\n",
        "            n_clusters,\n",
        "            \"The average silhouette_score is :\",\n",
        "            silhouette_avg,\n",
        "        )\n",
        "\n",
        "        # Compute the silhouette scores for each sample\n",
        "        sample_silhouette_values = silhouette_samples(X, cluster_labels)\n",
        "\n",
        "        y_lower = 10\n",
        "        for i in range(n_clusters):\n",
        "            # Aggregate the silhouette scores for samples belonging to\n",
        "            # cluster i, and sort them\n",
        "            ith_cluster_silhouette_values = sample_silhouette_values[cluster_labels == i]\n",
        "\n",
        "            ith_cluster_silhouette_values.sort()\n",
        "\n",
        "            size_cluster_i = ith_cluster_silhouette_values.shape[0]\n",
        "            y_upper = y_lower + size_cluster_i\n",
        "\n",
        "            color = cm.nipy_spectral(float(i) / n_clusters)\n",
        "            ax1.fill_betweenx(\n",
        "                np.arange(y_lower, y_upper),\n",
        "                0,\n",
        "                ith_cluster_silhouette_values,\n",
        "                facecolor=color,\n",
        "                edgecolor=color,\n",
        "                alpha=0.7,\n",
        "            )\n",
        "\n",
        "            # Label the silhouette plots with their cluster numbers at the middle\n",
        "            ax1.text(-0.05, y_lower + 0.5 * size_cluster_i, str(i))\n",
        "\n",
        "            # Compute the new y_lower for next plot\n",
        "            y_lower = y_upper + 10  # 10 for the 0 samples\n",
        "\n",
        "        ax1.set_title(\"The silhouette plot for the various clusters.\")\n",
        "        ax1.set_xlabel(\"The silhouette coefficient values\")\n",
        "        ax1.set_ylabel(\"Cluster label\")\n",
        "\n",
        "        # The vertical line for average silhouette score of all the values\n",
        "        ax1.axvline(x=silhouette_avg, color=\"red\", linestyle=\"--\")\n",
        "\n",
        "        ax1.set_yticks([])  # Clear the yaxis labels / ticks\n",
        "        ax1.set_xticks([-0.1, 0, 0.2, 0.4, 0.6, 0.8, 1])\n",
        "\n",
        "        # 2nd Plot showing the actual clusters formed\n",
        "        colors = cm.nipy_spectral(cluster_labels.astype(float) / n_clusters)\n",
        "        ax2.scatter(\n",
        "            X[:, 0], X[:, 1], marker=\".\", s=300, lw=0, alpha=0.7, c=colors, edgecolor=\"k\"\n",
        "        )\n",
        "\n",
        "        # Labeling the clusters\n",
        "        centers = clusterer.cluster_centers_\n",
        "        # Draw white circles at cluster centers\n",
        "        ax2.scatter(\n",
        "            centers[:, 0],\n",
        "            centers[:, 1],\n",
        "            marker=\"o\",\n",
        "            c=\"white\",\n",
        "            alpha=1,\n",
        "            s=200,\n",
        "            edgecolor=\"k\",\n",
        "        )\n",
        "\n",
        "        for i, c in enumerate(centers):\n",
        "            ax2.scatter(c[0], c[1], marker=\"$%d$\" % i, alpha=1, s=50, edgecolor=\"k\")\n",
        "\n",
        "        ax2.set_title(\"The visualization of the clustered data.\")\n",
        "        ax2.set_xlabel(\"Feature space for the 1st feature\")\n",
        "        ax2.set_ylabel(\"Feature space for the 2nd feature\")\n",
        "\n",
        "        plt.suptitle(\n",
        "            \"Silhouette analysis for KMeans clustering on sample data with n_clusters = %d\"\n",
        "            % n_clusters,\n",
        "            fontsize=14,\n",
        "            fontweight=\"bold\",\n",
        "        )\n",
        "\n",
        "    plt.show()"
      ]
    },
    {
      "cell_type": "code",
      "execution_count": 21,
      "metadata": {},
      "outputs": [
        {
          "name": "stdout",
          "output_type": "stream",
          "text": [
            "For n_clusters = 2 The average silhouette_score is : 0.3771932604722703\n",
            "For n_clusters = 3 The average silhouette_score is : 0.4266416183843255\n",
            "For n_clusters = 4 The average silhouette_score is : 0.32499703012358233\n"
          ]
        },
        {
          "data": {
            "image/png": "[encoded data removed]",
            "text/plain": [
              "<Figure size 1296x504 with 2 Axes>"
            ]
          },
          "metadata": {
            "needs_background": "light"
          },
          "output_type": "display_data"
        },
        {
          "data": {
            "image/png": "[encoded data removed]",
            "text/plain": [
              "<Figure size 1296x504 with 2 Axes>"
            ]
          },
          "metadata": {
            "needs_background": "light"
          },
          "output_type": "display_data"
        },
        {
          "data": {
            "image/png": "[encoded data removed]",
            "text/plain": [
              "<Figure size 1296x504 with 2 Axes>"
            ]
          },
          "metadata": {
            "needs_background": "light"
          },
          "output_type": "display_data"
        }
      ],
      "source": [
        "silh(x_scaled)"
      ]
    },
    {
      "cell_type": "code",
      "execution_count": 22,
      "metadata": {},
      "outputs": [],
      "source": [
        "#menentukan model cluster\n",
        "kmeans = KMeans(n_clusters = 3, random_state=123)"
      ]
    },
    {
      "cell_type": "code",
      "execution_count": 23,
      "metadata": {},
      "outputs": [
        {
          "data": {
            "text/plain": [
              "KMeans(algorithm='auto', copy_x=True, init='k-means++', max_iter=300,\n",
              "       n_clusters=3, n_init=10, n_jobs=None, precompute_distances='auto',\n",
              "       random_state=123, tol=0.0001, verbose=0)"
            ]
          },
          "execution_count": 23,
          "metadata": {},
          "output_type": "execute_result"
        }
      ],
      "source": [
        "#menginput data pada model\n",
        "kmeans.fit(x_scaled)"
      ]
    },
    {
      "cell_type": "code",
      "execution_count": 24,
      "metadata": {},
      "outputs": [
        {
          "data": {
            "text/plain": [
              "array([0, 0, 0, 1, 0, 0, 0, 0, 1, 1, 1, 1, 0, 1, 0, 1, 1, 0, 0, 0, 0, 0,\n",
              "       1, 1, 0, 0, 0, 0, 0, 0, 0, 0, 0, 2])"
            ]
          },
          "execution_count": 24,
          "metadata": {},
          "output_type": "execute_result"
        }
      ],
      "source": [
        "# label cluster\n",
        "kmeans.labels_"
      ]
    },
    {
      "cell_type": "code",
      "execution_count": 25,
      "metadata": {},
      "outputs": [
        {
          "data": {
            "text/plain": [
              "array([[0.86029646, 0.36814859, 0.45196001],\n",
              "       [0.84816924, 0.7060539 , 0.70150602],\n",
              "       [0.        , 0.        , 0.        ]])"
            ]
          },
          "execution_count": 25,
          "metadata": {},
          "output_type": "execute_result"
        }
      ],
      "source": [
        "#pusat cluster\n",
        "kmeans.cluster_centers_"
      ]
    },
    {
      "cell_type": "code",
      "execution_count": 26,
      "metadata": {},
      "outputs": [
        {
          "data": {
            "text/plain": [
              "<bound method NDFrame.head of                 PROVINSI  LajuPE  PersentaseTK    IPM  cluster\n",
              "0                   ACEH    4.14         42.88  71.90        0\n",
              "1         SUMATERA UTARA    5.22         45.00  71.74        0\n",
              "2         SUMATERA BARAT    5.01         37.87  72.39        0\n",
              "3                   RIAU    2.81         47.78  73.00        1\n",
              "4                  JAMBI    4.37         42.94  71.26        0\n",
              "5       SUMATERA SELATAN    5.69         39.48  70.02        0\n",
              "6               BENGKULU    4.94         34.88  71.21        0\n",
              "7                LAMPUNG    5.26         31.51  69.57        0\n",
              "8   KEP. BANGKA BELITUNG    3.32         53.18  71.30        1\n",
              "9              KEP. RIAU    4.84         70.43  75.48        1\n",
              "10           DKI JAKARTA    5.82         68.65  80.76        1\n",
              "11            JAWA BARAT    5.07         49.80  72.03        1\n",
              "12           JAWA TENGAH    5.40         42.01  71.73        0\n",
              "13         DI YOGYAKARTA    6.59         48.36  79.99        1\n",
              "14            JAWA TIMUR    5.52         39.36  71.50        0\n",
              "15                BANTEN    5.29         57.86  72.44        1\n",
              "16                  BALI    5.60         50.54  75.38        1\n",
              "17   NUSA TENGGARA BARAT    3.90         28.98  68.14        0\n",
              "18   NUSA TENGGARA TIMUR    5.24         27.74  65.23        0\n",
              "19      KALIMANTAN BARAT    5.09         39.89  67.65        0\n",
              "20     KALIMANTAN TENGAH    6.12         48.98  70.91        0\n",
              "21    KALIMANTAN SELATAN    4.08         43.18  70.72        0\n",
              "22      KALIMANTAN TIMUR    4.74         58.24  76.61        1\n",
              "23      KALIMANTAN UTARA    6.90         53.31  71.15        1\n",
              "24        SULAWESI UTARA    5.65         45.19  72.99        0\n",
              "25       SULAWESI TENGAH    8.83         37.03  69.50        0\n",
              "26      SULAWESI SELATAN    6.91         39.45  71.66        0\n",
              "27     SULAWESI TENGGARA    6.50         37.45  71.20        0\n",
              "28             GORONTALO    6.40         41.34  68.49        0\n",
              "29        SULAWESI BARAT    5.67         28.09  65.73        0\n",
              "30                MALUKU    5.41         38.02  69.45        0\n",
              "31          MALUKU UTARA    6.10         38.31  68.70        0\n",
              "32           PAPUA BARAT    2.66         47.75  64.70        0\n",
              "33                 PAPUA  -15.75         20.71  60.84        2>"
            ]
          },
          "execution_count": 26,
          "metadata": {},
          "output_type": "execute_result"
        }
      ],
      "source": [
        "#menambahkan label pada data frame\n",
        "ekonomi['cluster'] = kmeans.labels_\n",
        "ekonomi.head"
      ]
    },
    {
      "cell_type": "code",
      "execution_count": 27,
      "metadata": {},
      "outputs": [
        {
          "data": {
            "image/png": "[encoded data removed]",
            "text/plain": [
              "<Figure size 432x288 with 2 Axes>"
            ]
          },
          "metadata": {
            "needs_background": "light"
          },
          "output_type": "display_data"
        }
      ],
      "source": [
        "cluster = kmeans.labels_\n",
        "output = plt.scatter(x_scaled[:,0], x_scaled[:,1], s = 100, c = cluster, marker = \"o\", alpha = 1 )\n",
        "centers = kmeans.cluster_centers_\n",
        "plt.scatter(centers[:,0], centers[:,1], c=\"magenta\", s=200, alpha=1 , marker=\"o\");\n",
        "plt.title(\"Hasil Klustering K-Means\")\n",
        "plt.colorbar(output)\n",
        "plt.show()"
      ]
    },
    {
      "cell_type": "code",
      "execution_count": 28,
      "metadata": {},
      "outputs": [],
      "source": [
        "grup=ekonomi.groupby(\"cluster\")"
      ]
    },
    {
      "cell_type": "code",
      "execution_count": 29,
      "metadata": {},
      "outputs": [
        {
          "data": {
            "text/html": [
              "<div>\n",
              "<style scoped>\n",
              "    .dataframe tbody tr th:only-of-type {\n",
              "        vertical-align: middle;\n",
              "    }\n",
              "\n",
              "    .dataframe tbody tr th {\n",
              "        vertical-align: top;\n",
              "    }\n",
              "\n",
              "    .dataframe thead th {\n",
              "        text-align: right;\n",
              "    }\n",
              "</style>\n",
              "<table border=\"1\" class=\"dataframe\">\n",
              "  <thead>\n",
              "    <tr style=\"text-align: right;\">\n",
              "      <th></th>\n",
              "      <th>LajuPE</th>\n",
              "      <th>PersentaseTK</th>\n",
              "      <th>IPM</th>\n",
              "    </tr>\n",
              "    <tr>\n",
              "      <th>cluster</th>\n",
              "      <th></th>\n",
              "      <th></th>\n",
              "      <th></th>\n",
              "    </tr>\n",
              "  </thead>\n",
              "  <tbody>\n",
              "    <tr>\n",
              "      <th>0</th>\n",
              "      <td>5.396087</td>\n",
              "      <td>39.014348</td>\n",
              "      <td>69.843043</td>\n",
              "    </tr>\n",
              "    <tr>\n",
              "      <th>1</th>\n",
              "      <td>5.098000</td>\n",
              "      <td>55.815000</td>\n",
              "      <td>74.814000</td>\n",
              "    </tr>\n",
              "    <tr>\n",
              "      <th>2</th>\n",
              "      <td>-15.750000</td>\n",
              "      <td>20.710000</td>\n",
              "      <td>60.840000</td>\n",
              "    </tr>\n",
              "  </tbody>\n",
              "</table>\n",
              "</div>"
            ],
            "text/plain": [
              "            LajuPE  PersentaseTK        IPM\n",
              "cluster                                    \n",
              "0         5.396087     39.014348  69.843043\n",
              "1         5.098000     55.815000  74.814000\n",
              "2       -15.750000     20.710000  60.840000"
            ]
          },
          "execution_count": 29,
          "metadata": {},
          "output_type": "execute_result"
        }
      ],
      "source": [
        "profil = pd.DataFrame(grup.mean())\n",
        "profil"
      ]
    },
    {
      "cell_type": "code",
      "execution_count": 30,
      "metadata": {},
      "outputs": [],
      "source": [
        "profil[\"cluster\"]=profil.index"
      ]
    },
    {
      "cell_type": "code",
      "execution_count": 31,
      "metadata": {},
      "outputs": [
        {
          "data": {
            "image/png": "[encoded data removed]",
            "text/plain": [
              "<Figure size 432x288 with 1 Axes>"
            ]
          },
          "metadata": {
            "needs_background": "light"
          },
          "output_type": "display_data"
        }
      ],
      "source": [
        "profil.plot(x=\"cluster\", y=[\"LajuPE\", \"PersentaseTK\",\"IPM\"], kind=\"bar\")\n",
        "plt.xticks(rotation=0)\n",
        "plt.show()"
      ]
    },
    {
      "cell_type": "code",
      "execution_count": 32,
      "metadata": {},
      "outputs": [
        {
          "data": {
            "text/html": [
              "<div>\n",
              "<style scoped>\n",
              "    .dataframe tbody tr th:only-of-type {\n",
              "        vertical-align: middle;\n",
              "    }\n",
              "\n",
              "    .dataframe tbody tr th {\n",
              "        vertical-align: top;\n",
              "    }\n",
              "\n",
              "    .dataframe thead th {\n",
              "        text-align: right;\n",
              "    }\n",
              "</style>\n",
              "<table border=\"1\" class=\"dataframe\">\n",
              "  <thead>\n",
              "    <tr style=\"text-align: right;\">\n",
              "      <th></th>\n",
              "      <th>PROVINSI</th>\n",
              "      <th>LajuPE</th>\n",
              "      <th>PersentaseTK</th>\n",
              "      <th>IPM</th>\n",
              "      <th>cluster</th>\n",
              "    </tr>\n",
              "  </thead>\n",
              "  <tbody>\n",
              "    <tr>\n",
              "      <th>0</th>\n",
              "      <td>ACEH</td>\n",
              "      <td>4.14</td>\n",
              "      <td>42.88</td>\n",
              "      <td>71.90</td>\n",
              "      <td>0</td>\n",
              "    </tr>\n",
              "    <tr>\n",
              "      <th>1</th>\n",
              "      <td>SUMATERA UTARA</td>\n",
              "      <td>5.22</td>\n",
              "      <td>45.00</td>\n",
              "      <td>71.74</td>\n",
              "      <td>0</td>\n",
              "    </tr>\n",
              "    <tr>\n",
              "      <th>2</th>\n",
              "      <td>SUMATERA BARAT</td>\n",
              "      <td>5.01</td>\n",
              "      <td>37.87</td>\n",
              "      <td>72.39</td>\n",
              "      <td>0</td>\n",
              "    </tr>\n",
              "    <tr>\n",
              "      <th>4</th>\n",
              "      <td>JAMBI</td>\n",
              "      <td>4.37</td>\n",
              "      <td>42.94</td>\n",
              "      <td>71.26</td>\n",
              "      <td>0</td>\n",
              "    </tr>\n",
              "    <tr>\n",
              "      <th>5</th>\n",
              "      <td>SUMATERA SELATAN</td>\n",
              "      <td>5.69</td>\n",
              "      <td>39.48</td>\n",
              "      <td>70.02</td>\n",
              "      <td>0</td>\n",
              "    </tr>\n",
              "    <tr>\n",
              "      <th>6</th>\n",
              "      <td>BENGKULU</td>\n",
              "      <td>4.94</td>\n",
              "      <td>34.88</td>\n",
              "      <td>71.21</td>\n",
              "      <td>0</td>\n",
              "    </tr>\n",
              "    <tr>\n",
              "      <th>7</th>\n",
              "      <td>LAMPUNG</td>\n",
              "      <td>5.26</td>\n",
              "      <td>31.51</td>\n",
              "      <td>69.57</td>\n",
              "      <td>0</td>\n",
              "    </tr>\n",
              "    <tr>\n",
              "      <th>12</th>\n",
              "      <td>JAWA TENGAH</td>\n",
              "      <td>5.40</td>\n",
              "      <td>42.01</td>\n",
              "      <td>71.73</td>\n",
              "      <td>0</td>\n",
              "    </tr>\n",
              "    <tr>\n",
              "      <th>14</th>\n",
              "      <td>JAWA TIMUR</td>\n",
              "      <td>5.52</td>\n",
              "      <td>39.36</td>\n",
              "      <td>71.50</td>\n",
              "      <td>0</td>\n",
              "    </tr>\n",
              "    <tr>\n",
              "      <th>17</th>\n",
              "      <td>NUSA TENGGARA BARAT</td>\n",
              "      <td>3.90</td>\n",
              "      <td>28.98</td>\n",
              "      <td>68.14</td>\n",
              "      <td>0</td>\n",
              "    </tr>\n",
              "    <tr>\n",
              "      <th>18</th>\n",
              "      <td>NUSA TENGGARA TIMUR</td>\n",
              "      <td>5.24</td>\n",
              "      <td>27.74</td>\n",
              "      <td>65.23</td>\n",
              "      <td>0</td>\n",
              "    </tr>\n",
              "    <tr>\n",
              "      <th>19</th>\n",
              "      <td>KALIMANTAN BARAT</td>\n",
              "      <td>5.09</td>\n",
              "      <td>39.89</td>\n",
              "      <td>67.65</td>\n",
              "      <td>0</td>\n",
              "    </tr>\n",
              "    <tr>\n",
              "      <th>20</th>\n",
              "      <td>KALIMANTAN TENGAH</td>\n",
              "      <td>6.12</td>\n",
              "      <td>48.98</td>\n",
              "      <td>70.91</td>\n",
              "      <td>0</td>\n",
              "    </tr>\n",
              "    <tr>\n",
              "      <th>21</th>\n",
              "      <td>KALIMANTAN SELATAN</td>\n",
              "      <td>4.08</td>\n",
              "      <td>43.18</td>\n",
              "      <td>70.72</td>\n",
              "      <td>0</td>\n",
              "    </tr>\n",
              "    <tr>\n",
              "      <th>24</th>\n",
              "      <td>SULAWESI UTARA</td>\n",
              "      <td>5.65</td>\n",
              "      <td>45.19</td>\n",
              "      <td>72.99</td>\n",
              "      <td>0</td>\n",
              "    </tr>\n",
              "    <tr>\n",
              "      <th>25</th>\n",
              "      <td>SULAWESI TENGAH</td>\n",
              "      <td>8.83</td>\n",
              "      <td>37.03</td>\n",
              "      <td>69.50</td>\n",
              "      <td>0</td>\n",
              "    </tr>\n",
              "    <tr>\n",
              "      <th>26</th>\n",
              "      <td>SULAWESI SELATAN</td>\n",
              "      <td>6.91</td>\n",
              "      <td>39.45</td>\n",
              "      <td>71.66</td>\n",
              "      <td>0</td>\n",
              "    </tr>\n",
              "    <tr>\n",
              "      <th>27</th>\n",
              "      <td>SULAWESI TENGGARA</td>\n",
              "      <td>6.50</td>\n",
              "      <td>37.45</td>\n",
              "      <td>71.20</td>\n",
              "      <td>0</td>\n",
              "    </tr>\n",
              "    <tr>\n",
              "      <th>28</th>\n",
              "      <td>GORONTALO</td>\n",
              "      <td>6.40</td>\n",
              "      <td>41.34</td>\n",
              "      <td>68.49</td>\n",
              "      <td>0</td>\n",
              "    </tr>\n",
              "    <tr>\n",
              "      <th>29</th>\n",
              "      <td>SULAWESI BARAT</td>\n",
              "      <td>5.67</td>\n",
              "      <td>28.09</td>\n",
              "      <td>65.73</td>\n",
              "      <td>0</td>\n",
              "    </tr>\n",
              "    <tr>\n",
              "      <th>30</th>\n",
              "      <td>MALUKU</td>\n",
              "      <td>5.41</td>\n",
              "      <td>38.02</td>\n",
              "      <td>69.45</td>\n",
              "      <td>0</td>\n",
              "    </tr>\n",
              "    <tr>\n",
              "      <th>31</th>\n",
              "      <td>MALUKU UTARA</td>\n",
              "      <td>6.10</td>\n",
              "      <td>38.31</td>\n",
              "      <td>68.70</td>\n",
              "      <td>0</td>\n",
              "    </tr>\n",
              "    <tr>\n",
              "      <th>32</th>\n",
              "      <td>PAPUA BARAT</td>\n",
              "      <td>2.66</td>\n",
              "      <td>47.75</td>\n",
              "      <td>64.70</td>\n",
              "      <td>0</td>\n",
              "    </tr>\n",
              "  </tbody>\n",
              "</table>\n",
              "</div>"
            ],
            "text/plain": [
              "               PROVINSI  LajuPE  PersentaseTK    IPM  cluster\n",
              "0                  ACEH    4.14         42.88  71.90        0\n",
              "1        SUMATERA UTARA    5.22         45.00  71.74        0\n",
              "2        SUMATERA BARAT    5.01         37.87  72.39        0\n",
              "4                 JAMBI    4.37         42.94  71.26        0\n",
              "5      SUMATERA SELATAN    5.69         39.48  70.02        0\n",
              "6              BENGKULU    4.94         34.88  71.21        0\n",
              "7               LAMPUNG    5.26         31.51  69.57        0\n",
              "12          JAWA TENGAH    5.40         42.01  71.73        0\n",
              "14           JAWA TIMUR    5.52         39.36  71.50        0\n",
              "17  NUSA TENGGARA BARAT    3.90         28.98  68.14        0\n",
              "18  NUSA TENGGARA TIMUR    5.24         27.74  65.23        0\n",
              "19     KALIMANTAN BARAT    5.09         39.89  67.65        0\n",
              "20    KALIMANTAN TENGAH    6.12         48.98  70.91        0\n",
              "21   KALIMANTAN SELATAN    4.08         43.18  70.72        0\n",
              "24       SULAWESI UTARA    5.65         45.19  72.99        0\n",
              "25      SULAWESI TENGAH    8.83         37.03  69.50        0\n",
              "26     SULAWESI SELATAN    6.91         39.45  71.66        0\n",
              "27    SULAWESI TENGGARA    6.50         37.45  71.20        0\n",
              "28            GORONTALO    6.40         41.34  68.49        0\n",
              "29       SULAWESI BARAT    5.67         28.09  65.73        0\n",
              "30               MALUKU    5.41         38.02  69.45        0\n",
              "31         MALUKU UTARA    6.10         38.31  68.70        0\n",
              "32          PAPUA BARAT    2.66         47.75  64.70        0"
            ]
          },
          "execution_count": 32,
          "metadata": {},
          "output_type": "execute_result"
        }
      ],
      "source": [
        "# Anggota cluster 0\n",
        "ekonomi[ekonomi.cluster == 0]"
      ]
    },
    {
      "cell_type": "code",
      "execution_count": 33,
      "metadata": {},
      "outputs": [
        {
          "data": {
            "text/html": [
              "<div>\n",
              "<style scoped>\n",
              "    .dataframe tbody tr th:only-of-type {\n",
              "        vertical-align: middle;\n",
              "    }\n",
              "\n",
              "    .dataframe tbody tr th {\n",
              "        vertical-align: top;\n",
              "    }\n",
              "\n",
              "    .dataframe thead th {\n",
              "        text-align: right;\n",
              "    }\n",
              "</style>\n",
              "<table border=\"1\" class=\"dataframe\">\n",
              "  <thead>\n",
              "    <tr style=\"text-align: right;\">\n",
              "      <th></th>\n",
              "      <th>PROVINSI</th>\n",
              "      <th>LajuPE</th>\n",
              "      <th>PersentaseTK</th>\n",
              "      <th>IPM</th>\n",
              "      <th>cluster</th>\n",
              "    </tr>\n",
              "  </thead>\n",
              "  <tbody>\n",
              "    <tr>\n",
              "      <th>3</th>\n",
              "      <td>RIAU</td>\n",
              "      <td>2.81</td>\n",
              "      <td>47.78</td>\n",
              "      <td>73.00</td>\n",
              "      <td>1</td>\n",
              "    </tr>\n",
              "    <tr>\n",
              "      <th>8</th>\n",
              "      <td>KEP. BANGKA BELITUNG</td>\n",
              "      <td>3.32</td>\n",
              "      <td>53.18</td>\n",
              "      <td>71.30</td>\n",
              "      <td>1</td>\n",
              "    </tr>\n",
              "    <tr>\n",
              "      <th>9</th>\n",
              "      <td>KEP. RIAU</td>\n",
              "      <td>4.84</td>\n",
              "      <td>70.43</td>\n",
              "      <td>75.48</td>\n",
              "      <td>1</td>\n",
              "    </tr>\n",
              "    <tr>\n",
              "      <th>10</th>\n",
              "      <td>DKI JAKARTA</td>\n",
              "      <td>5.82</td>\n",
              "      <td>68.65</td>\n",
              "      <td>80.76</td>\n",
              "      <td>1</td>\n",
              "    </tr>\n",
              "    <tr>\n",
              "      <th>11</th>\n",
              "      <td>JAWA BARAT</td>\n",
              "      <td>5.07</td>\n",
              "      <td>49.80</td>\n",
              "      <td>72.03</td>\n",
              "      <td>1</td>\n",
              "    </tr>\n",
              "    <tr>\n",
              "      <th>13</th>\n",
              "      <td>DI YOGYAKARTA</td>\n",
              "      <td>6.59</td>\n",
              "      <td>48.36</td>\n",
              "      <td>79.99</td>\n",
              "      <td>1</td>\n",
              "    </tr>\n",
              "    <tr>\n",
              "      <th>15</th>\n",
              "      <td>BANTEN</td>\n",
              "      <td>5.29</td>\n",
              "      <td>57.86</td>\n",
              "      <td>72.44</td>\n",
              "      <td>1</td>\n",
              "    </tr>\n",
              "    <tr>\n",
              "      <th>16</th>\n",
              "      <td>BALI</td>\n",
              "      <td>5.60</td>\n",
              "      <td>50.54</td>\n",
              "      <td>75.38</td>\n",
              "      <td>1</td>\n",
              "    </tr>\n",
              "    <tr>\n",
              "      <th>22</th>\n",
              "      <td>KALIMANTAN TIMUR</td>\n",
              "      <td>4.74</td>\n",
              "      <td>58.24</td>\n",
              "      <td>76.61</td>\n",
              "      <td>1</td>\n",
              "    </tr>\n",
              "    <tr>\n",
              "      <th>23</th>\n",
              "      <td>KALIMANTAN UTARA</td>\n",
              "      <td>6.90</td>\n",
              "      <td>53.31</td>\n",
              "      <td>71.15</td>\n",
              "      <td>1</td>\n",
              "    </tr>\n",
              "  </tbody>\n",
              "</table>\n",
              "</div>"
            ],
            "text/plain": [
              "                PROVINSI  LajuPE  PersentaseTK    IPM  cluster\n",
              "3                   RIAU    2.81         47.78  73.00        1\n",
              "8   KEP. BANGKA BELITUNG    3.32         53.18  71.30        1\n",
              "9              KEP. RIAU    4.84         70.43  75.48        1\n",
              "10           DKI JAKARTA    5.82         68.65  80.76        1\n",
              "11            JAWA BARAT    5.07         49.80  72.03        1\n",
              "13         DI YOGYAKARTA    6.59         48.36  79.99        1\n",
              "15                BANTEN    5.29         57.86  72.44        1\n",
              "16                  BALI    5.60         50.54  75.38        1\n",
              "22      KALIMANTAN TIMUR    4.74         58.24  76.61        1\n",
              "23      KALIMANTAN UTARA    6.90         53.31  71.15        1"
            ]
          },
          "execution_count": 33,
          "metadata": {},
          "output_type": "execute_result"
        }
      ],
      "source": [
        "# Anggota cluster 1\n",
        "ekonomi[ekonomi.cluster == 1]"
      ]
    },
    {
      "cell_type": "code",
      "execution_count": 34,
      "metadata": {},
      "outputs": [
        {
          "data": {
            "text/html": [
              "<div>\n",
              "<style scoped>\n",
              "    .dataframe tbody tr th:only-of-type {\n",
              "        vertical-align: middle;\n",
              "    }\n",
              "\n",
              "    .dataframe tbody tr th {\n",
              "        vertical-align: top;\n",
              "    }\n",
              "\n",
              "    .dataframe thead th {\n",
              "        text-align: right;\n",
              "    }\n",
              "</style>\n",
              "<table border=\"1\" class=\"dataframe\">\n",
              "  <thead>\n",
              "    <tr style=\"text-align: right;\">\n",
              "      <th></th>\n",
              "      <th>PROVINSI</th>\n",
              "      <th>LajuPE</th>\n",
              "      <th>PersentaseTK</th>\n",
              "      <th>IPM</th>\n",
              "      <th>cluster</th>\n",
              "    </tr>\n",
              "  </thead>\n",
              "  <tbody>\n",
              "    <tr>\n",
              "      <th>33</th>\n",
              "      <td>PAPUA</td>\n",
              "      <td>-15.75</td>\n",
              "      <td>20.71</td>\n",
              "      <td>60.84</td>\n",
              "      <td>2</td>\n",
              "    </tr>\n",
              "  </tbody>\n",
              "</table>\n",
              "</div>"
            ],
            "text/plain": [
              "   PROVINSI  LajuPE  PersentaseTK    IPM  cluster\n",
              "33    PAPUA  -15.75         20.71  60.84        2"
            ]
          },
          "execution_count": 34,
          "metadata": {},
          "output_type": "execute_result"
        }
      ],
      "source": [
        "# Anggota cluster 2\n",
        "ekonomi[ekonomi.cluster == 2]"
      ]
    },
    {
      "cell_type": "code",
      "execution_count": 35,
      "metadata": {},
      "outputs": [],
      "source": [
        "ekonomi.to_csv(\"2019hasil.csv\")"
      ]
    }
  ],
  "metadata": {
    "colab": {
      "collapsed_sections": [],
      "name": "8.Analisis Regresi.ipynb",
      "provenance": []
    },
    "kernelspec": {
      "display_name": "Python 3",
      "name": "python3"
    },
    "language_info": {
      "codemirror_mode": {
        "name": "ipython",
        "version": 3
      },
      "file_extension": ".py",
      "mimetype": "text/x-python",
      "name": "python",
      "nbconvert_exporter": "python",
      "pygments_lexer": "ipython3",
      "version": "3.8.8"
    }
  },
  "nbformat": 4,
  "nbformat_minor": 0
}
