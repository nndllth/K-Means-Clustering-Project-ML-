{
  "cells": [
    {
      "cell_type": "code",
      "execution_count": 1,
      "metadata": {
        "id": "4gs1HYiRTPu1"
      },
      "outputs": [],
      "source": [
        "import numpy as np\n",
        "import pandas as pd\n"
      ]
    },
    {
      "cell_type": "code",
      "execution_count": 2,
      "metadata": {
        "colab": {
          "base_uri": "https://localhost:8080/",
          "height": 256
        },
        "id": "ZB5eiPkFVyBV",
        "outputId": "c9d1a578-69e3-4b85-cdca-25cf5080b01b"
      },
      "outputs": [
        {
          "data": {
            "text/html": [
              "<div>\n",
              "<style scoped>\n",
              "    .dataframe tbody tr th:only-of-type {\n",
              "        vertical-align: middle;\n",
              "    }\n",
              "\n",
              "    .dataframe tbody tr th {\n",
              "        vertical-align: top;\n",
              "    }\n",
              "\n",
              "    .dataframe thead th {\n",
              "        text-align: right;\n",
              "    }\n",
              "</style>\n",
              "<table border=\"1\" class=\"dataframe\">\n",
              "  <thead>\n",
              "    <tr style=\"text-align: right;\">\n",
              "      <th></th>\n",
              "      <th>PROVINSI</th>\n",
              "      <th>LajuPE</th>\n",
              "      <th>PersentaseTK</th>\n",
              "      <th>IPM</th>\n",
              "      <th>PersentasePenduduk</th>\n",
              "      <th>PersentaseEkspor</th>\n",
              "    </tr>\n",
              "  </thead>\n",
              "  <tbody>\n",
              "    <tr>\n",
              "      <th>0</th>\n",
              "      <td>ACEH</td>\n",
              "      <td>-0.37</td>\n",
              "      <td>38.12</td>\n",
              "      <td>71.99</td>\n",
              "      <td>1.998528</td>\n",
              "      <td>1.400467</td>\n",
              "    </tr>\n",
              "    <tr>\n",
              "      <th>1</th>\n",
              "      <td>SUMATERA UTARA</td>\n",
              "      <td>-1.07</td>\n",
              "      <td>40.38</td>\n",
              "      <td>71.77</td>\n",
              "      <td>5.488952</td>\n",
              "      <td>1.499729</td>\n",
              "    </tr>\n",
              "    <tr>\n",
              "      <th>2</th>\n",
              "      <td>SUMATERA BARAT</td>\n",
              "      <td>-1.60</td>\n",
              "      <td>33.72</td>\n",
              "      <td>72.38</td>\n",
              "      <td>2.056984</td>\n",
              "      <td>0.737151</td>\n",
              "    </tr>\n",
              "    <tr>\n",
              "      <th>3</th>\n",
              "      <td>RIAU</td>\n",
              "      <td>-1.12</td>\n",
              "      <td>44.03</td>\n",
              "      <td>72.71</td>\n",
              "      <td>2.578306</td>\n",
              "      <td>4.385003</td>\n",
              "    </tr>\n",
              "    <tr>\n",
              "      <th>4</th>\n",
              "      <td>JAMBI</td>\n",
              "      <td>-0.46</td>\n",
              "      <td>37.26</td>\n",
              "      <td>71.29</td>\n",
              "      <td>1.336853</td>\n",
              "      <td>0.942264</td>\n",
              "    </tr>\n",
              "  </tbody>\n",
              "</table>\n",
              "</div>"
            ],
            "text/plain": [
              "         PROVINSI  LajuPE  PersentaseTK    IPM  PersentasePenduduk  \\\n",
              "0            ACEH   -0.37         38.12  71.99            1.998528   \n",
              "1  SUMATERA UTARA   -1.07         40.38  71.77            5.488952   \n",
              "2  SUMATERA BARAT   -1.60         33.72  72.38            2.056984   \n",
              "3            RIAU   -1.12         44.03  72.71            2.578306   \n",
              "4           JAMBI   -0.46         37.26  71.29            1.336853   \n",
              "\n",
              "   PersentaseEkspor  \n",
              "0          1.400467  \n",
              "1          1.499729  \n",
              "2          0.737151  \n",
              "3          4.385003  \n",
              "4          0.942264  "
            ]
          },
          "execution_count": 2,
          "metadata": {},
          "output_type": "execute_result"
        }
      ],
      "source": [
        "#Membaca data\n",
        "ekonom = pd.read_csv(\"2020.csv\")\n",
        "ekonom.head()"
      ]
    },
    {
      "cell_type": "code",
      "execution_count": 3,
      "metadata": {
        "colab": {
          "base_uri": "https://localhost:8080/",
          "height": 0
        },
        "id": "Q1uerBrzWS2N",
        "outputId": "c98b5bff-700d-423b-e65e-1447d6d97e9d"
      },
      "outputs": [
        {
          "name": "stdout",
          "output_type": "stream",
          "text": [
            "<class 'pandas.core.frame.DataFrame'>\n",
            "RangeIndex: 34 entries, 0 to 33\n",
            "Data columns (total 6 columns):\n",
            " #   Column              Non-Null Count  Dtype  \n",
            "---  ------              --------------  -----  \n",
            " 0   PROVINSI            34 non-null     object \n",
            " 1   LajuPE              34 non-null     float64\n",
            " 2   PersentaseTK        34 non-null     float64\n",
            " 3   IPM                 34 non-null     float64\n",
            " 4   PersentasePenduduk  34 non-null     float64\n",
            " 5   PersentaseEkspor    34 non-null     float64\n",
            "dtypes: float64(5), object(1)\n",
            "memory usage: 1.7+ KB\n"
          ]
        }
      ],
      "source": [
        "#informasi data\n",
        "ekonom.info()\n"
      ]
    },
    {
      "cell_type": "markdown",
      "metadata": {
        "id": "JMkLdx-XWawA"
      },
      "source": [
        "#Data Preprocessing\n"
      ]
    },
    {
      "cell_type": "code",
      "execution_count": 4,
      "metadata": {
        "colab": {
          "base_uri": "https://localhost:8080/",
          "height": 0
        },
        "id": "PXV-Jxv9WZVM",
        "outputId": "f8797a97-db4e-4e13-9564-240f61b98f9b"
      },
      "outputs": [
        {
          "data": {
            "text/plain": [
              "Index(['PROVINSI', 'LajuPE', 'PersentaseTK', 'IPM', 'PersentasePenduduk',\n",
              "       'PersentaseEkspor'],\n",
              "      dtype='object')"
            ]
          },
          "execution_count": 4,
          "metadata": {},
          "output_type": "execute_result"
        }
      ],
      "source": [
        "#Menampilkan semua nama kolom\n",
        "ekonom.columns"
      ]
    },
    {
      "cell_type": "code",
      "execution_count": 5,
      "metadata": {
        "colab": {
          "base_uri": "https://localhost:8080/",
          "height": 0
        },
        "id": "pRBeWmr9X6WY",
        "outputId": "4014013e-dd37-4491-f1e6-052a1ffcdbda"
      },
      "outputs": [
        {
          "data": {
            "text/plain": [
              "PROVINSI              False\n",
              "LajuPE                False\n",
              "PersentaseTK          False\n",
              "IPM                   False\n",
              "PersentasePenduduk    False\n",
              "PersentaseEkspor      False\n",
              "dtype: bool"
            ]
          },
          "execution_count": 5,
          "metadata": {},
          "output_type": "execute_result"
        }
      ],
      "source": [
        "#Mengecek NA/NULL\n",
        "ekonom.isnull().any()"
      ]
    },
    {
      "cell_type": "code",
      "execution_count": 6,
      "metadata": {
        "colab": {
          "base_uri": "https://localhost:8080/",
          "height": 0
        },
        "id": "eHt7kx9oYCyD",
        "outputId": "f108b065-bef9-4965-d81f-81f8b584a154"
      },
      "outputs": [
        {
          "data": {
            "text/plain": [
              "(34, 6)"
            ]
          },
          "execution_count": 6,
          "metadata": {},
          "output_type": "execute_result"
        }
      ],
      "source": [
        "#Ukuran data\n",
        "ekonom.shape"
      ]
    },
    {
      "cell_type": "code",
      "execution_count": 7,
      "metadata": {
        "colab": {
          "base_uri": "https://localhost:8080/",
          "height": 320
        },
        "id": "Fo5hmN1GYIGE",
        "outputId": "b659cd27-a10b-4cbf-9652-07199efe1424"
      },
      "outputs": [
        {
          "data": {
            "text/html": [
              "<div>\n",
              "<style scoped>\n",
              "    .dataframe tbody tr th:only-of-type {\n",
              "        vertical-align: middle;\n",
              "    }\n",
              "\n",
              "    .dataframe tbody tr th {\n",
              "        vertical-align: top;\n",
              "    }\n",
              "\n",
              "    .dataframe thead th {\n",
              "        text-align: right;\n",
              "    }\n",
              "</style>\n",
              "<table border=\"1\" class=\"dataframe\">\n",
              "  <thead>\n",
              "    <tr style=\"text-align: right;\">\n",
              "      <th></th>\n",
              "      <th>LajuPE</th>\n",
              "      <th>PersentaseTK</th>\n",
              "      <th>IPM</th>\n",
              "      <th>PersentasePenduduk</th>\n",
              "      <th>PersentaseEkspor</th>\n",
              "    </tr>\n",
              "  </thead>\n",
              "  <tbody>\n",
              "    <tr>\n",
              "      <th>count</th>\n",
              "      <td>34.000000</td>\n",
              "      <td>34.000000</td>\n",
              "      <td>34.000000</td>\n",
              "      <td>34.000000</td>\n",
              "      <td>34.000000</td>\n",
              "    </tr>\n",
              "    <tr>\n",
              "      <th>mean</th>\n",
              "      <td>-1.252059</td>\n",
              "      <td>38.991176</td>\n",
              "      <td>71.080882</td>\n",
              "      <td>2.941176</td>\n",
              "      <td>2.941176</td>\n",
              "    </tr>\n",
              "    <tr>\n",
              "      <th>std</th>\n",
              "      <td>2.371115</td>\n",
              "      <td>9.620444</td>\n",
              "      <td>3.901881</td>\n",
              "      <td>4.174161</td>\n",
              "      <td>7.623480</td>\n",
              "    </tr>\n",
              "    <tr>\n",
              "      <th>min</th>\n",
              "      <td>-9.310000</td>\n",
              "      <td>20.080000</td>\n",
              "      <td>60.440000</td>\n",
              "      <td>0.262756</td>\n",
              "      <td>0.011610</td>\n",
              "    </tr>\n",
              "    <tr>\n",
              "      <th>25%</th>\n",
              "      <td>-2.382500</td>\n",
              "      <td>33.757500</td>\n",
              "      <td>69.505000</td>\n",
              "      <td>0.875490</td>\n",
              "      <td>0.202781</td>\n",
              "    </tr>\n",
              "    <tr>\n",
              "      <th>50%</th>\n",
              "      <td>-1.115000</td>\n",
              "      <td>37.570000</td>\n",
              "      <td>71.425000</td>\n",
              "      <td>1.518490</td>\n",
              "      <td>0.886397</td>\n",
              "    </tr>\n",
              "    <tr>\n",
              "      <th>75%</th>\n",
              "      <td>-0.642500</td>\n",
              "      <td>43.850000</td>\n",
              "      <td>72.307500</td>\n",
              "      <td>3.018842</td>\n",
              "      <td>2.406176</td>\n",
              "    </tr>\n",
              "    <tr>\n",
              "      <th>max</th>\n",
              "      <td>4.920000</td>\n",
              "      <td>64.590000</td>\n",
              "      <td>80.770000</td>\n",
              "      <td>18.384486</td>\n",
              "      <td>41.620883</td>\n",
              "    </tr>\n",
              "  </tbody>\n",
              "</table>\n",
              "</div>"
            ],
            "text/plain": [
              "          LajuPE  PersentaseTK        IPM  PersentasePenduduk  \\\n",
              "count  34.000000     34.000000  34.000000           34.000000   \n",
              "mean   -1.252059     38.991176  71.080882            2.941176   \n",
              "std     2.371115      9.620444   3.901881            4.174161   \n",
              "min    -9.310000     20.080000  60.440000            0.262756   \n",
              "25%    -2.382500     33.757500  69.505000            0.875490   \n",
              "50%    -1.115000     37.570000  71.425000            1.518490   \n",
              "75%    -0.642500     43.850000  72.307500            3.018842   \n",
              "max     4.920000     64.590000  80.770000           18.384486   \n",
              "\n",
              "       PersentaseEkspor  \n",
              "count         34.000000  \n",
              "mean           2.941176  \n",
              "std            7.623480  \n",
              "min            0.011610  \n",
              "25%            0.202781  \n",
              "50%            0.886397  \n",
              "75%            2.406176  \n",
              "max           41.620883  "
            ]
          },
          "execution_count": 7,
          "metadata": {},
          "output_type": "execute_result"
        }
      ],
      "source": [
        "#Deskripsi(stat des) data homefix untuk variabel numerik\n",
        "ekonom.describe()"
      ]
    },
    {
      "cell_type": "code",
      "execution_count": 8,
      "metadata": {},
      "outputs": [
        {
          "data": {
            "image/png": "[encoded data removed]",
            "text/plain": [
              "<Figure size 720x504 with 1 Axes>"
            ]
          },
          "metadata": {
            "needs_background": "light"
          },
          "output_type": "display_data"
        }
      ],
      "source": [
        "import matplotlib.pyplot as plt\n",
        "import seaborn as sns\n",
        "#set ukuran plot\n",
        "fig, ax = plt.subplots()\n",
        "fig.set_size_inches(10, 7)\n",
        "\n",
        "a = sns.barplot(x = \"LajuPE\", y = \"PROVINSI\", data = ekonom, palette = \"Blues_d\")\n",
        "\n",
        "#set label\n",
        "a.set_xlabel(\"Laju Pertumbuhan Ekonomi\", fontsize = 12)\n",
        "a.set_ylabel(\"Provinsi\", fontsize = 12)\n",
        "a.axes.set_title(\"Laju Pertumbuhan Ekonomi di Indonesia 2020\", fontsize=16)\n",
        "a.tick_params(labelsize = 9)\n",
        "\n",
        "#tampilkan plot\n",
        "plt.show()"
      ]
    },
    {
      "cell_type": "code",
      "execution_count": 9,
      "metadata": {},
      "outputs": [
        {
          "data": {
            "application/vnd.plotly.v1+json": {
              "config": {
                "plotlyServerURL": "https://plot.ly"
              },
              "data": [
                {
                  "alignmentgroup": "True",
                  "hovertemplate": "PROVINSI=%{x}<br>LajuPE=%{text}<extra></extra>",
                  "legendgroup": "SUMATERA UTARA",
                  "marker": {
                    "color": "#636efa",
                    "pattern": {
                      "shape": ""
                    }
                  },
                  "name": "SUMATERA UTARA",
                  "offsetgroup": "SUMATERA UTARA",
                  "orientation": "v",
                  "showlegend": true,
                  "text": [
                    -1.07
                  ],
                  "textposition": "outside",
                  "texttemplate": "%{text:.2s}",
                  "type": "bar",
                  "x": [
                    "SUMATERA UTARA"
                  ],
                  "xaxis": "x",
                  "y": [
                    -1.07
                  ],
                  "yaxis": "y"
                },
                {
                  "alignmentgroup": "True",
                  "hovertemplate": "PROVINSI=%{x}<br>LajuPE=%{text}<extra></extra>",
                  "legendgroup": "SUMATERA BARAT",
                  "marker": {
                    "color": "#EF553B",
                    "pattern": {
                      "shape": ""
                    }
                  },
                  "name": "SUMATERA BARAT",
                  "offsetgroup": "SUMATERA BARAT",
                  "orientation": "v",
                  "showlegend": true,
                  "text": [
                    -1.6
                  ],
                  "textposition": "outside",
                  "texttemplate": "%{text:.2s}",
                  "type": "bar",
                  "x": [
                    "SUMATERA BARAT"
                  ],
                  "xaxis": "x",
                  "y": [
                    -1.6
                  ],
                  "yaxis": "y"
                },
                {
                  "alignmentgroup": "True",
                  "hovertemplate": "PROVINSI=%{x}<br>LajuPE=%{text}<extra></extra>",
                  "legendgroup": "RIAU",
                  "marker": {
                    "color": "#00cc96",
                    "pattern": {
                      "shape": ""
                    }
                  },
                  "name": "RIAU",
                  "offsetgroup": "RIAU",
                  "orientation": "v",
                  "showlegend": true,
                  "text": [
                    -1.12
                  ],
                  "textposition": "outside",
                  "texttemplate": "%{text:.2s}",
                  "type": "bar",
                  "x": [
                    "RIAU"
                  ],
                  "xaxis": "x",
                  "y": [
                    -1.12
                  ],
                  "yaxis": "y"
                },
                {
                  "alignmentgroup": "True",
                  "hovertemplate": "PROVINSI=%{x}<br>LajuPE=%{text}<extra></extra>",
                  "legendgroup": "JAMBI",
                  "marker": {
                    "color": "#ab63fa",
                    "pattern": {
                      "shape": ""
                    }
                  },
                  "name": "JAMBI",
                  "offsetgroup": "JAMBI",
                  "orientation": "v",
                  "showlegend": true,
                  "text": [
                    -0.46
                  ],
                  "textposition": "outside",
                  "texttemplate": "%{text:.2s}",
                  "type": "bar",
                  "x": [
                    "JAMBI"
                  ],
                  "xaxis": "x",
                  "y": [
                    -0.46
                  ],
                  "yaxis": "y"
                },
                {
                  "alignmentgroup": "True",
                  "hovertemplate": "PROVINSI=%{x}<br>LajuPE=%{text}<extra></extra>",
                  "legendgroup": "SUMATERA SELATAN",
                  "marker": {
                    "color": "#FFA15A",
                    "pattern": {
                      "shape": ""
                    }
                  },
                  "name": "SUMATERA SELATAN",
                  "offsetgroup": "SUMATERA SELATAN",
                  "orientation": "v",
                  "showlegend": true,
                  "text": [
                    -0.11
                  ],
                  "textposition": "outside",
                  "texttemplate": "%{text:.2s}",
                  "type": "bar",
                  "x": [
                    "SUMATERA SELATAN"
                  ],
                  "xaxis": "x",
                  "y": [
                    -0.11
                  ],
                  "yaxis": "y"
                },
                {
                  "alignmentgroup": "True",
                  "hovertemplate": "PROVINSI=%{x}<br>LajuPE=%{text}<extra></extra>",
                  "legendgroup": "BENGKULU",
                  "marker": {
                    "color": "#19d3f3",
                    "pattern": {
                      "shape": ""
                    }
                  },
                  "name": "BENGKULU",
                  "offsetgroup": "BENGKULU",
                  "orientation": "v",
                  "showlegend": true,
                  "text": [
                    -0.02
                  ],
                  "textposition": "outside",
                  "texttemplate": "%{text:.2s}",
                  "type": "bar",
                  "x": [
                    "BENGKULU"
                  ],
                  "xaxis": "x",
                  "y": [
                    -0.02
                  ],
                  "yaxis": "y"
                },
                {
                  "alignmentgroup": "True",
                  "hovertemplate": "PROVINSI=%{x}<br>LajuPE=%{text}<extra></extra>",
                  "legendgroup": "LAMPUNG",
                  "marker": {
                    "color": "#FF6692",
                    "pattern": {
                      "shape": ""
                    }
                  },
                  "name": "LAMPUNG",
                  "offsetgroup": "LAMPUNG",
                  "orientation": "v",
                  "showlegend": true,
                  "text": [
                    -1.67
                  ],
                  "textposition": "outside",
                  "texttemplate": "%{text:.2s}",
                  "type": "bar",
                  "x": [
                    "LAMPUNG"
                  ],
                  "xaxis": "x",
                  "y": [
                    -1.67
                  ],
                  "yaxis": "y"
                },
                {
                  "alignmentgroup": "True",
                  "hovertemplate": "PROVINSI=%{x}<br>LajuPE=%{text}<extra></extra>",
                  "legendgroup": "KEP. BANGKA BELITUNG",
                  "marker": {
                    "color": "#B6E880",
                    "pattern": {
                      "shape": ""
                    }
                  },
                  "name": "KEP. BANGKA BELITUNG",
                  "offsetgroup": "KEP. BANGKA BELITUNG",
                  "orientation": "v",
                  "showlegend": true,
                  "text": [
                    -2.3
                  ],
                  "textposition": "outside",
                  "texttemplate": "%{text:.2s}",
                  "type": "bar",
                  "x": [
                    "KEP. BANGKA BELITUNG"
                  ],
                  "xaxis": "x",
                  "y": [
                    -2.3
                  ],
                  "yaxis": "y"
                },
                {
                  "alignmentgroup": "True",
                  "hovertemplate": "PROVINSI=%{x}<br>LajuPE=%{text}<extra></extra>",
                  "legendgroup": "KEP. RIAU",
                  "marker": {
                    "color": "#FF97FF",
                    "pattern": {
                      "shape": ""
                    }
                  },
                  "name": "KEP. RIAU",
                  "offsetgroup": "KEP. RIAU",
                  "orientation": "v",
                  "showlegend": true,
                  "text": [
                    -3.8
                  ],
                  "textposition": "outside",
                  "texttemplate": "%{text:.2s}",
                  "type": "bar",
                  "x": [
                    "KEP. RIAU"
                  ],
                  "xaxis": "x",
                  "y": [
                    -3.8
                  ],
                  "yaxis": "y"
                },
                {
                  "alignmentgroup": "True",
                  "hovertemplate": "PROVINSI=%{x}<br>LajuPE=%{text}<extra></extra>",
                  "legendgroup": "DKI JAKARTA",
                  "marker": {
                    "color": "#FECB52",
                    "pattern": {
                      "shape": ""
                    }
                  },
                  "name": "DKI JAKARTA",
                  "offsetgroup": "DKI JAKARTA",
                  "orientation": "v",
                  "showlegend": true,
                  "text": [
                    -2.36
                  ],
                  "textposition": "outside",
                  "texttemplate": "%{text:.2s}",
                  "type": "bar",
                  "x": [
                    "DKI JAKARTA"
                  ],
                  "xaxis": "x",
                  "y": [
                    -2.36
                  ],
                  "yaxis": "y"
                },
                {
                  "alignmentgroup": "True",
                  "hovertemplate": "PROVINSI=%{x}<br>LajuPE=%{text}<extra></extra>",
                  "legendgroup": "JAWA BARAT",
                  "marker": {
                    "color": "#636efa",
                    "pattern": {
                      "shape": ""
                    }
                  },
                  "name": "JAWA BARAT",
                  "offsetgroup": "JAWA BARAT",
                  "orientation": "v",
                  "showlegend": true,
                  "text": [
                    -2.44
                  ],
                  "textposition": "outside",
                  "texttemplate": "%{text:.2s}",
                  "type": "bar",
                  "x": [
                    "JAWA BARAT"
                  ],
                  "xaxis": "x",
                  "y": [
                    -2.44
                  ],
                  "yaxis": "y"
                },
                {
                  "alignmentgroup": "True",
                  "hovertemplate": "PROVINSI=%{x}<br>LajuPE=%{text}<extra></extra>",
                  "legendgroup": "JAWA TENGAH",
                  "marker": {
                    "color": "#EF553B",
                    "pattern": {
                      "shape": ""
                    }
                  },
                  "name": "JAWA TENGAH",
                  "offsetgroup": "JAWA TENGAH",
                  "orientation": "v",
                  "showlegend": true,
                  "text": [
                    -2.65
                  ],
                  "textposition": "outside",
                  "texttemplate": "%{text:.2s}",
                  "type": "bar",
                  "x": [
                    "JAWA TENGAH"
                  ],
                  "xaxis": "x",
                  "y": [
                    -2.65
                  ],
                  "yaxis": "y"
                },
                {
                  "alignmentgroup": "True",
                  "hovertemplate": "PROVINSI=%{x}<br>LajuPE=%{text}<extra></extra>",
                  "legendgroup": "DI YOGYAKARTA",
                  "marker": {
                    "color": "#00cc96",
                    "pattern": {
                      "shape": ""
                    }
                  },
                  "name": "DI YOGYAKARTA",
                  "offsetgroup": "DI YOGYAKARTA",
                  "orientation": "v",
                  "showlegend": true,
                  "text": [
                    -2.69
                  ],
                  "textposition": "outside",
                  "texttemplate": "%{text:.2s}",
                  "type": "bar",
                  "x": [
                    "DI YOGYAKARTA"
                  ],
                  "xaxis": "x",
                  "y": [
                    -2.69
                  ],
                  "yaxis": "y"
                },
                {
                  "alignmentgroup": "True",
                  "hovertemplate": "PROVINSI=%{x}<br>LajuPE=%{text}<extra></extra>",
                  "legendgroup": "JAWA TIMUR",
                  "marker": {
                    "color": "#ab63fa",
                    "pattern": {
                      "shape": ""
                    }
                  },
                  "name": "JAWA TIMUR",
                  "offsetgroup": "JAWA TIMUR",
                  "orientation": "v",
                  "showlegend": true,
                  "text": [
                    -2.39
                  ],
                  "textposition": "outside",
                  "texttemplate": "%{text:.2s}",
                  "type": "bar",
                  "x": [
                    "JAWA TIMUR"
                  ],
                  "xaxis": "x",
                  "y": [
                    -2.39
                  ],
                  "yaxis": "y"
                },
                {
                  "alignmentgroup": "True",
                  "hovertemplate": "PROVINSI=%{x}<br>LajuPE=%{text}<extra></extra>",
                  "legendgroup": "BANTEN",
                  "marker": {
                    "color": "#FFA15A",
                    "pattern": {
                      "shape": ""
                    }
                  },
                  "name": "BANTEN",
                  "offsetgroup": "BANTEN",
                  "orientation": "v",
                  "showlegend": true,
                  "text": [
                    -3.38
                  ],
                  "textposition": "outside",
                  "texttemplate": "%{text:.2s}",
                  "type": "bar",
                  "x": [
                    "BANTEN"
                  ],
                  "xaxis": "x",
                  "y": [
                    -3.38
                  ],
                  "yaxis": "y"
                },
                {
                  "alignmentgroup": "True",
                  "hovertemplate": "PROVINSI=%{x}<br>LajuPE=%{text}<extra></extra>",
                  "legendgroup": "BALI",
                  "marker": {
                    "color": "#19d3f3",
                    "pattern": {
                      "shape": ""
                    }
                  },
                  "name": "BALI",
                  "offsetgroup": "BALI",
                  "orientation": "v",
                  "showlegend": true,
                  "text": [
                    -9.31
                  ],
                  "textposition": "outside",
                  "texttemplate": "%{text:.2s}",
                  "type": "bar",
                  "x": [
                    "BALI"
                  ],
                  "xaxis": "x",
                  "y": [
                    -9.31
                  ],
                  "yaxis": "y"
                },
                {
                  "alignmentgroup": "True",
                  "hovertemplate": "PROVINSI=%{x}<br>LajuPE=%{text}<extra></extra>",
                  "legendgroup": "NUSA TENGGARA BARAT",
                  "marker": {
                    "color": "#FF6692",
                    "pattern": {
                      "shape": ""
                    }
                  },
                  "name": "NUSA TENGGARA BARAT",
                  "offsetgroup": "NUSA TENGGARA BARAT",
                  "orientation": "v",
                  "showlegend": true,
                  "text": [
                    -0.64
                  ],
                  "textposition": "outside",
                  "texttemplate": "%{text:.2s}",
                  "type": "bar",
                  "x": [
                    "NUSA TENGGARA BARAT"
                  ],
                  "xaxis": "x",
                  "y": [
                    -0.64
                  ],
                  "yaxis": "y"
                },
                {
                  "alignmentgroup": "True",
                  "hovertemplate": "PROVINSI=%{x}<br>LajuPE=%{text}<extra></extra>",
                  "legendgroup": "NUSA TENGGARA TIMUR",
                  "marker": {
                    "color": "#B6E880",
                    "pattern": {
                      "shape": ""
                    }
                  },
                  "name": "NUSA TENGGARA TIMUR",
                  "offsetgroup": "NUSA TENGGARA TIMUR",
                  "orientation": "v",
                  "showlegend": true,
                  "text": [
                    -0.83
                  ],
                  "textposition": "outside",
                  "texttemplate": "%{text:.2s}",
                  "type": "bar",
                  "x": [
                    "NUSA TENGGARA TIMUR"
                  ],
                  "xaxis": "x",
                  "y": [
                    -0.83
                  ],
                  "yaxis": "y"
                },
                {
                  "alignmentgroup": "True",
                  "hovertemplate": "PROVINSI=%{x}<br>LajuPE=%{text}<extra></extra>",
                  "legendgroup": "KALIMANTAN BARAT",
                  "marker": {
                    "color": "#FF97FF",
                    "pattern": {
                      "shape": ""
                    }
                  },
                  "name": "KALIMANTAN BARAT",
                  "offsetgroup": "KALIMANTAN BARAT",
                  "orientation": "v",
                  "showlegend": true,
                  "text": [
                    -1.82
                  ],
                  "textposition": "outside",
                  "texttemplate": "%{text:.2s}",
                  "type": "bar",
                  "x": [
                    "KALIMANTAN BARAT"
                  ],
                  "xaxis": "x",
                  "y": [
                    -1.82
                  ],
                  "yaxis": "y"
                },
                {
                  "alignmentgroup": "True",
                  "hovertemplate": "PROVINSI=%{x}<br>LajuPE=%{text}<extra></extra>",
                  "legendgroup": "KALIMANTAN TENGAH",
                  "marker": {
                    "color": "#FECB52",
                    "pattern": {
                      "shape": ""
                    }
                  },
                  "name": "KALIMANTAN TENGAH",
                  "offsetgroup": "KALIMANTAN TENGAH",
                  "orientation": "v",
                  "showlegend": true,
                  "text": [
                    -1.4
                  ],
                  "textposition": "outside",
                  "texttemplate": "%{text:.2s}",
                  "type": "bar",
                  "x": [
                    "KALIMANTAN TENGAH"
                  ],
                  "xaxis": "x",
                  "y": [
                    -1.4
                  ],
                  "yaxis": "y"
                },
                {
                  "alignmentgroup": "True",
                  "hovertemplate": "PROVINSI=%{x}<br>LajuPE=%{text}<extra></extra>",
                  "legendgroup": "KALIMANTAN SELATAN",
                  "marker": {
                    "color": "#636efa",
                    "pattern": {
                      "shape": ""
                    }
                  },
                  "name": "KALIMANTAN SELATAN",
                  "offsetgroup": "KALIMANTAN SELATAN",
                  "orientation": "v",
                  "showlegend": true,
                  "text": [
                    -1.81
                  ],
                  "textposition": "outside",
                  "texttemplate": "%{text:.2s}",
                  "type": "bar",
                  "x": [
                    "KALIMANTAN SELATAN"
                  ],
                  "xaxis": "x",
                  "y": [
                    -1.81
                  ],
                  "yaxis": "y"
                },
                {
                  "alignmentgroup": "True",
                  "hovertemplate": "PROVINSI=%{x}<br>LajuPE=%{text}<extra></extra>",
                  "legendgroup": "KALIMANTAN TIMUR",
                  "marker": {
                    "color": "#EF553B",
                    "pattern": {
                      "shape": ""
                    }
                  },
                  "name": "KALIMANTAN TIMUR",
                  "offsetgroup": "KALIMANTAN TIMUR",
                  "orientation": "v",
                  "showlegend": true,
                  "text": [
                    -2.85
                  ],
                  "textposition": "outside",
                  "texttemplate": "%{text:.2s}",
                  "type": "bar",
                  "x": [
                    "KALIMANTAN TIMUR"
                  ],
                  "xaxis": "x",
                  "y": [
                    -2.85
                  ],
                  "yaxis": "y"
                },
                {
                  "alignmentgroup": "True",
                  "hovertemplate": "PROVINSI=%{x}<br>LajuPE=%{text}<extra></extra>",
                  "legendgroup": "KALIMANTAN UTARA",
                  "marker": {
                    "color": "#00cc96",
                    "pattern": {
                      "shape": ""
                    }
                  },
                  "name": "KALIMANTAN UTARA",
                  "offsetgroup": "KALIMANTAN UTARA",
                  "orientation": "v",
                  "showlegend": true,
                  "text": [
                    -1.11
                  ],
                  "textposition": "outside",
                  "texttemplate": "%{text:.2s}",
                  "type": "bar",
                  "x": [
                    "KALIMANTAN UTARA"
                  ],
                  "xaxis": "x",
                  "y": [
                    -1.11
                  ],
                  "yaxis": "y"
                },
                {
                  "alignmentgroup": "True",
                  "hovertemplate": "PROVINSI=%{x}<br>LajuPE=%{text}<extra></extra>",
                  "legendgroup": "SULAWESI UTARA",
                  "marker": {
                    "color": "#ab63fa",
                    "pattern": {
                      "shape": ""
                    }
                  },
                  "name": "SULAWESI UTARA",
                  "offsetgroup": "SULAWESI UTARA",
                  "orientation": "v",
                  "showlegend": true,
                  "text": [
                    -0.99
                  ],
                  "textposition": "outside",
                  "texttemplate": "%{text:.2s}",
                  "type": "bar",
                  "x": [
                    "SULAWESI UTARA"
                  ],
                  "xaxis": "x",
                  "y": [
                    -0.99
                  ],
                  "yaxis": "y"
                },
                {
                  "alignmentgroup": "True",
                  "hovertemplate": "PROVINSI=%{x}<br>LajuPE=%{text}<extra></extra>",
                  "legendgroup": "SULAWESI TENGAH",
                  "marker": {
                    "color": "#FFA15A",
                    "pattern": {
                      "shape": ""
                    }
                  },
                  "name": "SULAWESI TENGAH",
                  "offsetgroup": "SULAWESI TENGAH",
                  "orientation": "v",
                  "showlegend": true,
                  "text": [
                    4.86
                  ],
                  "textposition": "outside",
                  "texttemplate": "%{text:.2s}",
                  "type": "bar",
                  "x": [
                    "SULAWESI TENGAH"
                  ],
                  "xaxis": "x",
                  "y": [
                    4.86
                  ],
                  "yaxis": "y"
                },
                {
                  "alignmentgroup": "True",
                  "hovertemplate": "PROVINSI=%{x}<br>LajuPE=%{text}<extra></extra>",
                  "legendgroup": "SULAWESI SELATAN",
                  "marker": {
                    "color": "#19d3f3",
                    "pattern": {
                      "shape": ""
                    }
                  },
                  "name": "SULAWESI SELATAN",
                  "offsetgroup": "SULAWESI SELATAN",
                  "orientation": "v",
                  "showlegend": true,
                  "text": [
                    -0.7
                  ],
                  "textposition": "outside",
                  "texttemplate": "%{text:.2s}",
                  "type": "bar",
                  "x": [
                    "SULAWESI SELATAN"
                  ],
                  "xaxis": "x",
                  "y": [
                    -0.7
                  ],
                  "yaxis": "y"
                },
                {
                  "alignmentgroup": "True",
                  "hovertemplate": "PROVINSI=%{x}<br>LajuPE=%{text}<extra></extra>",
                  "legendgroup": "SULAWESI TENGGARA",
                  "marker": {
                    "color": "#FF6692",
                    "pattern": {
                      "shape": ""
                    }
                  },
                  "name": "SULAWESI TENGGARA",
                  "offsetgroup": "SULAWESI TENGGARA",
                  "orientation": "v",
                  "showlegend": true,
                  "text": [
                    -0.65
                  ],
                  "textposition": "outside",
                  "texttemplate": "%{text:.2s}",
                  "type": "bar",
                  "x": [
                    "SULAWESI TENGGARA"
                  ],
                  "xaxis": "x",
                  "y": [
                    -0.65
                  ],
                  "yaxis": "y"
                },
                {
                  "alignmentgroup": "True",
                  "hovertemplate": "PROVINSI=%{x}<br>LajuPE=%{text}<extra></extra>",
                  "legendgroup": "GORONTALO",
                  "marker": {
                    "color": "#B6E880",
                    "pattern": {
                      "shape": ""
                    }
                  },
                  "name": "GORONTALO",
                  "offsetgroup": "GORONTALO",
                  "orientation": "v",
                  "showlegend": true,
                  "text": [
                    -0.02
                  ],
                  "textposition": "outside",
                  "texttemplate": "%{text:.2s}",
                  "type": "bar",
                  "x": [
                    "GORONTALO"
                  ],
                  "xaxis": "x",
                  "y": [
                    -0.02
                  ],
                  "yaxis": "y"
                },
                {
                  "alignmentgroup": "True",
                  "hovertemplate": "PROVINSI=%{x}<br>LajuPE=%{text}<extra></extra>",
                  "legendgroup": "SULAWESI BARAT",
                  "marker": {
                    "color": "#FF97FF",
                    "pattern": {
                      "shape": ""
                    }
                  },
                  "name": "SULAWESI BARAT",
                  "offsetgroup": "SULAWESI BARAT",
                  "orientation": "v",
                  "showlegend": true,
                  "text": [
                    -2.42
                  ],
                  "textposition": "outside",
                  "texttemplate": "%{text:.2s}",
                  "type": "bar",
                  "x": [
                    "SULAWESI BARAT"
                  ],
                  "xaxis": "x",
                  "y": [
                    -2.42
                  ],
                  "yaxis": "y"
                },
                {
                  "alignmentgroup": "True",
                  "hovertemplate": "PROVINSI=%{x}<br>LajuPE=%{text}<extra></extra>",
                  "legendgroup": "MALUKU",
                  "marker": {
                    "color": "#FECB52",
                    "pattern": {
                      "shape": ""
                    }
                  },
                  "name": "MALUKU",
                  "offsetgroup": "MALUKU",
                  "orientation": "v",
                  "showlegend": true,
                  "text": [
                    -0.92
                  ],
                  "textposition": "outside",
                  "texttemplate": "%{text:.2s}",
                  "type": "bar",
                  "x": [
                    "MALUKU"
                  ],
                  "xaxis": "x",
                  "y": [
                    -0.92
                  ],
                  "yaxis": "y"
                },
                {
                  "alignmentgroup": "True",
                  "hovertemplate": "PROVINSI=%{x}<br>LajuPE=%{text}<extra></extra>",
                  "legendgroup": "MALUKU UTARA",
                  "marker": {
                    "color": "#636efa",
                    "pattern": {
                      "shape": ""
                    }
                  },
                  "name": "MALUKU UTARA",
                  "offsetgroup": "MALUKU UTARA",
                  "orientation": "v",
                  "showlegend": true,
                  "text": [
                    4.92
                  ],
                  "textposition": "outside",
                  "texttemplate": "%{text:.2s}",
                  "type": "bar",
                  "x": [
                    "MALUKU UTARA"
                  ],
                  "xaxis": "x",
                  "y": [
                    4.92
                  ],
                  "yaxis": "y"
                },
                {
                  "alignmentgroup": "True",
                  "hovertemplate": "PROVINSI=%{x}<br>LajuPE=%{text}<extra></extra>",
                  "legendgroup": "PAPUA BARAT",
                  "marker": {
                    "color": "#EF553B",
                    "pattern": {
                      "shape": ""
                    }
                  },
                  "name": "PAPUA BARAT",
                  "offsetgroup": "PAPUA BARAT",
                  "orientation": "v",
                  "showlegend": true,
                  "text": [
                    -0.77
                  ],
                  "textposition": "outside",
                  "texttemplate": "%{text:.2s}",
                  "type": "bar",
                  "x": [
                    "PAPUA BARAT"
                  ],
                  "xaxis": "x",
                  "y": [
                    -0.77
                  ],
                  "yaxis": "y"
                },
                {
                  "alignmentgroup": "True",
                  "hovertemplate": "PROVINSI=%{x}<br>LajuPE=%{text}<extra></extra>",
                  "legendgroup": "PAPUA",
                  "marker": {
                    "color": "#00cc96",
                    "pattern": {
                      "shape": ""
                    }
                  },
                  "name": "PAPUA",
                  "offsetgroup": "PAPUA",
                  "orientation": "v",
                  "showlegend": true,
                  "text": [
                    2.32
                  ],
                  "textposition": "outside",
                  "texttemplate": "%{text:.2s}",
                  "type": "bar",
                  "x": [
                    "PAPUA"
                  ],
                  "xaxis": "x",
                  "y": [
                    2.32
                  ],
                  "yaxis": "y"
                }
              ],
              "layout": {
                "barmode": "relative",
                "legend": {
                  "title": {
                    "text": "PROVINSI"
                  },
                  "tracegroupgap": 0
                },
                "margin": {
                  "t": 60
                },
                "template": {
                  "data": {
                    "bar": [
                      {
                        "error_x": {
                          "color": "#2a3f5f"
                        },
                        "error_y": {
                          "color": "#2a3f5f"
                        },
                        "marker": {
                          "line": {
                            "color": "#E5ECF6",
                            "width": 0.5
                          },
                          "pattern": {
                            "fillmode": "overlay",
                            "size": 10,
                            "solidity": 0.2
                          }
                        },
                        "type": "bar"
                      }
                    ],
                    "barpolar": [
                      {
                        "marker": {
                          "line": {
                            "color": "#E5ECF6",
                            "width": 0.5
                          },
                          "pattern": {
                            "fillmode": "overlay",
                            "size": 10,
                            "solidity": 0.2
                          }
                        },
                        "type": "barpolar"
                      }
                    ],
                    "carpet": [
                      {
                        "aaxis": {
                          "endlinecolor": "#2a3f5f",
                          "gridcolor": "white",
                          "linecolor": "white",
                          "minorgridcolor": "white",
                          "startlinecolor": "#2a3f5f"
                        },
                        "baxis": {
                          "endlinecolor": "#2a3f5f",
                          "gridcolor": "white",
                          "linecolor": "white",
                          "minorgridcolor": "white",
                          "startlinecolor": "#2a3f5f"
                        },
                        "type": "carpet"
                      }
                    ],
                    "choropleth": [
                      {
                        "colorbar": {
                          "outlinewidth": 0,
                          "ticks": ""
                        },
                        "type": "choropleth"
                      }
                    ],
                    "contour": [
                      {
                        "colorbar": {
                          "outlinewidth": 0,
                          "ticks": ""
                        },
                        "colorscale": [
                          [
                            0,
                            "#0d0887"
                          ],
                          [
                            0.1111111111111111,
                            "#46039f"
                          ],
                          [
                            0.2222222222222222,
                            "#7201a8"
                          ],
                          [
                            0.3333333333333333,
                            "#9c179e"
                          ],
                          [
                            0.4444444444444444,
                            "#bd3786"
                          ],
                          [
                            0.5555555555555556,
                            "#d8576b"
                          ],
                          [
                            0.6666666666666666,
                            "#ed7953"
                          ],
                          [
                            0.7777777777777778,
                            "#fb9f3a"
                          ],
                          [
                            0.8888888888888888,
                            "#fdca26"
                          ],
                          [
                            1,
                            "#f0f921"
                          ]
                        ],
                        "type": "contour"
                      }
                    ],
                    "contourcarpet": [
                      {
                        "colorbar": {
                          "outlinewidth": 0,
                          "ticks": ""
                        },
                        "type": "contourcarpet"
                      }
                    ],
                    "heatmap": [
                      {
                        "colorbar": {
                          "outlinewidth": 0,
                          "ticks": ""
                        },
                        "colorscale": [
                          [
                            0,
                            "#0d0887"
                          ],
                          [
                            0.1111111111111111,
                            "#46039f"
                          ],
                          [
                            0.2222222222222222,
                            "#7201a8"
                          ],
                          [
                            0.3333333333333333,
                            "#9c179e"
                          ],
                          [
                            0.4444444444444444,
                            "#bd3786"
                          ],
                          [
                            0.5555555555555556,
                            "#d8576b"
                          ],
                          [
                            0.6666666666666666,
                            "#ed7953"
                          ],
                          [
                            0.7777777777777778,
                            "#fb9f3a"
                          ],
                          [
                            0.8888888888888888,
                            "#fdca26"
                          ],
                          [
                            1,
                            "#f0f921"
                          ]
                        ],
                        "type": "heatmap"
                      }
                    ],
                    "heatmapgl": [
                      {
                        "colorbar": {
                          "outlinewidth": 0,
                          "ticks": ""
                        },
                        "colorscale": [
                          [
                            0,
                            "#0d0887"
                          ],
                          [
                            0.1111111111111111,
                            "#46039f"
                          ],
                          [
                            0.2222222222222222,
                            "#7201a8"
                          ],
                          [
                            0.3333333333333333,
                            "#9c179e"
                          ],
                          [
                            0.4444444444444444,
                            "#bd3786"
                          ],
                          [
                            0.5555555555555556,
                            "#d8576b"
                          ],
                          [
                            0.6666666666666666,
                            "#ed7953"
                          ],
                          [
                            0.7777777777777778,
                            "#fb9f3a"
                          ],
                          [
                            0.8888888888888888,
                            "#fdca26"
                          ],
                          [
                            1,
                            "#f0f921"
                          ]
                        ],
                        "type": "heatmapgl"
                      }
                    ],
                    "histogram": [
                      {
                        "marker": {
                          "pattern": {
                            "fillmode": "overlay",
                            "size": 10,
                            "solidity": 0.2
                          }
                        },
                        "type": "histogram"
                      }
                    ],
                    "histogram2d": [
                      {
                        "colorbar": {
                          "outlinewidth": 0,
                          "ticks": ""
                        },
                        "colorscale": [
                          [
                            0,
                            "#0d0887"
                          ],
                          [
                            0.1111111111111111,
                            "#46039f"
                          ],
                          [
                            0.2222222222222222,
                            "#7201a8"
                          ],
                          [
                            0.3333333333333333,
                            "#9c179e"
                          ],
                          [
                            0.4444444444444444,
                            "#bd3786"
                          ],
                          [
                            0.5555555555555556,
                            "#d8576b"
                          ],
                          [
                            0.6666666666666666,
                            "#ed7953"
                          ],
                          [
                            0.7777777777777778,
                            "#fb9f3a"
                          ],
                          [
                            0.8888888888888888,
                            "#fdca26"
                          ],
                          [
                            1,
                            "#f0f921"
                          ]
                        ],
                        "type": "histogram2d"
                      }
                    ],
                    "histogram2dcontour": [
                      {
                        "colorbar": {
                          "outlinewidth": 0,
                          "ticks": ""
                        },
                        "colorscale": [
                          [
                            0,
                            "#0d0887"
                          ],
                          [
                            0.1111111111111111,
                            "#46039f"
                          ],
                          [
                            0.2222222222222222,
                            "#7201a8"
                          ],
                          [
                            0.3333333333333333,
                            "#9c179e"
                          ],
                          [
                            0.4444444444444444,
                            "#bd3786"
                          ],
                          [
                            0.5555555555555556,
                            "#d8576b"
                          ],
                          [
                            0.6666666666666666,
                            "#ed7953"
                          ],
                          [
                            0.7777777777777778,
                            "#fb9f3a"
                          ],
                          [
                            0.8888888888888888,
                            "#fdca26"
                          ],
                          [
                            1,
                            "#f0f921"
                          ]
                        ],
                        "type": "histogram2dcontour"
                      }
                    ],
                    "mesh3d": [
                      {
                        "colorbar": {
                          "outlinewidth": 0,
                          "ticks": ""
                        },
                        "type": "mesh3d"
                      }
                    ],
                    "parcoords": [
                      {
                        "line": {
                          "colorbar": {
                            "outlinewidth": 0,
                            "ticks": ""
                          }
                        },
                        "type": "parcoords"
                      }
                    ],
                    "pie": [
                      {
                        "automargin": true,
                        "type": "pie"
                      }
                    ],
                    "scatter": [
                      {
                        "marker": {
                          "colorbar": {
                            "outlinewidth": 0,
                            "ticks": ""
                          }
                        },
                        "type": "scatter"
                      }
                    ],
                    "scatter3d": [
                      {
                        "line": {
                          "colorbar": {
                            "outlinewidth": 0,
                            "ticks": ""
                          }
                        },
                        "marker": {
                          "colorbar": {
                            "outlinewidth": 0,
                            "ticks": ""
                          }
                        },
                        "type": "scatter3d"
                      }
                    ],
                    "scattercarpet": [
                      {
                        "marker": {
                          "colorbar": {
                            "outlinewidth": 0,
                            "ticks": ""
                          }
                        },
                        "type": "scattercarpet"
                      }
                    ],
                    "scattergeo": [
                      {
                        "marker": {
                          "colorbar": {
                            "outlinewidth": 0,
                            "ticks": ""
                          }
                        },
                        "type": "scattergeo"
                      }
                    ],
                    "scattergl": [
                      {
                        "marker": {
                          "colorbar": {
                            "outlinewidth": 0,
                            "ticks": ""
                          }
                        },
                        "type": "scattergl"
                      }
                    ],
                    "scattermapbox": [
                      {
                        "marker": {
                          "colorbar": {
                            "outlinewidth": 0,
                            "ticks": ""
                          }
                        },
                        "type": "scattermapbox"
                      }
                    ],
                    "scatterpolar": [
                      {
                        "marker": {
                          "colorbar": {
                            "outlinewidth": 0,
                            "ticks": ""
                          }
                        },
                        "type": "scatterpolar"
                      }
                    ],
                    "scatterpolargl": [
                      {
                        "marker": {
                          "colorbar": {
                            "outlinewidth": 0,
                            "ticks": ""
                          }
                        },
                        "type": "scatterpolargl"
                      }
                    ],
                    "scatterternary": [
                      {
                        "marker": {
                          "colorbar": {
                            "outlinewidth": 0,
                            "ticks": ""
                          }
                        },
                        "type": "scatterternary"
                      }
                    ],
                    "surface": [
                      {
                        "colorbar": {
                          "outlinewidth": 0,
                          "ticks": ""
                        },
                        "colorscale": [
                          [
                            0,
                            "#0d0887"
                          ],
                          [
                            0.1111111111111111,
                            "#46039f"
                          ],
                          [
                            0.2222222222222222,
                            "#7201a8"
                          ],
                          [
                            0.3333333333333333,
                            "#9c179e"
                          ],
                          [
                            0.4444444444444444,
                            "#bd3786"
                          ],
                          [
                            0.5555555555555556,
                            "#d8576b"
                          ],
                          [
                            0.6666666666666666,
                            "#ed7953"
                          ],
                          [
                            0.7777777777777778,
                            "#fb9f3a"
                          ],
                          [
                            0.8888888888888888,
                            "#fdca26"
                          ],
                          [
                            1,
                            "#f0f921"
                          ]
                        ],
                        "type": "surface"
                      }
                    ],
                    "table": [
                      {
                        "cells": {
                          "fill": {
                            "color": "#EBF0F8"
                          },
                          "line": {
                            "color": "white"
                          }
                        },
                        "header": {
                          "fill": {
                            "color": "#C8D4E3"
                          },
                          "line": {
                            "color": "white"
                          }
                        },
                        "type": "table"
                      }
                    ]
                  },
                  "layout": {
                    "annotationdefaults": {
                      "arrowcolor": "#2a3f5f",
                      "arrowhead": 0,
                      "arrowwidth": 1
                    },
                    "autotypenumbers": "strict",
                    "coloraxis": {
                      "colorbar": {
                        "outlinewidth": 0,
                        "ticks": ""
                      }
                    },
                    "colorscale": {
                      "diverging": [
                        [
                          0,
                          "#8e0152"
                        ],
                        [
                          0.1,
                          "#c51b7d"
                        ],
                        [
                          0.2,
                          "#de77ae"
                        ],
                        [
                          0.3,
                          "#f1b6da"
                        ],
                        [
                          0.4,
                          "#fde0ef"
                        ],
                        [
                          0.5,
                          "#f7f7f7"
                        ],
                        [
                          0.6,
                          "#e6f5d0"
                        ],
                        [
                          0.7,
                          "#b8e186"
                        ],
                        [
                          0.8,
                          "#7fbc41"
                        ],
                        [
                          0.9,
                          "#4d9221"
                        ],
                        [
                          1,
                          "#276419"
                        ]
                      ],
                      "sequential": [
                        [
                          0,
                          "#0d0887"
                        ],
                        [
                          0.1111111111111111,
                          "#46039f"
                        ],
                        [
                          0.2222222222222222,
                          "#7201a8"
                        ],
                        [
                          0.3333333333333333,
                          "#9c179e"
                        ],
                        [
                          0.4444444444444444,
                          "#bd3786"
                        ],
                        [
                          0.5555555555555556,
                          "#d8576b"
                        ],
                        [
                          0.6666666666666666,
                          "#ed7953"
                        ],
                        [
                          0.7777777777777778,
                          "#fb9f3a"
                        ],
                        [
                          0.8888888888888888,
                          "#fdca26"
                        ],
                        [
                          1,
                          "#f0f921"
                        ]
                      ],
                      "sequentialminus": [
                        [
                          0,
                          "#0d0887"
                        ],
                        [
                          0.1111111111111111,
                          "#46039f"
                        ],
                        [
                          0.2222222222222222,
                          "#7201a8"
                        ],
                        [
                          0.3333333333333333,
                          "#9c179e"
                        ],
                        [
                          0.4444444444444444,
                          "#bd3786"
                        ],
                        [
                          0.5555555555555556,
                          "#d8576b"
                        ],
                        [
                          0.6666666666666666,
                          "#ed7953"
                        ],
                        [
                          0.7777777777777778,
                          "#fb9f3a"
                        ],
                        [
                          0.8888888888888888,
                          "#fdca26"
                        ],
                        [
                          1,
                          "#f0f921"
                        ]
                      ]
                    },
                    "colorway": [
                      "#636efa",
                      "#EF553B",
                      "#00cc96",
                      "#ab63fa",
                      "#FFA15A",
                      "#19d3f3",
                      "#FF6692",
                      "#B6E880",
                      "#FF97FF",
                      "#FECB52"
                    ],
                    "font": {
                      "color": "#2a3f5f"
                    },
                    "geo": {
                      "bgcolor": "white",
                      "lakecolor": "white",
                      "landcolor": "#E5ECF6",
                      "showlakes": true,
                      "showland": true,
                      "subunitcolor": "white"
                    },
                    "hoverlabel": {
                      "align": "left"
                    },
                    "hovermode": "closest",
                    "mapbox": {
                      "style": "light"
                    },
                    "paper_bgcolor": "white",
                    "plot_bgcolor": "#E5ECF6",
                    "polar": {
                      "angularaxis": {
                        "gridcolor": "white",
                        "linecolor": "white",
                        "ticks": ""
                      },
                      "bgcolor": "#E5ECF6",
                      "radialaxis": {
                        "gridcolor": "white",
                        "linecolor": "white",
                        "ticks": ""
                      }
                    },
                    "scene": {
                      "xaxis": {
                        "backgroundcolor": "#E5ECF6",
                        "gridcolor": "white",
                        "gridwidth": 2,
                        "linecolor": "white",
                        "showbackground": true,
                        "ticks": "",
                        "zerolinecolor": "white"
                      },
                      "yaxis": {
                        "backgroundcolor": "#E5ECF6",
                        "gridcolor": "white",
                        "gridwidth": 2,
                        "linecolor": "white",
                        "showbackground": true,
                        "ticks": "",
                        "zerolinecolor": "white"
                      },
                      "zaxis": {
                        "backgroundcolor": "#E5ECF6",
                        "gridcolor": "white",
                        "gridwidth": 2,
                        "linecolor": "white",
                        "showbackground": true,
                        "ticks": "",
                        "zerolinecolor": "white"
                      }
                    },
                    "shapedefaults": {
                      "line": {
                        "color": "#2a3f5f"
                      }
                    },
                    "ternary": {
                      "aaxis": {
                        "gridcolor": "white",
                        "linecolor": "white",
                        "ticks": ""
                      },
                      "baxis": {
                        "gridcolor": "white",
                        "linecolor": "white",
                        "ticks": ""
                      },
                      "bgcolor": "#E5ECF6",
                      "caxis": {
                        "gridcolor": "white",
                        "linecolor": "white",
                        "ticks": ""
                      }
                    },
                    "title": {
                      "x": 0.05
                    },
                    "xaxis": {
                      "automargin": true,
                      "gridcolor": "white",
                      "linecolor": "white",
                      "ticks": "",
                      "title": {
                        "standoff": 15
                      },
                      "zerolinecolor": "white",
                      "zerolinewidth": 2
                    },
                    "yaxis": {
                      "automargin": true,
                      "gridcolor": "white",
                      "linecolor": "white",
                      "ticks": "",
                      "title": {
                        "standoff": 15
                      },
                      "zerolinecolor": "white",
                      "zerolinewidth": 2
                    }
                  }
                },
                "uniformtext": {
                  "minsize": 8
                },
                "xaxis": {
                  "anchor": "y",
                  "categoryarray": [
                    "SUMATERA UTARA",
                    "SUMATERA BARAT",
                    "RIAU",
                    "JAMBI",
                    "SUMATERA SELATAN",
                    "BENGKULU",
                    "LAMPUNG",
                    "KEP. BANGKA BELITUNG",
                    "KEP. RIAU",
                    "DKI JAKARTA",
                    "JAWA BARAT",
                    "JAWA TENGAH",
                    "DI YOGYAKARTA",
                    "JAWA TIMUR",
                    "BANTEN",
                    "BALI",
                    "NUSA TENGGARA BARAT",
                    "NUSA TENGGARA TIMUR",
                    "KALIMANTAN BARAT",
                    "KALIMANTAN TENGAH",
                    "KALIMANTAN SELATAN",
                    "KALIMANTAN TIMUR",
                    "KALIMANTAN UTARA",
                    "SULAWESI UTARA",
                    "SULAWESI TENGAH",
                    "SULAWESI SELATAN",
                    "SULAWESI TENGGARA",
                    "GORONTALO",
                    "SULAWESI BARAT",
                    "MALUKU",
                    "MALUKU UTARA",
                    "PAPUA BARAT",
                    "PAPUA"
                  ],
                  "categoryorder": "array",
                  "domain": [
                    0,
                    1
                  ],
                  "tickangle": 0,
                  "title": {
                    "text": "PROVINSI"
                  }
                },
                "yaxis": {
                  "anchor": "x",
                  "domain": [
                    0,
                    1
                  ],
                  "title": {
                    "text": "LajuPE"
                  }
                }
              }
            }
          },
          "metadata": {},
          "output_type": "display_data"
        }
      ],
      "source": [
        "import plotly.graph_objects as go\n",
        "import plotly.express as px\n",
        "fig1 = px.bar(ekonom[1:34], y='LajuPE', x='PROVINSI', text='LajuPE', color='PROVINSI')\n",
        "# Put bar total value above bars with 2 values of precision\n",
        "fig1.update_traces(texttemplate='%{text:.2s}', textposition='outside')\n",
        "# Set fontsize and uniformtext_mode='hide' says to hide the text if it won't fit\n",
        "fig1.update_layout(uniformtext_minsize=8)\n",
        "# Rotate labels 45 degrees\n",
        "fig1.update_layout(xaxis_tickangle=0)\n",
        "fig1"
      ]
    },
    {
      "cell_type": "markdown",
      "metadata": {
        "id": "tXYVUyxiY2CI"
      },
      "source": [
        "# EDA (Exploratory Data Analysis)\n"
      ]
    },
    {
      "cell_type": "code",
      "execution_count": 10,
      "metadata": {
        "id": "wJsF0gysY8Zt"
      },
      "outputs": [],
      "source": [
        "import matplotlib.pyplot as plt\n",
        "import seaborn as sns"
      ]
    },
    {
      "cell_type": "code",
      "execution_count": 11,
      "metadata": {
        "colab": {
          "base_uri": "https://localhost:8080/",
          "height": 395
        },
        "id": "jXh2YNGoZ9C5",
        "outputId": "430292b0-891f-4856-b83e-af98eb82d235"
      },
      "outputs": [
        {
          "data": {
            "text/plain": [
              "<AxesSubplot:>"
            ]
          },
          "execution_count": 11,
          "metadata": {},
          "output_type": "execute_result"
        },
        {
          "data": {
            "image/png": "[encoded data removed]",
            "text/plain": [
              "<Figure size 720x432 with 2 Axes>"
            ]
          },
          "metadata": {
            "needs_background": "light"
          },
          "output_type": "display_data"
        }
      ],
      "source": [
        "#Heatmap untuk korelasi\n",
        "plt.figure(figsize=(10,6))\n",
        "sns.heatmap(ekonom.corr(), annot=True, cmap=\"ocean\")"
      ]
    },
    {
      "cell_type": "markdown",
      "metadata": {
        "colab": {
          "base_uri": "https://localhost:8080/",
          "height": 0
        },
        "id": "9tCItCVYas6x",
        "outputId": "5e2f973a-0248-489a-c98f-410abbc58930"
      },
      "source": [
        "#Korelasi\n",
        "home.corr().LajuPE.sort_values(ascending=False)"
      ]
    },
    {
      "cell_type": "code",
      "execution_count": 12,
      "metadata": {},
      "outputs": [
        {
          "data": {
            "text/plain": [
              "LajuPE                1.000000\n",
              "PersentaseEkspor     -0.132964\n",
              "PersentasePenduduk   -0.206465\n",
              "PersentaseTK         -0.450676\n",
              "IPM                  -0.489933\n",
              "Name: LajuPE, dtype: float64"
            ]
          },
          "execution_count": 12,
          "metadata": {},
          "output_type": "execute_result"
        }
      ],
      "source": [
        "#Korelasi\n",
        "ekonom.corr().LajuPE.sort_values(ascending=False)"
      ]
    },
    {
      "cell_type": "code",
      "execution_count": 13,
      "metadata": {},
      "outputs": [
        {
          "data": {
            "text/html": [
              "<div>\n",
              "<style scoped>\n",
              "    .dataframe tbody tr th:only-of-type {\n",
              "        vertical-align: middle;\n",
              "    }\n",
              "\n",
              "    .dataframe tbody tr th {\n",
              "        vertical-align: top;\n",
              "    }\n",
              "\n",
              "    .dataframe thead th {\n",
              "        text-align: right;\n",
              "    }\n",
              "</style>\n",
              "<table border=\"1\" class=\"dataframe\">\n",
              "  <thead>\n",
              "    <tr style=\"text-align: right;\">\n",
              "      <th></th>\n",
              "      <th>PROVINSI</th>\n",
              "      <th>LajuPE</th>\n",
              "      <th>PersentaseTK</th>\n",
              "      <th>IPM</th>\n",
              "    </tr>\n",
              "  </thead>\n",
              "  <tbody>\n",
              "    <tr>\n",
              "      <th>0</th>\n",
              "      <td>ACEH</td>\n",
              "      <td>-0.37</td>\n",
              "      <td>38.12</td>\n",
              "      <td>71.99</td>\n",
              "    </tr>\n",
              "    <tr>\n",
              "      <th>1</th>\n",
              "      <td>SUMATERA UTARA</td>\n",
              "      <td>-1.07</td>\n",
              "      <td>40.38</td>\n",
              "      <td>71.77</td>\n",
              "    </tr>\n",
              "    <tr>\n",
              "      <th>2</th>\n",
              "      <td>SUMATERA BARAT</td>\n",
              "      <td>-1.60</td>\n",
              "      <td>33.72</td>\n",
              "      <td>72.38</td>\n",
              "    </tr>\n",
              "    <tr>\n",
              "      <th>3</th>\n",
              "      <td>RIAU</td>\n",
              "      <td>-1.12</td>\n",
              "      <td>44.03</td>\n",
              "      <td>72.71</td>\n",
              "    </tr>\n",
              "    <tr>\n",
              "      <th>4</th>\n",
              "      <td>JAMBI</td>\n",
              "      <td>-0.46</td>\n",
              "      <td>37.26</td>\n",
              "      <td>71.29</td>\n",
              "    </tr>\n",
              "  </tbody>\n",
              "</table>\n",
              "</div>"
            ],
            "text/plain": [
              "         PROVINSI  LajuPE  PersentaseTK    IPM\n",
              "0            ACEH   -0.37         38.12  71.99\n",
              "1  SUMATERA UTARA   -1.07         40.38  71.77\n",
              "2  SUMATERA BARAT   -1.60         33.72  72.38\n",
              "3            RIAU   -1.12         44.03  72.71\n",
              "4           JAMBI   -0.46         37.26  71.29"
            ]
          },
          "execution_count": 13,
          "metadata": {},
          "output_type": "execute_result"
        }
      ],
      "source": [
        "#buang Persentase Penuduk dan Ekspor\n",
        "xx = ekonom.drop('PersentaseEkspor',axis=1)\n",
        "ekonomi = xx.drop('PersentasePenduduk',axis=1)\n",
        "ekonomi.head()"
      ]
    },
    {
      "cell_type": "code",
      "execution_count": 14,
      "metadata": {},
      "outputs": [
        {
          "data": {
            "text/html": [
              "<div>\n",
              "<style scoped>\n",
              "    .dataframe tbody tr th:only-of-type {\n",
              "        vertical-align: middle;\n",
              "    }\n",
              "\n",
              "    .dataframe tbody tr th {\n",
              "        vertical-align: top;\n",
              "    }\n",
              "\n",
              "    .dataframe thead th {\n",
              "        text-align: right;\n",
              "    }\n",
              "</style>\n",
              "<table border=\"1\" class=\"dataframe\">\n",
              "  <thead>\n",
              "    <tr style=\"text-align: right;\">\n",
              "      <th></th>\n",
              "      <th>LajuPE</th>\n",
              "      <th>PersentaseTK</th>\n",
              "      <th>IPM</th>\n",
              "    </tr>\n",
              "  </thead>\n",
              "  <tbody>\n",
              "    <tr>\n",
              "      <th>0</th>\n",
              "      <td>-0.37</td>\n",
              "      <td>38.12</td>\n",
              "      <td>71.99</td>\n",
              "    </tr>\n",
              "    <tr>\n",
              "      <th>1</th>\n",
              "      <td>-1.07</td>\n",
              "      <td>40.38</td>\n",
              "      <td>71.77</td>\n",
              "    </tr>\n",
              "    <tr>\n",
              "      <th>2</th>\n",
              "      <td>-1.60</td>\n",
              "      <td>33.72</td>\n",
              "      <td>72.38</td>\n",
              "    </tr>\n",
              "    <tr>\n",
              "      <th>3</th>\n",
              "      <td>-1.12</td>\n",
              "      <td>44.03</td>\n",
              "      <td>72.71</td>\n",
              "    </tr>\n",
              "    <tr>\n",
              "      <th>4</th>\n",
              "      <td>-0.46</td>\n",
              "      <td>37.26</td>\n",
              "      <td>71.29</td>\n",
              "    </tr>\n",
              "  </tbody>\n",
              "</table>\n",
              "</div>"
            ],
            "text/plain": [
              "   LajuPE  PersentaseTK    IPM\n",
              "0   -0.37         38.12  71.99\n",
              "1   -1.07         40.38  71.77\n",
              "2   -1.60         33.72  72.38\n",
              "3   -1.12         44.03  72.71\n",
              "4   -0.46         37.26  71.29"
            ]
          },
          "execution_count": 14,
          "metadata": {},
          "output_type": "execute_result"
        }
      ],
      "source": [
        "#menentukan data yg di cluster\n",
        "x=ekonomi.iloc[:,1:4]\n",
        "x.head()"
      ]
    },
    {
      "cell_type": "code",
      "execution_count": 15,
      "metadata": {},
      "outputs": [
        {
          "data": {
            "text/plain": [
              "array([[-3.700e-01,  3.812e+01,  7.199e+01],\n",
              "       [-1.070e+00,  4.038e+01,  7.177e+01],\n",
              "       [-1.600e+00,  3.372e+01,  7.238e+01],\n",
              "       [-1.120e+00,  4.403e+01,  7.271e+01],\n",
              "       [-4.600e-01,  3.726e+01,  7.129e+01],\n",
              "       [-1.100e-01,  3.474e+01,  7.001e+01],\n",
              "       [-2.000e-02,  3.077e+01,  7.140e+01],\n",
              "       [-1.670e+00,  2.774e+01,  6.969e+01],\n",
              "       [-2.300e+00,  4.707e+01,  7.147e+01],\n",
              "       [-3.800e+00,  6.459e+01,  7.559e+01],\n",
              "       [-2.360e+00,  6.178e+01,  8.077e+01],\n",
              "       [-2.440e+00,  4.441e+01,  7.209e+01],\n",
              "       [-2.650e+00,  3.725e+01,  7.187e+01],\n",
              "       [-2.690e+00,  4.259e+01,  7.997e+01],\n",
              "       [-2.390e+00,  3.636e+01,  7.171e+01],\n",
              "       [-3.380e+00,  5.083e+01,  7.245e+01],\n",
              "       [-9.310e+00,  4.331e+01,  7.550e+01],\n",
              "       [-6.400e-01,  2.653e+01,  6.825e+01],\n",
              "       [-8.300e-01,  2.390e+01,  6.519e+01],\n",
              "       [-1.820e+00,  3.699e+01,  6.766e+01],\n",
              "       [-1.400e+00,  4.420e+01,  7.105e+01],\n",
              "       [-1.810e+00,  3.918e+01,  7.091e+01],\n",
              "       [-2.850e+00,  5.286e+01,  7.624e+01],\n",
              "       [-1.110e+00,  4.907e+01,  7.063e+01],\n",
              "       [-9.900e-01,  3.954e+01,  7.293e+01],\n",
              "       [ 4.860e+00,  3.263e+01,  6.955e+01],\n",
              "       [-7.000e-01,  3.578e+01,  7.193e+01],\n",
              "       [-6.500e-01,  3.541e+01,  7.145e+01],\n",
              "       [-2.000e-02,  3.788e+01,  6.868e+01],\n",
              "       [-2.420e+00,  2.737e+01,  6.611e+01],\n",
              "       [-9.200e-01,  3.344e+01,  6.949e+01],\n",
              "       [ 4.920e+00,  3.387e+01,  6.849e+01],\n",
              "       [-7.700e-01,  4.202e+01,  6.509e+01],\n",
              "       [ 2.320e+00,  2.008e+01,  6.044e+01]])"
            ]
          },
          "execution_count": 15,
          "metadata": {},
          "output_type": "execute_result"
        }
      ],
      "source": [
        "#mengubah data jadi array\n",
        "x_array=np.array(x)\n",
        "x_array"
      ]
    },
    {
      "cell_type": "code",
      "execution_count": 16,
      "metadata": {},
      "outputs": [
        {
          "data": {
            "text/plain": [
              "array([[0.62825018, 0.40530218, 0.56812592],\n",
              "       [0.57905833, 0.45607729, 0.55730448],\n",
              "       [0.54181307, 0.30644799, 0.58730939],\n",
              "       [0.57554462, 0.53808133, 0.60354156],\n",
              "       [0.62192551, 0.38598068, 0.53369405],\n",
              "       [0.64652143, 0.32936419, 0.47073291],\n",
              "       [0.6528461 , 0.24017075, 0.53910477],\n",
              "       [0.53689389, 0.17209616, 0.45499262],\n",
              "       [0.49262122, 0.60638059, 0.54254796],\n",
              "       [0.38721012, 1.        , 0.74520413],\n",
              "       [0.48840478, 0.93686812, 1.        ],\n",
              "       [0.48278285, 0.54661874, 0.57304476],\n",
              "       [0.4680253 , 0.38575601, 0.56222332],\n",
              "       [0.46521434, 0.50572905, 0.96064929],\n",
              "       [0.48629656, 0.3657605 , 0.55435317],\n",
              "       [0.41672523, 0.69085599, 0.59075258],\n",
              "       [0.        , 0.52190519, 0.74077718],\n",
              "       [0.60927618, 0.14491126, 0.38416134],\n",
              "       [0.5959241 , 0.08582341, 0.23364486],\n",
              "       [0.52635278, 0.37991463, 0.35514019],\n",
              "       [0.55586788, 0.5419007 , 0.52188883],\n",
              "       [0.52705552, 0.42911705, 0.51500246],\n",
              "       [0.45397048, 0.73646372, 0.77717659],\n",
              "       [0.57624736, 0.65131431, 0.50122971],\n",
              "       [0.58468025, 0.43720512, 0.61436301],\n",
              "       [0.99578356, 0.28195911, 0.44810625],\n",
              "       [0.60505973, 0.35272972, 0.56517462],\n",
              "       [0.60857344, 0.34441698, 0.54156419],\n",
              "       [0.6528461 , 0.39991013, 0.40531235],\n",
              "       [0.48418833, 0.16378342, 0.27889818],\n",
              "       [0.58959944, 0.30015727, 0.44515494],\n",
              "       [1.        , 0.30981802, 0.39596655],\n",
              "       [0.60014055, 0.49292294, 0.22872602],\n",
              "       [0.81728742, 0.        , 0.        ]])"
            ]
          },
          "execution_count": 16,
          "metadata": {},
          "output_type": "execute_result"
        }
      ],
      "source": [
        "from sklearn.cluster import KMeans\n",
        "from sklearn.preprocessing import MinMaxScaler\n",
        "#Scaling data\n",
        "scaler=MinMaxScaler()\n",
        "x_scaled=scaler.fit_transform(x_array)\n",
        "x_scaled"
      ]
    },
    {
      "cell_type": "code",
      "execution_count": 17,
      "metadata": {},
      "outputs": [],
      "source": [
        "#function returns WSS score for k values from 1 to kmax\n",
        "\n",
        "def calculate_WSS(points, kmax):\n",
        "  sse = []\n",
        "  for k in range(1, kmax+1):\n",
        "    kmeans = KMeans(n_clusters = k).fit(points)\n",
        "    centroids = kmeans.cluster_centers_\n",
        "    pred_clusters = kmeans.predict(points)\n",
        "    curr_sse = 0\n",
        "    \n",
        "    # calculate square of Euclidean distance of each point from its cluster center and add to current WSS\n",
        "    for i in range(len(points)):\n",
        "      curr_center = centroids[pred_clusters[i]]\n",
        "      curr_sse += (points[i, 0] - curr_center[0]) ** 2 + (points[i, 1] - curr_center[1]) ** 2\n",
        "      \n",
        "    sse.append(curr_sse)\n",
        "  return sse"
      ]
    },
    {
      "cell_type": "code",
      "execution_count": 18,
      "metadata": {},
      "outputs": [],
      "source": [
        "wss=calculate_WSS(x_scaled, 15)"
      ]
    },
    {
      "cell_type": "code",
      "execution_count": 19,
      "metadata": {},
      "outputs": [
        {
          "data": {
            "image/png": "[encoded data removed]",
            "text/plain": [
              "<Figure size 720x504 with 1 Axes>"
            ]
          },
          "metadata": {
            "needs_background": "light"
          },
          "output_type": "display_data"
        }
      ],
      "source": [
        "#plot elbow\n",
        "xx=np.arange(1,16,1)\n",
        "plt.figure(figsize=[10,7])\n",
        "plt.plot(xx,wss, \"b-o\")\n",
        "plt.show()"
      ]
    },
    {
      "cell_type": "code",
      "execution_count": 20,
      "metadata": {},
      "outputs": [],
      "source": [
        "from sklearn.datasets import make_blobs\n",
        "from sklearn.cluster import KMeans\n",
        "from sklearn.metrics import silhouette_samples, silhouette_score\n",
        "\n",
        "import matplotlib.pyplot as plt\n",
        "import matplotlib.cm as cm\n",
        "import numpy as np\n",
        "\n",
        "range_n_clusters = [2, 3, 4]\n",
        "\n",
        "def silh(X):\n",
        "    for n_clusters in range_n_clusters:\n",
        "        # Create a subplot with 1 row and 2 columns\n",
        "        fig, (ax1, ax2) = plt.subplots(1, 2)\n",
        "        fig.set_size_inches(18, 7)\n",
        "\n",
        "        # The 1st subplot is the silhouette plot\n",
        "        # The silhouette coefficient can range from -1, 1 but in this example all\n",
        "        # lie within [-0.1, 1]\n",
        "        ax1.set_xlim([-0.1, 1])\n",
        "        # The (n_clusters+1)*10 is for inserting blank space between silhouette\n",
        "        # plots of individual clusters, to demarcate them clearly.\n",
        "        ax1.set_ylim([0, len(X) + (n_clusters + 1) * 10])\n",
        "\n",
        "        # Initialize the clusterer with n_clusters value and a random generator\n",
        "        # seed of 10 for reproducibility.\n",
        "        clusterer = KMeans(n_clusters=n_clusters, random_state=10)\n",
        "        cluster_labels = clusterer.fit_predict(X)\n",
        "\n",
        "        # The silhouette_score gives the average value for all the samples.\n",
        "        # This gives a perspective into the density and separation of the formed\n",
        "        # clusters\n",
        "        silhouette_avg = silhouette_score(X, cluster_labels)\n",
        "        print(\n",
        "            \"For n_clusters =\",\n",
        "            n_clusters,\n",
        "            \"The average silhouette_score is :\",\n",
        "            silhouette_avg,\n",
        "        )\n",
        "\n",
        "        # Compute the silhouette scores for each sample\n",
        "        sample_silhouette_values = silhouette_samples(X, cluster_labels)\n",
        "\n",
        "        y_lower = 10\n",
        "        for i in range(n_clusters):\n",
        "            # Aggregate the silhouette scores for samples belonging to\n",
        "            # cluster i, and sort them\n",
        "            ith_cluster_silhouette_values = sample_silhouette_values[cluster_labels == i]\n",
        "\n",
        "            ith_cluster_silhouette_values.sort()\n",
        "\n",
        "            size_cluster_i = ith_cluster_silhouette_values.shape[0]\n",
        "            y_upper = y_lower + size_cluster_i\n",
        "\n",
        "            color = cm.nipy_spectral(float(i) / n_clusters)\n",
        "            ax1.fill_betweenx(\n",
        "                np.arange(y_lower, y_upper),\n",
        "                0,\n",
        "                ith_cluster_silhouette_values,\n",
        "                facecolor=color,\n",
        "                edgecolor=color,\n",
        "                alpha=0.7,\n",
        "            )\n",
        "\n",
        "            # Label the silhouette plots with their cluster numbers at the middle\n",
        "            ax1.text(-0.05, y_lower + 0.5 * size_cluster_i, str(i))\n",
        "\n",
        "            # Compute the new y_lower for next plot\n",
        "            y_lower = y_upper + 10  # 10 for the 0 samples\n",
        "\n",
        "        ax1.set_title(\"The silhouette plot for the various clusters.\")\n",
        "        ax1.set_xlabel(\"The silhouette coefficient values\")\n",
        "        ax1.set_ylabel(\"Cluster label\")\n",
        "\n",
        "        # The vertical line for average silhouette score of all the values\n",
        "        ax1.axvline(x=silhouette_avg, color=\"red\", linestyle=\"--\")\n",
        "\n",
        "        ax1.set_yticks([])  # Clear the yaxis labels / ticks\n",
        "        ax1.set_xticks([-0.1, 0, 0.2, 0.4, 0.6, 0.8, 1])\n",
        "\n",
        "        # 2nd Plot showing the actual clusters formed\n",
        "        colors = cm.nipy_spectral(cluster_labels.astype(float) / n_clusters)\n",
        "        ax2.scatter(\n",
        "            X[:, 0], X[:, 1], marker=\".\", s=300, lw=0, alpha=0.7, c=colors, edgecolor=\"k\"\n",
        "        )\n",
        "\n",
        "        # Labeling the clusters\n",
        "        centers = clusterer.cluster_centers_\n",
        "        # Draw white circles at cluster centers\n",
        "        ax2.scatter(\n",
        "            centers[:, 0],\n",
        "            centers[:, 1],\n",
        "            marker=\"o\",\n",
        "            c=\"white\",\n",
        "            alpha=1,\n",
        "            s=200,\n",
        "            edgecolor=\"k\",\n",
        "        )\n",
        "\n",
        "        for i, c in enumerate(centers):\n",
        "            ax2.scatter(c[0], c[1], marker=\"$%d$\" % i, alpha=1, s=50, edgecolor=\"k\")\n",
        "\n",
        "        ax2.set_title(\"The visualization of the clustered data.\")\n",
        "        ax2.set_xlabel(\"Feature space for the 1st feature\")\n",
        "        ax2.set_ylabel(\"Feature space for the 2nd feature\")\n",
        "\n",
        "        plt.suptitle(\n",
        "            \"Silhouette analysis for KMeans clustering on sample data with n_clusters = %d\"\n",
        "            % n_clusters,\n",
        "            fontsize=14,\n",
        "            fontweight=\"bold\",\n",
        "        )\n",
        "\n",
        "    plt.show()"
      ]
    },
    {
      "cell_type": "code",
      "execution_count": 21,
      "metadata": {},
      "outputs": [
        {
          "name": "stdout",
          "output_type": "stream",
          "text": [
            "For n_clusters = 2 The average silhouette_score is : 0.37793491427769305\n",
            "For n_clusters = 3 The average silhouette_score is : 0.38052279464737115\n",
            "For n_clusters = 4 The average silhouette_score is : 0.3247837866984325\n"
          ]
        },
        {
          "data": {
            "image/png": "[encoded data removed]",
            "text/plain": [
              "<Figure size 1296x504 with 2 Axes>"
            ]
          },
          "metadata": {
            "needs_background": "light"
          },
          "output_type": "display_data"
        },
        {
          "data": {
            "image/png": "[encoded data removed]",
            "text/plain": [
              "<Figure size 1296x504 with 2 Axes>"
            ]
          },
          "metadata": {
            "needs_background": "light"
          },
          "output_type": "display_data"
        },
        {
          "data": {
            "image/png": "[encoded data removed]",
            "text/plain": [
              "<Figure size 1296x504 with 2 Axes>"
            ]
          },
          "metadata": {
            "needs_background": "light"
          },
          "output_type": "display_data"
        }
      ],
      "source": [
        "silh(x_scaled)"
      ]
    },
    {
      "cell_type": "code",
      "execution_count": 22,
      "metadata": {},
      "outputs": [],
      "source": [
        "#menentukan model cluster\n",
        "kmeans = KMeans(n_clusters = 3, random_state=123)"
      ]
    },
    {
      "cell_type": "code",
      "execution_count": 23,
      "metadata": {},
      "outputs": [
        {
          "data": {
            "text/plain": [
              "KMeans(algorithm='auto', copy_x=True, init='k-means++', max_iter=300,\n",
              "       n_clusters=3, n_init=10, n_jobs=None, precompute_distances='auto',\n",
              "       random_state=123, tol=0.0001, verbose=0)"
            ]
          },
          "execution_count": 23,
          "metadata": {},
          "output_type": "execute_result"
        }
      ],
      "source": [
        "#menginput data pada model\n",
        "kmeans.fit(x_scaled)"
      ]
    },
    {
      "cell_type": "code",
      "execution_count": 24,
      "metadata": {},
      "outputs": [
        {
          "data": {
            "text/plain": [
              "array([0, 0, 0, 0, 0, 0, 0, 0, 0, 2, 2, 0, 0, 2, 0, 2, 2, 1, 1, 0, 0, 0,\n",
              "       2, 0, 0, 1, 0, 0, 0, 1, 0, 1, 0, 1])"
            ]
          },
          "execution_count": 24,
          "metadata": {},
          "output_type": "execute_result"
        }
      ],
      "source": [
        "# label cluster\n",
        "kmeans.labels_"
      ]
    },
    {
      "cell_type": "code",
      "execution_count": 25,
      "metadata": {},
      "outputs": [
        {
          "data": {
            "text/plain": [
              "array([[0.56995464, 0.41216478, 0.51093324],\n",
              "       [0.75040993, 0.16438254, 0.29012953],\n",
              "       [0.36858749, 0.73197034, 0.80242663]])"
            ]
          },
          "execution_count": 25,
          "metadata": {},
          "output_type": "execute_result"
        }
      ],
      "source": [
        "#pusat cluster\n",
        "kmeans.cluster_centers_"
      ]
    },
    {
      "cell_type": "code",
      "execution_count": 26,
      "metadata": {},
      "outputs": [
        {
          "data": {
            "text/plain": [
              "<bound method NDFrame.head of                 PROVINSI  LajuPE  PersentaseTK    IPM  cluster\n",
              "0                   ACEH   -0.37         38.12  71.99        0\n",
              "1         SUMATERA UTARA   -1.07         40.38  71.77        0\n",
              "2         SUMATERA BARAT   -1.60         33.72  72.38        0\n",
              "3                   RIAU   -1.12         44.03  72.71        0\n",
              "4                  JAMBI   -0.46         37.26  71.29        0\n",
              "5       SUMATERA SELATAN   -0.11         34.74  70.01        0\n",
              "6               BENGKULU   -0.02         30.77  71.40        0\n",
              "7                LAMPUNG   -1.67         27.74  69.69        0\n",
              "8   KEP. BANGKA BELITUNG   -2.30         47.07  71.47        0\n",
              "9              KEP. RIAU   -3.80         64.59  75.59        2\n",
              "10           DKI JAKARTA   -2.36         61.78  80.77        2\n",
              "11            JAWA BARAT   -2.44         44.41  72.09        0\n",
              "12           JAWA TENGAH   -2.65         37.25  71.87        0\n",
              "13         DI YOGYAKARTA   -2.69         42.59  79.97        2\n",
              "14            JAWA TIMUR   -2.39         36.36  71.71        0\n",
              "15                BANTEN   -3.38         50.83  72.45        2\n",
              "16                  BALI   -9.31         43.31  75.50        2\n",
              "17   NUSA TENGGARA BARAT   -0.64         26.53  68.25        1\n",
              "18   NUSA TENGGARA TIMUR   -0.83         23.90  65.19        1\n",
              "19      KALIMANTAN BARAT   -1.82         36.99  67.66        0\n",
              "20     KALIMANTAN TENGAH   -1.40         44.20  71.05        0\n",
              "21    KALIMANTAN SELATAN   -1.81         39.18  70.91        0\n",
              "22      KALIMANTAN TIMUR   -2.85         52.86  76.24        2\n",
              "23      KALIMANTAN UTARA   -1.11         49.07  70.63        0\n",
              "24        SULAWESI UTARA   -0.99         39.54  72.93        0\n",
              "25       SULAWESI TENGAH    4.86         32.63  69.55        1\n",
              "26      SULAWESI SELATAN   -0.70         35.78  71.93        0\n",
              "27     SULAWESI TENGGARA   -0.65         35.41  71.45        0\n",
              "28             GORONTALO   -0.02         37.88  68.68        0\n",
              "29        SULAWESI BARAT   -2.42         27.37  66.11        1\n",
              "30                MALUKU   -0.92         33.44  69.49        0\n",
              "31          MALUKU UTARA    4.92         33.87  68.49        1\n",
              "32           PAPUA BARAT   -0.77         42.02  65.09        0\n",
              "33                 PAPUA    2.32         20.08  60.44        1>"
            ]
          },
          "execution_count": 26,
          "metadata": {},
          "output_type": "execute_result"
        }
      ],
      "source": [
        "#menambahkan label pada data frame\n",
        "ekonomi['cluster'] = kmeans.labels_\n",
        "ekonomi.head"
      ]
    },
    {
      "cell_type": "code",
      "execution_count": 27,
      "metadata": {},
      "outputs": [
        {
          "data": {
            "image/png": "[encoded data removed]",
            "text/plain": [
              "<Figure size 432x288 with 2 Axes>"
            ]
          },
          "metadata": {
            "needs_background": "light"
          },
          "output_type": "display_data"
        }
      ],
      "source": [
        "cluster = kmeans.labels_\n",
        "output = plt.scatter(x_scaled[:,0], x_scaled[:,1], s = 100, c = cluster, marker = \"o\", alpha = 1 )\n",
        "centers = kmeans.cluster_centers_\n",
        "plt.scatter(centers[:,0], centers[:,1], c=\"magenta\", s=200, alpha=1 , marker=\"o\");\n",
        "plt.title(\"Hasil Klustering K-Means\")\n",
        "plt.colorbar(output)\n",
        "plt.show()"
      ]
    },
    {
      "cell_type": "code",
      "execution_count": 28,
      "metadata": {},
      "outputs": [],
      "source": [
        "grup=ekonomi.groupby(\"cluster\")"
      ]
    },
    {
      "cell_type": "code",
      "execution_count": 29,
      "metadata": {},
      "outputs": [
        {
          "data": {
            "text/html": [
              "<div>\n",
              "<style scoped>\n",
              "    .dataframe tbody tr th:only-of-type {\n",
              "        vertical-align: middle;\n",
              "    }\n",
              "\n",
              "    .dataframe tbody tr th {\n",
              "        vertical-align: top;\n",
              "    }\n",
              "\n",
              "    .dataframe thead th {\n",
              "        text-align: right;\n",
              "    }\n",
              "</style>\n",
              "<table border=\"1\" class=\"dataframe\">\n",
              "  <thead>\n",
              "    <tr style=\"text-align: right;\">\n",
              "      <th></th>\n",
              "      <th>LajuPE</th>\n",
              "      <th>PersentaseTK</th>\n",
              "      <th>IPM</th>\n",
              "    </tr>\n",
              "    <tr>\n",
              "      <th>cluster</th>\n",
              "      <th></th>\n",
              "      <th></th>\n",
              "      <th></th>\n",
              "    </tr>\n",
              "  </thead>\n",
              "  <tbody>\n",
              "    <tr>\n",
              "      <th>0</th>\n",
              "      <td>-1.199545</td>\n",
              "      <td>38.425455</td>\n",
              "      <td>70.827273</td>\n",
              "    </tr>\n",
              "    <tr>\n",
              "      <th>1</th>\n",
              "      <td>1.368333</td>\n",
              "      <td>27.396667</td>\n",
              "      <td>66.338333</td>\n",
              "    </tr>\n",
              "    <tr>\n",
              "      <th>2</th>\n",
              "      <td>-4.065000</td>\n",
              "      <td>52.660000</td>\n",
              "      <td>76.753333</td>\n",
              "    </tr>\n",
              "  </tbody>\n",
              "</table>\n",
              "</div>"
            ],
            "text/plain": [
              "           LajuPE  PersentaseTK        IPM\n",
              "cluster                                   \n",
              "0       -1.199545     38.425455  70.827273\n",
              "1        1.368333     27.396667  66.338333\n",
              "2       -4.065000     52.660000  76.753333"
            ]
          },
          "execution_count": 29,
          "metadata": {},
          "output_type": "execute_result"
        }
      ],
      "source": [
        "profil = pd.DataFrame(grup.mean())\n",
        "profil"
      ]
    },
    {
      "cell_type": "code",
      "execution_count": 30,
      "metadata": {},
      "outputs": [],
      "source": [
        "profil[\"cluster\"]=profil.index"
      ]
    },
    {
      "cell_type": "code",
      "execution_count": 31,
      "metadata": {},
      "outputs": [
        {
          "data": {
            "image/png": "[encoded data removed]",
            "text/plain": [
              "<Figure size 432x288 with 1 Axes>"
            ]
          },
          "metadata": {
            "needs_background": "light"
          },
          "output_type": "display_data"
        }
      ],
      "source": [
        "profil.plot(x=\"cluster\", y=[\"LajuPE\", \"PersentaseTK\",\"IPM\"], kind=\"bar\")\n",
        "plt.xticks(rotation=0)\n",
        "plt.show()"
      ]
    },
    {
      "cell_type": "code",
      "execution_count": 32,
      "metadata": {},
      "outputs": [
        {
          "data": {
            "text/html": [
              "<div>\n",
              "<style scoped>\n",
              "    .dataframe tbody tr th:only-of-type {\n",
              "        vertical-align: middle;\n",
              "    }\n",
              "\n",
              "    .dataframe tbody tr th {\n",
              "        vertical-align: top;\n",
              "    }\n",
              "\n",
              "    .dataframe thead th {\n",
              "        text-align: right;\n",
              "    }\n",
              "</style>\n",
              "<table border=\"1\" class=\"dataframe\">\n",
              "  <thead>\n",
              "    <tr style=\"text-align: right;\">\n",
              "      <th></th>\n",
              "      <th>PROVINSI</th>\n",
              "      <th>LajuPE</th>\n",
              "      <th>PersentaseTK</th>\n",
              "      <th>IPM</th>\n",
              "      <th>cluster</th>\n",
              "    </tr>\n",
              "  </thead>\n",
              "  <tbody>\n",
              "    <tr>\n",
              "      <th>0</th>\n",
              "      <td>ACEH</td>\n",
              "      <td>-0.37</td>\n",
              "      <td>38.12</td>\n",
              "      <td>71.99</td>\n",
              "      <td>0</td>\n",
              "    </tr>\n",
              "    <tr>\n",
              "      <th>1</th>\n",
              "      <td>SUMATERA UTARA</td>\n",
              "      <td>-1.07</td>\n",
              "      <td>40.38</td>\n",
              "      <td>71.77</td>\n",
              "      <td>0</td>\n",
              "    </tr>\n",
              "    <tr>\n",
              "      <th>2</th>\n",
              "      <td>SUMATERA BARAT</td>\n",
              "      <td>-1.60</td>\n",
              "      <td>33.72</td>\n",
              "      <td>72.38</td>\n",
              "      <td>0</td>\n",
              "    </tr>\n",
              "    <tr>\n",
              "      <th>3</th>\n",
              "      <td>RIAU</td>\n",
              "      <td>-1.12</td>\n",
              "      <td>44.03</td>\n",
              "      <td>72.71</td>\n",
              "      <td>0</td>\n",
              "    </tr>\n",
              "    <tr>\n",
              "      <th>4</th>\n",
              "      <td>JAMBI</td>\n",
              "      <td>-0.46</td>\n",
              "      <td>37.26</td>\n",
              "      <td>71.29</td>\n",
              "      <td>0</td>\n",
              "    </tr>\n",
              "    <tr>\n",
              "      <th>5</th>\n",
              "      <td>SUMATERA SELATAN</td>\n",
              "      <td>-0.11</td>\n",
              "      <td>34.74</td>\n",
              "      <td>70.01</td>\n",
              "      <td>0</td>\n",
              "    </tr>\n",
              "    <tr>\n",
              "      <th>6</th>\n",
              "      <td>BENGKULU</td>\n",
              "      <td>-0.02</td>\n",
              "      <td>30.77</td>\n",
              "      <td>71.40</td>\n",
              "      <td>0</td>\n",
              "    </tr>\n",
              "    <tr>\n",
              "      <th>7</th>\n",
              "      <td>LAMPUNG</td>\n",
              "      <td>-1.67</td>\n",
              "      <td>27.74</td>\n",
              "      <td>69.69</td>\n",
              "      <td>0</td>\n",
              "    </tr>\n",
              "    <tr>\n",
              "      <th>8</th>\n",
              "      <td>KEP. BANGKA BELITUNG</td>\n",
              "      <td>-2.30</td>\n",
              "      <td>47.07</td>\n",
              "      <td>71.47</td>\n",
              "      <td>0</td>\n",
              "    </tr>\n",
              "    <tr>\n",
              "      <th>11</th>\n",
              "      <td>JAWA BARAT</td>\n",
              "      <td>-2.44</td>\n",
              "      <td>44.41</td>\n",
              "      <td>72.09</td>\n",
              "      <td>0</td>\n",
              "    </tr>\n",
              "    <tr>\n",
              "      <th>12</th>\n",
              "      <td>JAWA TENGAH</td>\n",
              "      <td>-2.65</td>\n",
              "      <td>37.25</td>\n",
              "      <td>71.87</td>\n",
              "      <td>0</td>\n",
              "    </tr>\n",
              "    <tr>\n",
              "      <th>14</th>\n",
              "      <td>JAWA TIMUR</td>\n",
              "      <td>-2.39</td>\n",
              "      <td>36.36</td>\n",
              "      <td>71.71</td>\n",
              "      <td>0</td>\n",
              "    </tr>\n",
              "    <tr>\n",
              "      <th>19</th>\n",
              "      <td>KALIMANTAN BARAT</td>\n",
              "      <td>-1.82</td>\n",
              "      <td>36.99</td>\n",
              "      <td>67.66</td>\n",
              "      <td>0</td>\n",
              "    </tr>\n",
              "    <tr>\n",
              "      <th>20</th>\n",
              "      <td>KALIMANTAN TENGAH</td>\n",
              "      <td>-1.40</td>\n",
              "      <td>44.20</td>\n",
              "      <td>71.05</td>\n",
              "      <td>0</td>\n",
              "    </tr>\n",
              "    <tr>\n",
              "      <th>21</th>\n",
              "      <td>KALIMANTAN SELATAN</td>\n",
              "      <td>-1.81</td>\n",
              "      <td>39.18</td>\n",
              "      <td>70.91</td>\n",
              "      <td>0</td>\n",
              "    </tr>\n",
              "    <tr>\n",
              "      <th>23</th>\n",
              "      <td>KALIMANTAN UTARA</td>\n",
              "      <td>-1.11</td>\n",
              "      <td>49.07</td>\n",
              "      <td>70.63</td>\n",
              "      <td>0</td>\n",
              "    </tr>\n",
              "    <tr>\n",
              "      <th>24</th>\n",
              "      <td>SULAWESI UTARA</td>\n",
              "      <td>-0.99</td>\n",
              "      <td>39.54</td>\n",
              "      <td>72.93</td>\n",
              "      <td>0</td>\n",
              "    </tr>\n",
              "    <tr>\n",
              "      <th>26</th>\n",
              "      <td>SULAWESI SELATAN</td>\n",
              "      <td>-0.70</td>\n",
              "      <td>35.78</td>\n",
              "      <td>71.93</td>\n",
              "      <td>0</td>\n",
              "    </tr>\n",
              "    <tr>\n",
              "      <th>27</th>\n",
              "      <td>SULAWESI TENGGARA</td>\n",
              "      <td>-0.65</td>\n",
              "      <td>35.41</td>\n",
              "      <td>71.45</td>\n",
              "      <td>0</td>\n",
              "    </tr>\n",
              "    <tr>\n",
              "      <th>28</th>\n",
              "      <td>GORONTALO</td>\n",
              "      <td>-0.02</td>\n",
              "      <td>37.88</td>\n",
              "      <td>68.68</td>\n",
              "      <td>0</td>\n",
              "    </tr>\n",
              "    <tr>\n",
              "      <th>30</th>\n",
              "      <td>MALUKU</td>\n",
              "      <td>-0.92</td>\n",
              "      <td>33.44</td>\n",
              "      <td>69.49</td>\n",
              "      <td>0</td>\n",
              "    </tr>\n",
              "    <tr>\n",
              "      <th>32</th>\n",
              "      <td>PAPUA BARAT</td>\n",
              "      <td>-0.77</td>\n",
              "      <td>42.02</td>\n",
              "      <td>65.09</td>\n",
              "      <td>0</td>\n",
              "    </tr>\n",
              "  </tbody>\n",
              "</table>\n",
              "</div>"
            ],
            "text/plain": [
              "                PROVINSI  LajuPE  PersentaseTK    IPM  cluster\n",
              "0                   ACEH   -0.37         38.12  71.99        0\n",
              "1         SUMATERA UTARA   -1.07         40.38  71.77        0\n",
              "2         SUMATERA BARAT   -1.60         33.72  72.38        0\n",
              "3                   RIAU   -1.12         44.03  72.71        0\n",
              "4                  JAMBI   -0.46         37.26  71.29        0\n",
              "5       SUMATERA SELATAN   -0.11         34.74  70.01        0\n",
              "6               BENGKULU   -0.02         30.77  71.40        0\n",
              "7                LAMPUNG   -1.67         27.74  69.69        0\n",
              "8   KEP. BANGKA BELITUNG   -2.30         47.07  71.47        0\n",
              "11            JAWA BARAT   -2.44         44.41  72.09        0\n",
              "12           JAWA TENGAH   -2.65         37.25  71.87        0\n",
              "14            JAWA TIMUR   -2.39         36.36  71.71        0\n",
              "19      KALIMANTAN BARAT   -1.82         36.99  67.66        0\n",
              "20     KALIMANTAN TENGAH   -1.40         44.20  71.05        0\n",
              "21    KALIMANTAN SELATAN   -1.81         39.18  70.91        0\n",
              "23      KALIMANTAN UTARA   -1.11         49.07  70.63        0\n",
              "24        SULAWESI UTARA   -0.99         39.54  72.93        0\n",
              "26      SULAWESI SELATAN   -0.70         35.78  71.93        0\n",
              "27     SULAWESI TENGGARA   -0.65         35.41  71.45        0\n",
              "28             GORONTALO   -0.02         37.88  68.68        0\n",
              "30                MALUKU   -0.92         33.44  69.49        0\n",
              "32           PAPUA BARAT   -0.77         42.02  65.09        0"
            ]
          },
          "execution_count": 32,
          "metadata": {},
          "output_type": "execute_result"
        }
      ],
      "source": [
        "# Anggota cluster 0\n",
        "ekonomi[ekonomi.cluster == 0]"
      ]
    },
    {
      "cell_type": "code",
      "execution_count": 33,
      "metadata": {},
      "outputs": [
        {
          "data": {
            "text/html": [
              "<div>\n",
              "<style scoped>\n",
              "    .dataframe tbody tr th:only-of-type {\n",
              "        vertical-align: middle;\n",
              "    }\n",
              "\n",
              "    .dataframe tbody tr th {\n",
              "        vertical-align: top;\n",
              "    }\n",
              "\n",
              "    .dataframe thead th {\n",
              "        text-align: right;\n",
              "    }\n",
              "</style>\n",
              "<table border=\"1\" class=\"dataframe\">\n",
              "  <thead>\n",
              "    <tr style=\"text-align: right;\">\n",
              "      <th></th>\n",
              "      <th>PROVINSI</th>\n",
              "      <th>LajuPE</th>\n",
              "      <th>PersentaseTK</th>\n",
              "      <th>IPM</th>\n",
              "      <th>cluster</th>\n",
              "    </tr>\n",
              "  </thead>\n",
              "  <tbody>\n",
              "    <tr>\n",
              "      <th>17</th>\n",
              "      <td>NUSA TENGGARA BARAT</td>\n",
              "      <td>-0.64</td>\n",
              "      <td>26.53</td>\n",
              "      <td>68.25</td>\n",
              "      <td>1</td>\n",
              "    </tr>\n",
              "    <tr>\n",
              "      <th>18</th>\n",
              "      <td>NUSA TENGGARA TIMUR</td>\n",
              "      <td>-0.83</td>\n",
              "      <td>23.90</td>\n",
              "      <td>65.19</td>\n",
              "      <td>1</td>\n",
              "    </tr>\n",
              "    <tr>\n",
              "      <th>25</th>\n",
              "      <td>SULAWESI TENGAH</td>\n",
              "      <td>4.86</td>\n",
              "      <td>32.63</td>\n",
              "      <td>69.55</td>\n",
              "      <td>1</td>\n",
              "    </tr>\n",
              "    <tr>\n",
              "      <th>29</th>\n",
              "      <td>SULAWESI BARAT</td>\n",
              "      <td>-2.42</td>\n",
              "      <td>27.37</td>\n",
              "      <td>66.11</td>\n",
              "      <td>1</td>\n",
              "    </tr>\n",
              "    <tr>\n",
              "      <th>31</th>\n",
              "      <td>MALUKU UTARA</td>\n",
              "      <td>4.92</td>\n",
              "      <td>33.87</td>\n",
              "      <td>68.49</td>\n",
              "      <td>1</td>\n",
              "    </tr>\n",
              "    <tr>\n",
              "      <th>33</th>\n",
              "      <td>PAPUA</td>\n",
              "      <td>2.32</td>\n",
              "      <td>20.08</td>\n",
              "      <td>60.44</td>\n",
              "      <td>1</td>\n",
              "    </tr>\n",
              "  </tbody>\n",
              "</table>\n",
              "</div>"
            ],
            "text/plain": [
              "               PROVINSI  LajuPE  PersentaseTK    IPM  cluster\n",
              "17  NUSA TENGGARA BARAT   -0.64         26.53  68.25        1\n",
              "18  NUSA TENGGARA TIMUR   -0.83         23.90  65.19        1\n",
              "25      SULAWESI TENGAH    4.86         32.63  69.55        1\n",
              "29       SULAWESI BARAT   -2.42         27.37  66.11        1\n",
              "31         MALUKU UTARA    4.92         33.87  68.49        1\n",
              "33                PAPUA    2.32         20.08  60.44        1"
            ]
          },
          "execution_count": 33,
          "metadata": {},
          "output_type": "execute_result"
        }
      ],
      "source": [
        "# Anggota cluster 1\n",
        "ekonomi[ekonomi.cluster == 1]"
      ]
    },
    {
      "cell_type": "code",
      "execution_count": 34,
      "metadata": {},
      "outputs": [
        {
          "data": {
            "text/html": [
              "<div>\n",
              "<style scoped>\n",
              "    .dataframe tbody tr th:only-of-type {\n",
              "        vertical-align: middle;\n",
              "    }\n",
              "\n",
              "    .dataframe tbody tr th {\n",
              "        vertical-align: top;\n",
              "    }\n",
              "\n",
              "    .dataframe thead th {\n",
              "        text-align: right;\n",
              "    }\n",
              "</style>\n",
              "<table border=\"1\" class=\"dataframe\">\n",
              "  <thead>\n",
              "    <tr style=\"text-align: right;\">\n",
              "      <th></th>\n",
              "      <th>PROVINSI</th>\n",
              "      <th>LajuPE</th>\n",
              "      <th>PersentaseTK</th>\n",
              "      <th>IPM</th>\n",
              "      <th>cluster</th>\n",
              "    </tr>\n",
              "  </thead>\n",
              "  <tbody>\n",
              "    <tr>\n",
              "      <th>9</th>\n",
              "      <td>KEP. RIAU</td>\n",
              "      <td>-3.80</td>\n",
              "      <td>64.59</td>\n",
              "      <td>75.59</td>\n",
              "      <td>2</td>\n",
              "    </tr>\n",
              "    <tr>\n",
              "      <th>10</th>\n",
              "      <td>DKI JAKARTA</td>\n",
              "      <td>-2.36</td>\n",
              "      <td>61.78</td>\n",
              "      <td>80.77</td>\n",
              "      <td>2</td>\n",
              "    </tr>\n",
              "    <tr>\n",
              "      <th>13</th>\n",
              "      <td>DI YOGYAKARTA</td>\n",
              "      <td>-2.69</td>\n",
              "      <td>42.59</td>\n",
              "      <td>79.97</td>\n",
              "      <td>2</td>\n",
              "    </tr>\n",
              "    <tr>\n",
              "      <th>15</th>\n",
              "      <td>BANTEN</td>\n",
              "      <td>-3.38</td>\n",
              "      <td>50.83</td>\n",
              "      <td>72.45</td>\n",
              "      <td>2</td>\n",
              "    </tr>\n",
              "    <tr>\n",
              "      <th>16</th>\n",
              "      <td>BALI</td>\n",
              "      <td>-9.31</td>\n",
              "      <td>43.31</td>\n",
              "      <td>75.50</td>\n",
              "      <td>2</td>\n",
              "    </tr>\n",
              "    <tr>\n",
              "      <th>22</th>\n",
              "      <td>KALIMANTAN TIMUR</td>\n",
              "      <td>-2.85</td>\n",
              "      <td>52.86</td>\n",
              "      <td>76.24</td>\n",
              "      <td>2</td>\n",
              "    </tr>\n",
              "  </tbody>\n",
              "</table>\n",
              "</div>"
            ],
            "text/plain": [
              "            PROVINSI  LajuPE  PersentaseTK    IPM  cluster\n",
              "9          KEP. RIAU   -3.80         64.59  75.59        2\n",
              "10       DKI JAKARTA   -2.36         61.78  80.77        2\n",
              "13     DI YOGYAKARTA   -2.69         42.59  79.97        2\n",
              "15            BANTEN   -3.38         50.83  72.45        2\n",
              "16              BALI   -9.31         43.31  75.50        2\n",
              "22  KALIMANTAN TIMUR   -2.85         52.86  76.24        2"
            ]
          },
          "execution_count": 34,
          "metadata": {},
          "output_type": "execute_result"
        }
      ],
      "source": [
        "# Anggota cluster 2\n",
        "ekonomi[ekonomi.cluster == 2]"
      ]
    },
    {
      "cell_type": "code",
      "execution_count": 35,
      "metadata": {},
      "outputs": [
        {
          "data": {
            "text/html": [
              "<div>\n",
              "<style scoped>\n",
              "    .dataframe tbody tr th:only-of-type {\n",
              "        vertical-align: middle;\n",
              "    }\n",
              "\n",
              "    .dataframe tbody tr th {\n",
              "        vertical-align: top;\n",
              "    }\n",
              "\n",
              "    .dataframe thead th {\n",
              "        text-align: right;\n",
              "    }\n",
              "</style>\n",
              "<table border=\"1\" class=\"dataframe\">\n",
              "  <thead>\n",
              "    <tr style=\"text-align: right;\">\n",
              "      <th></th>\n",
              "      <th>PROVINSI</th>\n",
              "      <th>LajuPE</th>\n",
              "      <th>PersentaseTK</th>\n",
              "      <th>IPM</th>\n",
              "      <th>cluster</th>\n",
              "    </tr>\n",
              "  </thead>\n",
              "  <tbody>\n",
              "    <tr>\n",
              "      <th>0</th>\n",
              "      <td>ACEH</td>\n",
              "      <td>-0.37</td>\n",
              "      <td>38.12</td>\n",
              "      <td>71.99</td>\n",
              "      <td>0</td>\n",
              "    </tr>\n",
              "    <tr>\n",
              "      <th>1</th>\n",
              "      <td>SUMATERA UTARA</td>\n",
              "      <td>-1.07</td>\n",
              "      <td>40.38</td>\n",
              "      <td>71.77</td>\n",
              "      <td>0</td>\n",
              "    </tr>\n",
              "    <tr>\n",
              "      <th>2</th>\n",
              "      <td>SUMATERA BARAT</td>\n",
              "      <td>-1.60</td>\n",
              "      <td>33.72</td>\n",
              "      <td>72.38</td>\n",
              "      <td>0</td>\n",
              "    </tr>\n",
              "    <tr>\n",
              "      <th>3</th>\n",
              "      <td>RIAU</td>\n",
              "      <td>-1.12</td>\n",
              "      <td>44.03</td>\n",
              "      <td>72.71</td>\n",
              "      <td>0</td>\n",
              "    </tr>\n",
              "    <tr>\n",
              "      <th>4</th>\n",
              "      <td>JAMBI</td>\n",
              "      <td>-0.46</td>\n",
              "      <td>37.26</td>\n",
              "      <td>71.29</td>\n",
              "      <td>0</td>\n",
              "    </tr>\n",
              "    <tr>\n",
              "      <th>5</th>\n",
              "      <td>SUMATERA SELATAN</td>\n",
              "      <td>-0.11</td>\n",
              "      <td>34.74</td>\n",
              "      <td>70.01</td>\n",
              "      <td>0</td>\n",
              "    </tr>\n",
              "    <tr>\n",
              "      <th>6</th>\n",
              "      <td>BENGKULU</td>\n",
              "      <td>-0.02</td>\n",
              "      <td>30.77</td>\n",
              "      <td>71.40</td>\n",
              "      <td>0</td>\n",
              "    </tr>\n",
              "    <tr>\n",
              "      <th>7</th>\n",
              "      <td>LAMPUNG</td>\n",
              "      <td>-1.67</td>\n",
              "      <td>27.74</td>\n",
              "      <td>69.69</td>\n",
              "      <td>0</td>\n",
              "    </tr>\n",
              "    <tr>\n",
              "      <th>8</th>\n",
              "      <td>KEP. BANGKA BELITUNG</td>\n",
              "      <td>-2.30</td>\n",
              "      <td>47.07</td>\n",
              "      <td>71.47</td>\n",
              "      <td>0</td>\n",
              "    </tr>\n",
              "    <tr>\n",
              "      <th>9</th>\n",
              "      <td>KEP. RIAU</td>\n",
              "      <td>-3.80</td>\n",
              "      <td>64.59</td>\n",
              "      <td>75.59</td>\n",
              "      <td>2</td>\n",
              "    </tr>\n",
              "    <tr>\n",
              "      <th>10</th>\n",
              "      <td>DKI JAKARTA</td>\n",
              "      <td>-2.36</td>\n",
              "      <td>61.78</td>\n",
              "      <td>80.77</td>\n",
              "      <td>2</td>\n",
              "    </tr>\n",
              "    <tr>\n",
              "      <th>11</th>\n",
              "      <td>JAWA BARAT</td>\n",
              "      <td>-2.44</td>\n",
              "      <td>44.41</td>\n",
              "      <td>72.09</td>\n",
              "      <td>0</td>\n",
              "    </tr>\n",
              "    <tr>\n",
              "      <th>12</th>\n",
              "      <td>JAWA TENGAH</td>\n",
              "      <td>-2.65</td>\n",
              "      <td>37.25</td>\n",
              "      <td>71.87</td>\n",
              "      <td>0</td>\n",
              "    </tr>\n",
              "    <tr>\n",
              "      <th>13</th>\n",
              "      <td>DI YOGYAKARTA</td>\n",
              "      <td>-2.69</td>\n",
              "      <td>42.59</td>\n",
              "      <td>79.97</td>\n",
              "      <td>2</td>\n",
              "    </tr>\n",
              "    <tr>\n",
              "      <th>14</th>\n",
              "      <td>JAWA TIMUR</td>\n",
              "      <td>-2.39</td>\n",
              "      <td>36.36</td>\n",
              "      <td>71.71</td>\n",
              "      <td>0</td>\n",
              "    </tr>\n",
              "    <tr>\n",
              "      <th>15</th>\n",
              "      <td>BANTEN</td>\n",
              "      <td>-3.38</td>\n",
              "      <td>50.83</td>\n",
              "      <td>72.45</td>\n",
              "      <td>2</td>\n",
              "    </tr>\n",
              "    <tr>\n",
              "      <th>16</th>\n",
              "      <td>BALI</td>\n",
              "      <td>-9.31</td>\n",
              "      <td>43.31</td>\n",
              "      <td>75.50</td>\n",
              "      <td>2</td>\n",
              "    </tr>\n",
              "    <tr>\n",
              "      <th>17</th>\n",
              "      <td>NUSA TENGGARA BARAT</td>\n",
              "      <td>-0.64</td>\n",
              "      <td>26.53</td>\n",
              "      <td>68.25</td>\n",
              "      <td>1</td>\n",
              "    </tr>\n",
              "    <tr>\n",
              "      <th>18</th>\n",
              "      <td>NUSA TENGGARA TIMUR</td>\n",
              "      <td>-0.83</td>\n",
              "      <td>23.90</td>\n",
              "      <td>65.19</td>\n",
              "      <td>1</td>\n",
              "    </tr>\n",
              "    <tr>\n",
              "      <th>19</th>\n",
              "      <td>KALIMANTAN BARAT</td>\n",
              "      <td>-1.82</td>\n",
              "      <td>36.99</td>\n",
              "      <td>67.66</td>\n",
              "      <td>0</td>\n",
              "    </tr>\n",
              "    <tr>\n",
              "      <th>20</th>\n",
              "      <td>KALIMANTAN TENGAH</td>\n",
              "      <td>-1.40</td>\n",
              "      <td>44.20</td>\n",
              "      <td>71.05</td>\n",
              "      <td>0</td>\n",
              "    </tr>\n",
              "    <tr>\n",
              "      <th>21</th>\n",
              "      <td>KALIMANTAN SELATAN</td>\n",
              "      <td>-1.81</td>\n",
              "      <td>39.18</td>\n",
              "      <td>70.91</td>\n",
              "      <td>0</td>\n",
              "    </tr>\n",
              "    <tr>\n",
              "      <th>22</th>\n",
              "      <td>KALIMANTAN TIMUR</td>\n",
              "      <td>-2.85</td>\n",
              "      <td>52.86</td>\n",
              "      <td>76.24</td>\n",
              "      <td>2</td>\n",
              "    </tr>\n",
              "    <tr>\n",
              "      <th>23</th>\n",
              "      <td>KALIMANTAN UTARA</td>\n",
              "      <td>-1.11</td>\n",
              "      <td>49.07</td>\n",
              "      <td>70.63</td>\n",
              "      <td>0</td>\n",
              "    </tr>\n",
              "    <tr>\n",
              "      <th>24</th>\n",
              "      <td>SULAWESI UTARA</td>\n",
              "      <td>-0.99</td>\n",
              "      <td>39.54</td>\n",
              "      <td>72.93</td>\n",
              "      <td>0</td>\n",
              "    </tr>\n",
              "    <tr>\n",
              "      <th>25</th>\n",
              "      <td>SULAWESI TENGAH</td>\n",
              "      <td>4.86</td>\n",
              "      <td>32.63</td>\n",
              "      <td>69.55</td>\n",
              "      <td>1</td>\n",
              "    </tr>\n",
              "    <tr>\n",
              "      <th>26</th>\n",
              "      <td>SULAWESI SELATAN</td>\n",
              "      <td>-0.70</td>\n",
              "      <td>35.78</td>\n",
              "      <td>71.93</td>\n",
              "      <td>0</td>\n",
              "    </tr>\n",
              "    <tr>\n",
              "      <th>27</th>\n",
              "      <td>SULAWESI TENGGARA</td>\n",
              "      <td>-0.65</td>\n",
              "      <td>35.41</td>\n",
              "      <td>71.45</td>\n",
              "      <td>0</td>\n",
              "    </tr>\n",
              "    <tr>\n",
              "      <th>28</th>\n",
              "      <td>GORONTALO</td>\n",
              "      <td>-0.02</td>\n",
              "      <td>37.88</td>\n",
              "      <td>68.68</td>\n",
              "      <td>0</td>\n",
              "    </tr>\n",
              "    <tr>\n",
              "      <th>29</th>\n",
              "      <td>SULAWESI BARAT</td>\n",
              "      <td>-2.42</td>\n",
              "      <td>27.37</td>\n",
              "      <td>66.11</td>\n",
              "      <td>1</td>\n",
              "    </tr>\n",
              "    <tr>\n",
              "      <th>30</th>\n",
              "      <td>MALUKU</td>\n",
              "      <td>-0.92</td>\n",
              "      <td>33.44</td>\n",
              "      <td>69.49</td>\n",
              "      <td>0</td>\n",
              "    </tr>\n",
              "    <tr>\n",
              "      <th>31</th>\n",
              "      <td>MALUKU UTARA</td>\n",
              "      <td>4.92</td>\n",
              "      <td>33.87</td>\n",
              "      <td>68.49</td>\n",
              "      <td>1</td>\n",
              "    </tr>\n",
              "    <tr>\n",
              "      <th>32</th>\n",
              "      <td>PAPUA BARAT</td>\n",
              "      <td>-0.77</td>\n",
              "      <td>42.02</td>\n",
              "      <td>65.09</td>\n",
              "      <td>0</td>\n",
              "    </tr>\n",
              "    <tr>\n",
              "      <th>33</th>\n",
              "      <td>PAPUA</td>\n",
              "      <td>2.32</td>\n",
              "      <td>20.08</td>\n",
              "      <td>60.44</td>\n",
              "      <td>1</td>\n",
              "    </tr>\n",
              "  </tbody>\n",
              "</table>\n",
              "</div>"
            ],
            "text/plain": [
              "                PROVINSI  LajuPE  PersentaseTK    IPM  cluster\n",
              "0                   ACEH   -0.37         38.12  71.99        0\n",
              "1         SUMATERA UTARA   -1.07         40.38  71.77        0\n",
              "2         SUMATERA BARAT   -1.60         33.72  72.38        0\n",
              "3                   RIAU   -1.12         44.03  72.71        0\n",
              "4                  JAMBI   -0.46         37.26  71.29        0\n",
              "5       SUMATERA SELATAN   -0.11         34.74  70.01        0\n",
              "6               BENGKULU   -0.02         30.77  71.40        0\n",
              "7                LAMPUNG   -1.67         27.74  69.69        0\n",
              "8   KEP. BANGKA BELITUNG   -2.30         47.07  71.47        0\n",
              "9              KEP. RIAU   -3.80         64.59  75.59        2\n",
              "10           DKI JAKARTA   -2.36         61.78  80.77        2\n",
              "11            JAWA BARAT   -2.44         44.41  72.09        0\n",
              "12           JAWA TENGAH   -2.65         37.25  71.87        0\n",
              "13         DI YOGYAKARTA   -2.69         42.59  79.97        2\n",
              "14            JAWA TIMUR   -2.39         36.36  71.71        0\n",
              "15                BANTEN   -3.38         50.83  72.45        2\n",
              "16                  BALI   -9.31         43.31  75.50        2\n",
              "17   NUSA TENGGARA BARAT   -0.64         26.53  68.25        1\n",
              "18   NUSA TENGGARA TIMUR   -0.83         23.90  65.19        1\n",
              "19      KALIMANTAN BARAT   -1.82         36.99  67.66        0\n",
              "20     KALIMANTAN TENGAH   -1.40         44.20  71.05        0\n",
              "21    KALIMANTAN SELATAN   -1.81         39.18  70.91        0\n",
              "22      KALIMANTAN TIMUR   -2.85         52.86  76.24        2\n",
              "23      KALIMANTAN UTARA   -1.11         49.07  70.63        0\n",
              "24        SULAWESI UTARA   -0.99         39.54  72.93        0\n",
              "25       SULAWESI TENGAH    4.86         32.63  69.55        1\n",
              "26      SULAWESI SELATAN   -0.70         35.78  71.93        0\n",
              "27     SULAWESI TENGGARA   -0.65         35.41  71.45        0\n",
              "28             GORONTALO   -0.02         37.88  68.68        0\n",
              "29        SULAWESI BARAT   -2.42         27.37  66.11        1\n",
              "30                MALUKU   -0.92         33.44  69.49        0\n",
              "31          MALUKU UTARA    4.92         33.87  68.49        1\n",
              "32           PAPUA BARAT   -0.77         42.02  65.09        0\n",
              "33                 PAPUA    2.32         20.08  60.44        1"
            ]
          },
          "execution_count": 35,
          "metadata": {},
          "output_type": "execute_result"
        }
      ],
      "source": [
        "ekonomi['cluster'] = kmeans.labels_\n",
        "ekonomi"
      ]
    },
    {
      "cell_type": "code",
      "execution_count": 36,
      "metadata": {},
      "outputs": [],
      "source": [
        "ekonomi.to_csv(\"2020hasil.csv\")"
      ]
    },
    {
      "cell_type": "code",
      "execution_count": 1,
      "metadata": {},
      "outputs": [],
      "source": [
        "import pandas as pd"
      ]
    },
    {
      "cell_type": "code",
      "execution_count": 3,
      "metadata": {},
      "outputs": [],
      "source": [
        "application = pd.read_csv('C:/Users/ASUS/Downloads/application_record.csv')\n",
        "credit = pd.read_csv('C:/Users/ASUS/Downloads/credit_record.csv')"
      ]
    },
    {
      "cell_type": "code",
      "execution_count": 9,
      "metadata": {},
      "outputs": [
        {
          "data": {
            "text/html": [
              "<div>\n",
              "<style scoped>\n",
              "    .dataframe tbody tr th:only-of-type {\n",
              "        vertical-align: middle;\n",
              "    }\n",
              "\n",
              "    .dataframe tbody tr th {\n",
              "        vertical-align: top;\n",
              "    }\n",
              "\n",
              "    .dataframe thead th {\n",
              "        text-align: right;\n",
              "    }\n",
              "</style>\n",
              "<table border=\"1\" class=\"dataframe\">\n",
              "  <thead>\n",
              "    <tr style=\"text-align: right;\">\n",
              "      <th></th>\n",
              "      <th>ID</th>\n",
              "      <th>CODE_GENDER</th>\n",
              "      <th>FLAG_OWN_CAR</th>\n",
              "      <th>FLAG_OWN_REALTY</th>\n",
              "      <th>CNT_CHILDREN</th>\n",
              "      <th>AMT_INCOME_TOTAL</th>\n",
              "      <th>NAME_INCOME_TYPE</th>\n",
              "      <th>NAME_EDUCATION_TYPE</th>\n",
              "      <th>NAME_FAMILY_STATUS</th>\n",
              "      <th>NAME_HOUSING_TYPE</th>\n",
              "      <th>DAYS_BIRTH</th>\n",
              "      <th>DAYS_EMPLOYED</th>\n",
              "      <th>FLAG_MOBIL</th>\n",
              "      <th>FLAG_WORK_PHONE</th>\n",
              "      <th>FLAG_PHONE</th>\n",
              "      <th>FLAG_EMAIL</th>\n",
              "      <th>OCCUPATION_TYPE</th>\n",
              "      <th>CNT_FAM_MEMBERS</th>\n",
              "    </tr>\n",
              "  </thead>\n",
              "  <tbody>\n",
              "    <tr>\n",
              "      <th>186636</th>\n",
              "      <td>5861133</td>\n",
              "      <td>F</td>\n",
              "      <td>N</td>\n",
              "      <td>Y</td>\n",
              "      <td>0</td>\n",
              "      <td>166500.0</td>\n",
              "      <td>Working</td>\n",
              "      <td>Secondary / secondary special</td>\n",
              "      <td>Married</td>\n",
              "      <td>Office apartment</td>\n",
              "      <td>-18986</td>\n",
              "      <td>-2246</td>\n",
              "      <td>1</td>\n",
              "      <td>0</td>\n",
              "      <td>0</td>\n",
              "      <td>0</td>\n",
              "      <td>Medicine staff</td>\n",
              "      <td>2.0</td>\n",
              "    </tr>\n",
              "    <tr>\n",
              "      <th>141471</th>\n",
              "      <td>5678230</td>\n",
              "      <td>F</td>\n",
              "      <td>N</td>\n",
              "      <td>Y</td>\n",
              "      <td>0</td>\n",
              "      <td>96750.0</td>\n",
              "      <td>Pensioner</td>\n",
              "      <td>Secondary / secondary special</td>\n",
              "      <td>Married</td>\n",
              "      <td>House / apartment</td>\n",
              "      <td>-23154</td>\n",
              "      <td>365243</td>\n",
              "      <td>1</td>\n",
              "      <td>0</td>\n",
              "      <td>0</td>\n",
              "      <td>0</td>\n",
              "      <td>NaN</td>\n",
              "      <td>2.0</td>\n",
              "    </tr>\n",
              "    <tr>\n",
              "      <th>384110</th>\n",
              "      <td>6618751</td>\n",
              "      <td>F</td>\n",
              "      <td>Y</td>\n",
              "      <td>N</td>\n",
              "      <td>0</td>\n",
              "      <td>166500.0</td>\n",
              "      <td>Pensioner</td>\n",
              "      <td>Secondary / secondary special</td>\n",
              "      <td>Married</td>\n",
              "      <td>House / apartment</td>\n",
              "      <td>-23013</td>\n",
              "      <td>365243</td>\n",
              "      <td>1</td>\n",
              "      <td>0</td>\n",
              "      <td>1</td>\n",
              "      <td>0</td>\n",
              "      <td>NaN</td>\n",
              "      <td>2.0</td>\n",
              "    </tr>\n",
              "    <tr>\n",
              "      <th>108743</th>\n",
              "      <td>5465001</td>\n",
              "      <td>F</td>\n",
              "      <td>N</td>\n",
              "      <td>Y</td>\n",
              "      <td>0</td>\n",
              "      <td>157500.0</td>\n",
              "      <td>Working</td>\n",
              "      <td>Secondary / secondary special</td>\n",
              "      <td>Married</td>\n",
              "      <td>House / apartment</td>\n",
              "      <td>-23664</td>\n",
              "      <td>-2254</td>\n",
              "      <td>1</td>\n",
              "      <td>0</td>\n",
              "      <td>0</td>\n",
              "      <td>0</td>\n",
              "      <td>NaN</td>\n",
              "      <td>2.0</td>\n",
              "    </tr>\n",
              "    <tr>\n",
              "      <th>436997</th>\n",
              "      <td>6124123</td>\n",
              "      <td>F</td>\n",
              "      <td>N</td>\n",
              "      <td>Y</td>\n",
              "      <td>0</td>\n",
              "      <td>112500.0</td>\n",
              "      <td>Pensioner</td>\n",
              "      <td>Secondary / secondary special</td>\n",
              "      <td>Married</td>\n",
              "      <td>House / apartment</td>\n",
              "      <td>-22822</td>\n",
              "      <td>365243</td>\n",
              "      <td>1</td>\n",
              "      <td>0</td>\n",
              "      <td>0</td>\n",
              "      <td>0</td>\n",
              "      <td>NaN</td>\n",
              "      <td>2.0</td>\n",
              "    </tr>\n",
              "  </tbody>\n",
              "</table>\n",
              "</div>"
            ],
            "text/plain": [
              "             ID CODE_GENDER FLAG_OWN_CAR FLAG_OWN_REALTY  CNT_CHILDREN  \\\n",
              "186636  5861133           F            N               Y             0   \n",
              "141471  5678230           F            N               Y             0   \n",
              "384110  6618751           F            Y               N             0   \n",
              "108743  5465001           F            N               Y             0   \n",
              "436997  6124123           F            N               Y             0   \n",
              "\n",
              "        AMT_INCOME_TOTAL NAME_INCOME_TYPE            NAME_EDUCATION_TYPE  \\\n",
              "186636          166500.0          Working  Secondary / secondary special   \n",
              "141471           96750.0        Pensioner  Secondary / secondary special   \n",
              "384110          166500.0        Pensioner  Secondary / secondary special   \n",
              "108743          157500.0          Working  Secondary / secondary special   \n",
              "436997          112500.0        Pensioner  Secondary / secondary special   \n",
              "\n",
              "       NAME_FAMILY_STATUS  NAME_HOUSING_TYPE  DAYS_BIRTH  DAYS_EMPLOYED  \\\n",
              "186636            Married   Office apartment      -18986          -2246   \n",
              "141471            Married  House / apartment      -23154         365243   \n",
              "384110            Married  House / apartment      -23013         365243   \n",
              "108743            Married  House / apartment      -23664          -2254   \n",
              "436997            Married  House / apartment      -22822         365243   \n",
              "\n",
              "        FLAG_MOBIL  FLAG_WORK_PHONE  FLAG_PHONE  FLAG_EMAIL OCCUPATION_TYPE  \\\n",
              "186636           1                0           0           0  Medicine staff   \n",
              "141471           1                0           0           0             NaN   \n",
              "384110           1                0           1           0             NaN   \n",
              "108743           1                0           0           0             NaN   \n",
              "436997           1                0           0           0             NaN   \n",
              "\n",
              "        CNT_FAM_MEMBERS  \n",
              "186636              2.0  \n",
              "141471              2.0  \n",
              "384110              2.0  \n",
              "108743              2.0  \n",
              "436997              2.0  "
            ]
          },
          "execution_count": 9,
          "metadata": {},
          "output_type": "execute_result"
        }
      ],
      "source": [
        "application.sample(5)"
      ]
    },
    {
      "cell_type": "code",
      "execution_count": 11,
      "metadata": {},
      "outputs": [
        {
          "name": "stdout",
          "output_type": "stream",
          "text": [
            "<class 'pandas.core.frame.DataFrame'>\n",
            "RangeIndex: 438557 entries, 0 to 438556\n",
            "Data columns (total 18 columns):\n",
            " #   Column               Non-Null Count   Dtype  \n",
            "---  ------               --------------   -----  \n",
            " 0   ID                   438557 non-null  int64  \n",
            " 1   CODE_GENDER          438557 non-null  object \n",
            " 2   FLAG_OWN_CAR         438557 non-null  object \n",
            " 3   FLAG_OWN_REALTY      438557 non-null  object \n",
            " 4   CNT_CHILDREN         438557 non-null  int64  \n",
            " 5   AMT_INCOME_TOTAL     438557 non-null  float64\n",
            " 6   NAME_INCOME_TYPE     438557 non-null  object \n",
            " 7   NAME_EDUCATION_TYPE  438557 non-null  object \n",
            " 8   NAME_FAMILY_STATUS   438557 non-null  object \n",
            " 9   NAME_HOUSING_TYPE    438557 non-null  object \n",
            " 10  DAYS_BIRTH           438557 non-null  int64  \n",
            " 11  DAYS_EMPLOYED        438557 non-null  int64  \n",
            " 12  FLAG_MOBIL           438557 non-null  int64  \n",
            " 13  FLAG_WORK_PHONE      438557 non-null  int64  \n",
            " 14  FLAG_PHONE           438557 non-null  int64  \n",
            " 15  FLAG_EMAIL           438557 non-null  int64  \n",
            " 16  OCCUPATION_TYPE      304354 non-null  object \n",
            " 17  CNT_FAM_MEMBERS      438557 non-null  float64\n",
            "dtypes: float64(2), int64(8), object(8)\n",
            "memory usage: 60.2+ MB\n"
          ]
        }
      ],
      "source": [
        "application.info()"
      ]
    }
  ],
  "metadata": {
    "colab": {
      "collapsed_sections": [],
      "name": "8.Analisis Regresi.ipynb",
      "provenance": []
    },
    "kernelspec": {
      "display_name": "Python 3",
      "name": "python3"
    },
    "language_info": {
      "codemirror_mode": {
        "name": "ipython",
        "version": 3
      },
      "file_extension": ".py",
      "mimetype": "text/x-python",
      "name": "python",
      "nbconvert_exporter": "python",
      "pygments_lexer": "ipython3",
      "version": "3.8.8"
    }
  },
  "nbformat": 4,
  "nbformat_minor": 0
}
